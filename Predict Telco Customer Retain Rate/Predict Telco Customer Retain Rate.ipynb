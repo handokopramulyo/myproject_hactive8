{
  "cells": [
    {
      "cell_type": "markdown",
      "metadata": {},
      "source": [
        "# Phase 2 Milestone 1"
      ]
    },
    {
      "cell_type": "markdown",
      "metadata": {
        "id": "eJmhTvjTLOKL"
      },
      "source": [
        "# A. Introduction"
      ]
    },
    {
      "cell_type": "markdown",
      "metadata": {},
      "source": [
        "by Handoko Pramulyo | Batch : FTDS-014\n",
        "\n",
        "Konteks pada case ini adalah \"Predict behavior to retain customers, berdasarkan beberapa feature dari para pelanggan tersebut\". Kumpulan data mencakup informasi mengenai pelanggan yang pergi dalam sebulan terakhir, layanan yang telah didaftarkan oleh setiap pelanggan seperti telepon, banyak saluran, internet, keamanan online, pencadangan online, perlindungan perangkat, dukungan teknis, serta streaming TV dan film. Adapun selain itu informasi lainnnya adalah terkait akun pelanggan seperti sudah berapa lama mereka menjadi pelanggan, kontrak, metode pembayaran, tagihan tanpa kertas, tagihan bulanan, dan total tagihan. Kemudian yang terkahir adalah info demografis tentang pelanggan – jenis kelamin, rentang usia, dan jika mereka memiliki pasangan dan tanggungan.\n",
        "\n",
        "Source of data : https://www.kaggle.com/datasets/blastchar/telco-customer-churn\n",
        "\n",
        "Deployment app link : https://frontend-bismillah.herokuapp.com/\n",
        "\n",
        "Objective : `Membuat model classification dgn ANN pada dataset` **Telco Customer Churn** `, Label : Churn`"
      ]
    },
    {
      "cell_type": "markdown",
      "metadata": {},
      "source": [
        "# B. Library"
      ]
    },
    {
      "cell_type": "code",
      "execution_count": 2,
      "metadata": {},
      "outputs": [],
      "source": [
        "# basic Library\n",
        "import pandas as pd\n",
        "import numpy as np \n",
        "# Library for creating chart\n",
        "import seaborn as sns\n",
        "import matplotlib.pyplot as plt \n",
        "# Library from sklearn\n",
        "from sklearn.model_selection import train_test_split \n",
        "from sklearn.preprocessing import StandardScaler, MinMaxScaler, RobustScaler, OneHotEncoder\n",
        "from sklearn.metrics import accuracy_score, confusion_matrix, ConfusionMatrixDisplay, classification_report\n",
        "from sklearn.pipeline import make_pipeline\n",
        "from sklearn.compose import ColumnTransformer\n",
        "# Library from tensorflow (creating the model for ANN)\n",
        "import tensorflow as tf\n",
        "from tensorflow import keras\n",
        "# Library for handling imbalanced target\n",
        "from imblearn.over_sampling import SMOTENC\n",
        "# Library for handling outliers\n",
        "from feature_engine.outliers import Winsorizer\n",
        "# Library for saving & loading\n",
        "import pickle # create pipeline data: preprocessor\n",
        "import requests # request from URL \n",
        "import json # load file\n",
        "import joblib\n",
        "\n",
        "# Define plot style\n",
        "plt.style.use('ggplot')"
      ]
    },
    {
      "cell_type": "markdown",
      "metadata": {},
      "source": [
        "Pada case Machine Learning ini, library yang akan digunakan adalah scikit-learn & tensorflow (Machine Learning library in Python), library yang dedicated dibuat untuk Machine Learning & ANN. Simple and efficient tools for predictive data analysis, Accessible to everybody, and reusable in various contexts, Built on NumPy, SciPy, and matplotlib, Open source, dan sekaligus commercially usable. OK, lets proceed to the next part."
      ]
    },
    {
      "cell_type": "markdown",
      "metadata": {
        "id": "pi8FD5OCMRiT"
      },
      "source": [
        "# C. Data Loading"
      ]
    },
    {
      "cell_type": "markdown",
      "metadata": {},
      "source": [
        "Pada bagian ini, kita akan coba isi dengan proses penyiapan data (pd read) sebelum dilakukan eksplorasi data lebih lanjut (atau yang biasa disebut dengan EDA). Proses Data Loading dapat berupa memberi nama baru untuk setiap kolom (opsional), melihat gambaran umum dari data, mengecek ukuran dataset, dll."
      ]
    },
    {
      "cell_type": "code",
      "execution_count": 3,
      "metadata": {},
      "outputs": [
        {
          "data": {
            "text/html": [
              "<div>\n",
              "<style scoped>\n",
              "    .dataframe tbody tr th:only-of-type {\n",
              "        vertical-align: middle;\n",
              "    }\n",
              "\n",
              "    .dataframe tbody tr th {\n",
              "        vertical-align: top;\n",
              "    }\n",
              "\n",
              "    .dataframe thead th {\n",
              "        text-align: right;\n",
              "    }\n",
              "</style>\n",
              "<table border=\"1\" class=\"dataframe\">\n",
              "  <thead>\n",
              "    <tr style=\"text-align: right;\">\n",
              "      <th></th>\n",
              "      <th>customerID</th>\n",
              "      <th>gender</th>\n",
              "      <th>SeniorCitizen</th>\n",
              "      <th>Partner</th>\n",
              "      <th>Dependents</th>\n",
              "      <th>tenure</th>\n",
              "      <th>PhoneService</th>\n",
              "      <th>MultipleLines</th>\n",
              "      <th>InternetService</th>\n",
              "      <th>OnlineSecurity</th>\n",
              "      <th>...</th>\n",
              "      <th>DeviceProtection</th>\n",
              "      <th>TechSupport</th>\n",
              "      <th>StreamingTV</th>\n",
              "      <th>StreamingMovies</th>\n",
              "      <th>Contract</th>\n",
              "      <th>PaperlessBilling</th>\n",
              "      <th>PaymentMethod</th>\n",
              "      <th>MonthlyCharges</th>\n",
              "      <th>TotalCharges</th>\n",
              "      <th>Churn</th>\n",
              "    </tr>\n",
              "  </thead>\n",
              "  <tbody>\n",
              "    <tr>\n",
              "      <th>0</th>\n",
              "      <td>7590-VHVEG</td>\n",
              "      <td>Female</td>\n",
              "      <td>0</td>\n",
              "      <td>Yes</td>\n",
              "      <td>No</td>\n",
              "      <td>1</td>\n",
              "      <td>No</td>\n",
              "      <td>No phone service</td>\n",
              "      <td>DSL</td>\n",
              "      <td>No</td>\n",
              "      <td>...</td>\n",
              "      <td>No</td>\n",
              "      <td>No</td>\n",
              "      <td>No</td>\n",
              "      <td>No</td>\n",
              "      <td>Month-to-month</td>\n",
              "      <td>Yes</td>\n",
              "      <td>Electronic check</td>\n",
              "      <td>29.85</td>\n",
              "      <td>29.85</td>\n",
              "      <td>No</td>\n",
              "    </tr>\n",
              "    <tr>\n",
              "      <th>1</th>\n",
              "      <td>5575-GNVDE</td>\n",
              "      <td>Male</td>\n",
              "      <td>0</td>\n",
              "      <td>No</td>\n",
              "      <td>No</td>\n",
              "      <td>34</td>\n",
              "      <td>Yes</td>\n",
              "      <td>No</td>\n",
              "      <td>DSL</td>\n",
              "      <td>Yes</td>\n",
              "      <td>...</td>\n",
              "      <td>Yes</td>\n",
              "      <td>No</td>\n",
              "      <td>No</td>\n",
              "      <td>No</td>\n",
              "      <td>One year</td>\n",
              "      <td>No</td>\n",
              "      <td>Mailed check</td>\n",
              "      <td>56.95</td>\n",
              "      <td>1889.5</td>\n",
              "      <td>No</td>\n",
              "    </tr>\n",
              "    <tr>\n",
              "      <th>2</th>\n",
              "      <td>3668-QPYBK</td>\n",
              "      <td>Male</td>\n",
              "      <td>0</td>\n",
              "      <td>No</td>\n",
              "      <td>No</td>\n",
              "      <td>2</td>\n",
              "      <td>Yes</td>\n",
              "      <td>No</td>\n",
              "      <td>DSL</td>\n",
              "      <td>Yes</td>\n",
              "      <td>...</td>\n",
              "      <td>No</td>\n",
              "      <td>No</td>\n",
              "      <td>No</td>\n",
              "      <td>No</td>\n",
              "      <td>Month-to-month</td>\n",
              "      <td>Yes</td>\n",
              "      <td>Mailed check</td>\n",
              "      <td>53.85</td>\n",
              "      <td>108.15</td>\n",
              "      <td>Yes</td>\n",
              "    </tr>\n",
              "  </tbody>\n",
              "</table>\n",
              "<p>3 rows × 21 columns</p>\n",
              "</div>"
            ],
            "text/plain": [
              "   customerID  gender  SeniorCitizen Partner Dependents  tenure PhoneService  \\\n",
              "0  7590-VHVEG  Female              0     Yes         No       1           No   \n",
              "1  5575-GNVDE    Male              0      No         No      34          Yes   \n",
              "2  3668-QPYBK    Male              0      No         No       2          Yes   \n",
              "\n",
              "      MultipleLines InternetService OnlineSecurity  ... DeviceProtection  \\\n",
              "0  No phone service             DSL             No  ...               No   \n",
              "1                No             DSL            Yes  ...              Yes   \n",
              "2                No             DSL            Yes  ...               No   \n",
              "\n",
              "  TechSupport StreamingTV StreamingMovies        Contract PaperlessBilling  \\\n",
              "0          No          No              No  Month-to-month              Yes   \n",
              "1          No          No              No        One year               No   \n",
              "2          No          No              No  Month-to-month              Yes   \n",
              "\n",
              "      PaymentMethod MonthlyCharges  TotalCharges Churn  \n",
              "0  Electronic check          29.85         29.85    No  \n",
              "1      Mailed check          56.95        1889.5    No  \n",
              "2      Mailed check          53.85        108.15   Yes  \n",
              "\n",
              "[3 rows x 21 columns]"
            ]
          },
          "execution_count": 3,
          "metadata": {},
          "output_type": "execute_result"
        }
      ],
      "source": [
        "# Load Dataset \n",
        "data = pd.read_csv('telco_customer_churn.csv') # Read CSV file\n",
        "# data = pd.read_excel('filename.xlsx', index_col=None, header=None) # # Read Excel file\n",
        "data.head(3)"
      ]
    },
    {
      "cell_type": "code",
      "execution_count": 4,
      "metadata": {},
      "outputs": [
        {
          "data": {
            "text/html": [
              "<div>\n",
              "<style scoped>\n",
              "    .dataframe tbody tr th:only-of-type {\n",
              "        vertical-align: middle;\n",
              "    }\n",
              "\n",
              "    .dataframe tbody tr th {\n",
              "        vertical-align: top;\n",
              "    }\n",
              "\n",
              "    .dataframe thead th {\n",
              "        text-align: right;\n",
              "    }\n",
              "</style>\n",
              "<table border=\"1\" class=\"dataframe\">\n",
              "  <thead>\n",
              "    <tr style=\"text-align: right;\">\n",
              "      <th></th>\n",
              "      <th>customerID</th>\n",
              "      <th>gender</th>\n",
              "      <th>SeniorCitizen</th>\n",
              "      <th>Partner</th>\n",
              "      <th>Dependents</th>\n",
              "      <th>tenure</th>\n",
              "      <th>PhoneService</th>\n",
              "      <th>MultipleLines</th>\n",
              "      <th>InternetService</th>\n",
              "      <th>OnlineSecurity</th>\n",
              "      <th>...</th>\n",
              "      <th>DeviceProtection</th>\n",
              "      <th>TechSupport</th>\n",
              "      <th>StreamingTV</th>\n",
              "      <th>StreamingMovies</th>\n",
              "      <th>Contract</th>\n",
              "      <th>PaperlessBilling</th>\n",
              "      <th>PaymentMethod</th>\n",
              "      <th>MonthlyCharges</th>\n",
              "      <th>TotalCharges</th>\n",
              "      <th>Churn</th>\n",
              "    </tr>\n",
              "  </thead>\n",
              "  <tbody>\n",
              "    <tr>\n",
              "      <th>7040</th>\n",
              "      <td>4801-JZAZL</td>\n",
              "      <td>Female</td>\n",
              "      <td>0</td>\n",
              "      <td>Yes</td>\n",
              "      <td>Yes</td>\n",
              "      <td>11</td>\n",
              "      <td>No</td>\n",
              "      <td>No phone service</td>\n",
              "      <td>DSL</td>\n",
              "      <td>Yes</td>\n",
              "      <td>...</td>\n",
              "      <td>No</td>\n",
              "      <td>No</td>\n",
              "      <td>No</td>\n",
              "      <td>No</td>\n",
              "      <td>Month-to-month</td>\n",
              "      <td>Yes</td>\n",
              "      <td>Electronic check</td>\n",
              "      <td>29.60</td>\n",
              "      <td>346.45</td>\n",
              "      <td>No</td>\n",
              "    </tr>\n",
              "    <tr>\n",
              "      <th>7041</th>\n",
              "      <td>8361-LTMKD</td>\n",
              "      <td>Male</td>\n",
              "      <td>1</td>\n",
              "      <td>Yes</td>\n",
              "      <td>No</td>\n",
              "      <td>4</td>\n",
              "      <td>Yes</td>\n",
              "      <td>Yes</td>\n",
              "      <td>Fiber optic</td>\n",
              "      <td>No</td>\n",
              "      <td>...</td>\n",
              "      <td>No</td>\n",
              "      <td>No</td>\n",
              "      <td>No</td>\n",
              "      <td>No</td>\n",
              "      <td>Month-to-month</td>\n",
              "      <td>Yes</td>\n",
              "      <td>Mailed check</td>\n",
              "      <td>74.40</td>\n",
              "      <td>306.6</td>\n",
              "      <td>Yes</td>\n",
              "    </tr>\n",
              "    <tr>\n",
              "      <th>7042</th>\n",
              "      <td>3186-AJIEK</td>\n",
              "      <td>Male</td>\n",
              "      <td>0</td>\n",
              "      <td>No</td>\n",
              "      <td>No</td>\n",
              "      <td>66</td>\n",
              "      <td>Yes</td>\n",
              "      <td>No</td>\n",
              "      <td>Fiber optic</td>\n",
              "      <td>Yes</td>\n",
              "      <td>...</td>\n",
              "      <td>Yes</td>\n",
              "      <td>Yes</td>\n",
              "      <td>Yes</td>\n",
              "      <td>Yes</td>\n",
              "      <td>Two year</td>\n",
              "      <td>Yes</td>\n",
              "      <td>Bank transfer (automatic)</td>\n",
              "      <td>105.65</td>\n",
              "      <td>6844.5</td>\n",
              "      <td>No</td>\n",
              "    </tr>\n",
              "  </tbody>\n",
              "</table>\n",
              "<p>3 rows × 21 columns</p>\n",
              "</div>"
            ],
            "text/plain": [
              "      customerID  gender  SeniorCitizen Partner Dependents  tenure  \\\n",
              "7040  4801-JZAZL  Female              0     Yes        Yes      11   \n",
              "7041  8361-LTMKD    Male              1     Yes         No       4   \n",
              "7042  3186-AJIEK    Male              0      No         No      66   \n",
              "\n",
              "     PhoneService     MultipleLines InternetService OnlineSecurity  ...  \\\n",
              "7040           No  No phone service             DSL            Yes  ...   \n",
              "7041          Yes               Yes     Fiber optic             No  ...   \n",
              "7042          Yes                No     Fiber optic            Yes  ...   \n",
              "\n",
              "     DeviceProtection TechSupport StreamingTV StreamingMovies        Contract  \\\n",
              "7040               No          No          No              No  Month-to-month   \n",
              "7041               No          No          No              No  Month-to-month   \n",
              "7042              Yes         Yes         Yes             Yes        Two year   \n",
              "\n",
              "     PaperlessBilling              PaymentMethod MonthlyCharges  TotalCharges  \\\n",
              "7040              Yes           Electronic check          29.60        346.45   \n",
              "7041              Yes               Mailed check          74.40         306.6   \n",
              "7042              Yes  Bank transfer (automatic)         105.65        6844.5   \n",
              "\n",
              "     Churn  \n",
              "7040    No  \n",
              "7041   Yes  \n",
              "7042    No  \n",
              "\n",
              "[3 rows x 21 columns]"
            ]
          },
          "execution_count": 4,
          "metadata": {},
          "output_type": "execute_result"
        }
      ],
      "source": [
        "data.tail(3)"
      ]
    },
    {
      "cell_type": "markdown",
      "metadata": {},
      "source": [
        "Data observasi OKE (lebih dari 50 jumlah observasi --> based on sclearn recommendation) dengan jumlah feature yang proporsional, maka yang bisa kita artikan bahwa model yang akan dibuat 'most likely' low possibility untuk overfit (due to low variance which is good. ```Additional conclusion based on least square``` Jennifer Zhao in medium.com)."
      ]
    },
    {
      "cell_type": "code",
      "execution_count": 5,
      "metadata": {},
      "outputs": [
        {
          "name": "stdout",
          "output_type": "stream",
          "text": [
            "<class 'pandas.core.frame.DataFrame'>\n",
            "RangeIndex: 7043 entries, 0 to 7042\n",
            "Data columns (total 21 columns):\n",
            " #   Column            Non-Null Count  Dtype  \n",
            "---  ------            --------------  -----  \n",
            " 0   customerID        7043 non-null   object \n",
            " 1   gender            7043 non-null   object \n",
            " 2   SeniorCitizen     7043 non-null   int64  \n",
            " 3   Partner           7043 non-null   object \n",
            " 4   Dependents        7043 non-null   object \n",
            " 5   tenure            7043 non-null   int64  \n",
            " 6   PhoneService      7043 non-null   object \n",
            " 7   MultipleLines     7043 non-null   object \n",
            " 8   InternetService   7043 non-null   object \n",
            " 9   OnlineSecurity    7043 non-null   object \n",
            " 10  OnlineBackup      7043 non-null   object \n",
            " 11  DeviceProtection  7043 non-null   object \n",
            " 12  TechSupport       7043 non-null   object \n",
            " 13  StreamingTV       7043 non-null   object \n",
            " 14  StreamingMovies   7043 non-null   object \n",
            " 15  Contract          7043 non-null   object \n",
            " 16  PaperlessBilling  7043 non-null   object \n",
            " 17  PaymentMethod     7043 non-null   object \n",
            " 18  MonthlyCharges    7043 non-null   float64\n",
            " 19  TotalCharges      7043 non-null   object \n",
            " 20  Churn             7043 non-null   object \n",
            "dtypes: float64(1), int64(2), object(18)\n",
            "memory usage: 1.1+ MB\n"
          ]
        }
      ],
      "source": [
        "# Duplicate Dataset\n",
        "data_copy = data.copy()\n",
        "label_name = 'Churn'\n",
        "# Check Dataset\n",
        "# looking up for missing value\n",
        "# Understanding the dataset Dtype)\n",
        "data.info()"
      ]
    },
    {
      "cell_type": "markdown",
      "metadata": {},
      "source": [
        "**Dataset terdiri dari int, float dan object.** Untuk sementara, no nulled data found just yet! Let's see a little bit deeper for each unique data. Objective: mempelajari kesesuaian antara tipe data dan data yang terdapat pada kolom tersebut (menghindari data int yang tersimpan as string, vise versa, dll) "
      ]
    },
    {
      "cell_type": "code",
      "execution_count": 6,
      "metadata": {},
      "outputs": [
        {
          "name": "stdout",
          "output_type": "stream",
          "text": [
            "['Female' 'Male']\n",
            "['Yes' 'No']\n",
            "['No' 'Yes']\n",
            "['No' 'Yes']\n",
            "['No phone service' 'No' 'Yes']\n",
            "['DSL' 'Fiber optic' 'No']\n",
            "['No' 'Yes' 'No internet service']\n",
            "['Yes' 'No' 'No internet service']\n",
            "['No' 'Yes' 'No internet service']\n",
            "['No' 'Yes' 'No internet service']\n",
            "['No' 'Yes' 'No internet service']\n",
            "['No' 'Yes' 'No internet service']\n",
            "['Month-to-month' 'One year' 'Two year']\n",
            "['Yes' 'No']\n",
            "['Electronic check' 'Mailed check' 'Bank transfer (automatic)'\n",
            " 'Credit card (automatic)']\n",
            "['29.85' '1889.5' '108.15' ... '346.45' '306.6' '6844.5']\n",
            "['No' 'Yes']\n"
          ]
        }
      ],
      "source": [
        "print(data['gender'].unique())\n",
        "print(data['Partner'].unique())\n",
        "print(data['Dependents'].unique())\n",
        "print(data['PhoneService'].unique())\n",
        "print(data['MultipleLines'].unique())\n",
        "print(data['InternetService'].unique())\n",
        "print(data['OnlineSecurity'].unique())\n",
        "print(data['OnlineBackup'].unique())\n",
        "print(data['DeviceProtection'].unique())\n",
        "print(data['TechSupport'].unique())\n",
        "print(data['StreamingTV'].unique())\n",
        "print(data['StreamingMovies'].unique())\n",
        "print(data['Contract'].unique())\n",
        "print(data['PaperlessBilling'].unique())\n",
        "print(data['PaymentMethod'].unique())\n",
        "print(data['TotalCharges'].unique())\n",
        "print(data['Churn'].unique())"
      ]
    },
    {
      "cell_type": "markdown",
      "metadata": {},
      "source": [
        "Berdasarkan hasil pengamatan .info, maka dapat dilihat bahwa feature Churn masih dalam bentuk categorical yes dan no. Mengingat model ANN akan digunakan pada case ini (which we expect proba for the result of prediction), oleh karena itu jenis data pada target perlu diubah menjadi numerical terlebih dahulu. Kemudian perlu dilakukan juga konversi tipe data untuk feature SeniorCitizen (int into string) & TotalCharges (string into int) "
      ]
    },
    {
      "cell_type": "code",
      "execution_count": 7,
      "metadata": {},
      "outputs": [
        {
          "name": "stdout",
          "output_type": "stream",
          "text": [
            "<class 'pandas.core.series.Series'>\n",
            "RangeIndex: 7043 entries, 0 to 7042\n",
            "Series name: TotalCharges\n",
            "Non-Null Count  Dtype  \n",
            "--------------  -----  \n",
            "7032 non-null   float64\n",
            "dtypes: float64(1)\n",
            "memory usage: 55.1 KB\n"
          ]
        }
      ],
      "source": [
        "# TotalCharges DType convertion, from int into string\n",
        "data['SeniorCitizen'] = data['SeniorCitizen'].astype(str)\n",
        "data = data.replace({'SeniorCitizen' : { '1' : 'Yes', '0' : 'No'}})\n",
        "\n",
        "# Target DType convertion, from categorical into numerical (ANN porpose)\n",
        "data['Churn'] = pd.DataFrame(pd.Categorical(data['Churn']).codes)[0]\n",
        "data['Churn'] = np.asarray(data['Churn']).astype('int64').reshape((-1,1))\n",
        "\n",
        "# TotalCharges DType convertion, from string into numerical\n",
        "data['TotalCharges'] = pd.to_numeric(data['TotalCharges'], errors='coerce')\n",
        "data['TotalCharges'].info()\n",
        "\n",
        "# show all Nan in TotalCharges only\n",
        "# data[data.isna().any(axis=1)]"
      ]
    },
    {
      "cell_type": "code",
      "execution_count": 8,
      "metadata": {},
      "outputs": [
        {
          "data": {
            "text/html": [
              "<div>\n",
              "<style scoped>\n",
              "    .dataframe tbody tr th:only-of-type {\n",
              "        vertical-align: middle;\n",
              "    }\n",
              "\n",
              "    .dataframe tbody tr th {\n",
              "        vertical-align: top;\n",
              "    }\n",
              "\n",
              "    .dataframe thead th {\n",
              "        text-align: right;\n",
              "    }\n",
              "</style>\n",
              "<table border=\"1\" class=\"dataframe\">\n",
              "  <thead>\n",
              "    <tr style=\"text-align: right;\">\n",
              "      <th></th>\n",
              "      <th>tenure</th>\n",
              "      <th>MonthlyCharges</th>\n",
              "      <th>TotalCharges</th>\n",
              "      <th>Churn</th>\n",
              "    </tr>\n",
              "  </thead>\n",
              "  <tbody>\n",
              "    <tr>\n",
              "      <th>count</th>\n",
              "      <td>7043.000000</td>\n",
              "      <td>7043.000000</td>\n",
              "      <td>7032.000000</td>\n",
              "      <td>7043.000000</td>\n",
              "    </tr>\n",
              "    <tr>\n",
              "      <th>mean</th>\n",
              "      <td>32.371149</td>\n",
              "      <td>64.761692</td>\n",
              "      <td>2283.300441</td>\n",
              "      <td>0.265370</td>\n",
              "    </tr>\n",
              "    <tr>\n",
              "      <th>std</th>\n",
              "      <td>24.559481</td>\n",
              "      <td>30.090047</td>\n",
              "      <td>2266.771362</td>\n",
              "      <td>0.441561</td>\n",
              "    </tr>\n",
              "    <tr>\n",
              "      <th>min</th>\n",
              "      <td>0.000000</td>\n",
              "      <td>18.250000</td>\n",
              "      <td>18.800000</td>\n",
              "      <td>0.000000</td>\n",
              "    </tr>\n",
              "    <tr>\n",
              "      <th>25%</th>\n",
              "      <td>9.000000</td>\n",
              "      <td>35.500000</td>\n",
              "      <td>401.450000</td>\n",
              "      <td>0.000000</td>\n",
              "    </tr>\n",
              "    <tr>\n",
              "      <th>50%</th>\n",
              "      <td>29.000000</td>\n",
              "      <td>70.350000</td>\n",
              "      <td>1397.475000</td>\n",
              "      <td>0.000000</td>\n",
              "    </tr>\n",
              "    <tr>\n",
              "      <th>75%</th>\n",
              "      <td>55.000000</td>\n",
              "      <td>89.850000</td>\n",
              "      <td>3794.737500</td>\n",
              "      <td>1.000000</td>\n",
              "    </tr>\n",
              "    <tr>\n",
              "      <th>max</th>\n",
              "      <td>72.000000</td>\n",
              "      <td>118.750000</td>\n",
              "      <td>8684.800000</td>\n",
              "      <td>1.000000</td>\n",
              "    </tr>\n",
              "  </tbody>\n",
              "</table>\n",
              "</div>"
            ],
            "text/plain": [
              "            tenure  MonthlyCharges  TotalCharges        Churn\n",
              "count  7043.000000     7043.000000   7032.000000  7043.000000\n",
              "mean     32.371149       64.761692   2283.300441     0.265370\n",
              "std      24.559481       30.090047   2266.771362     0.441561\n",
              "min       0.000000       18.250000     18.800000     0.000000\n",
              "25%       9.000000       35.500000    401.450000     0.000000\n",
              "50%      29.000000       70.350000   1397.475000     0.000000\n",
              "75%      55.000000       89.850000   3794.737500     1.000000\n",
              "max      72.000000      118.750000   8684.800000     1.000000"
            ]
          },
          "execution_count": 8,
          "metadata": {},
          "output_type": "execute_result"
        }
      ],
      "source": [
        "# Check Dataset\n",
        "data.describe()"
      ]
    },
    {
      "cell_type": "markdown",
      "metadata": {},
      "source": [
        "Pada data tenure, rata-rata dari para pelanggan memiliki tenure sebesar ~32 dengan maksimal diangaka 72 dan minimum 0, artinya GAP antara pelanggan dari max sd min cukup jauh. Selain itu, jika kita bandingkan antara MonthlyCharges & MonthlyCharges, maka dapat dilihat bahwa ada beberapa pelanggan yang hanya berlangganan selama satu bulan saja (nilai minimum pada MonthlyCharges & MonthlyCharges overall hampir sama)."
      ]
    },
    {
      "cell_type": "markdown",
      "metadata": {},
      "source": [
        "# D. Exploratory Data Analysis (EDA)"
      ]
    },
    {
      "cell_type": "markdown",
      "metadata": {},
      "source": [
        "Bagian ini berisi eksplorasi data pada dataset yang sudah kita load pada bagian pertama dengan menggunakan query, grouping, dan visualisasi sederhana (lets find out something interesting within the data). ```Lets find correlation between numerical feature before proceed even further!```"
      ]
    },
    {
      "cell_type": "markdown",
      "metadata": {},
      "source": [
        "## D1. Features Analysis"
      ]
    },
    {
      "cell_type": "markdown",
      "metadata": {},
      "source": [
        "### Heatmap"
      ]
    },
    {
      "cell_type": "code",
      "execution_count": 9,
      "metadata": {},
      "outputs": [
        {
          "data": {
            "image/png": "[encoded data removed]",
            "text/plain": [
              "<Figure size 576x360 with 2 Axes>"
            ]
          },
          "metadata": {
            "needs_background": "light"
          },
          "output_type": "display_data"
        }
      ],
      "source": [
        "# Use a mask to plot only part of a matrix\n",
        "corr = data.corr()\n",
        "mask = np.zeros_like(corr)\n",
        "mask[np.triu_indices_from(mask)] = True\n",
        "# mask=mask (put this syntax into sns.heatmap argumen)\n",
        "\n",
        "plt.figure(figsize=(8, 5))\n",
        "sns.heatmap(corr, annot=True, vmin=0, vmax=1, cmap=\"Blues\", mask=mask)\n",
        "plt.title('Feature Heatmap')\n",
        "plt.xticks(rotation=0)\n",
        "plt.yticks(rotation=0)\n",
        "plt.show()"
      ]
    },
    {
      "cell_type": "markdown",
      "metadata": {},
      "source": [
        "Tidak ada feature dengan korelasi di antara -0.1 sd 0.1, so all numerical feature will be used for now."
      ]
    },
    {
      "cell_type": "markdown",
      "metadata": {},
      "source": [
        "### Chi Square"
      ]
    },
    {
      "cell_type": "code",
      "execution_count": 10,
      "metadata": {},
      "outputs": [
        {
          "name": "stdout",
          "output_type": "stream",
          "text": [
            "customerID p = 0.4944 Probably independent .... !\n",
            "gender p = 0.4866 Probably independent .... !\n",
            "SeniorCitizen p = 0.0000 Probably dependent\n",
            "Partner p = 0.0000 Probably dependent\n",
            "Dependents p = 0.0000 Probably dependent\n",
            "PhoneService p = 0.3388 Probably independent .... !\n",
            "MultipleLines p = 0.0035 Probably dependent\n",
            "InternetService p = 0.0000 Probably dependent\n",
            "OnlineSecurity p = 0.0000 Probably dependent\n",
            "OnlineBackup p = 0.0000 Probably dependent\n",
            "DeviceProtection p = 0.0000 Probably dependent\n",
            "TechSupport p = 0.0000 Probably dependent\n",
            "StreamingTV p = 0.0000 Probably dependent\n",
            "StreamingMovies p = 0.0000 Probably dependent\n",
            "Contract p = 0.0000 Probably dependent\n",
            "PaperlessBilling p = 0.0000 Probably dependent\n",
            "PaymentMethod p = 0.0000 Probably dependent\n"
          ]
        }
      ],
      "source": [
        "from scipy import stats\n",
        "chi_df = data.copy()\n",
        "\n",
        "# Show name of categorical columns\n",
        "chi_cols = data.select_dtypes(include=['object']).columns.tolist()\n",
        "\n",
        "# Create chi formula with loop \n",
        "for i in range(len(chi_cols)):\n",
        "    contingency_table = pd.crosstab(chi_df[chi_cols[i]],chi_df[\"Churn\"])\n",
        "    stat, p, dof, expected = stats.chi2_contingency(contingency_table)\n",
        "\n",
        "    if p > 0.05:\n",
        "        print(chi_cols[i], 'p = %.4f' % (p), 'Probably independent .... !')\n",
        "    else:\n",
        "        print(chi_cols[i], 'p = %.4f' % (p), 'Probably dependent')\n",
        "        "
      ]
    },
    {
      "cell_type": "markdown",
      "metadata": {},
      "source": [
        "Terdapat 3 features categorical yang nilai p nya lebih besar daro 0.05 (p-value threshold - 95 %), </br>\n",
        "yaitu `customerID, gender, dan PhoneService`."
      ]
    },
    {
      "cell_type": "markdown",
      "metadata": {},
      "source": [
        "## D1. Data Exploration"
      ]
    },
    {
      "cell_type": "code",
      "execution_count": 11,
      "metadata": {},
      "outputs": [
        {
          "data": {
            "image/png": "[encoded data removed]",
            "text/plain": [
              "<Figure size 1296x360 with 3 Axes>"
            ]
          },
          "metadata": {
            "needs_background": "light"
          },
          "output_type": "display_data"
        }
      ],
      "source": [
        "# Create Histogram and Scatter Plot\n",
        "plt.figure(figsize=(18, 5))\n",
        "\n",
        "plt.subplot(1, 3, 1), sns.histplot(data['tenure'], bins=20, kde=True), plt.title('tenure Histogram (Chart 1)')\n",
        "plt.subplot(1, 3, 2), sns.histplot(data['MonthlyCharges'], bins=20, kde=True), plt.title('MonthlyCharges Histogram (Chart 2)')\n",
        "plt.subplot(1, 3, 3), sns.histplot(data['TotalCharges'], bins=20, kde=True), plt.title('TotalCharges Histogram (Chart 3)')\n",
        "\n",
        "# set the spacing between subplots\n",
        "plt.subplots_adjust(wspace=0.2)\n",
        "\n",
        "plt.show()"
      ]
    },
    {
      "cell_type": "markdown",
      "metadata": {},
      "source": [
        "Chart 1) Sangat tidak disangka bahwa tenure (Number of months the customer has stayed with the company) para pelanggan sangat bervariasi, mulai dari 0 to 70, meskipun ada beberapa kecenderungan tenure yang lebih tinggi pada angka 0 sd 10 (pelanggan baru) kemudian di 65 sd 70 (pelanggan setia). Chart 2) Distribusi MonthlyCharges cukup unusual, terdapat jumlah yang sangat tinggi pada range 10 sd 30, besar kemungkinan bahwa pelanggan masih dalam masa trial atau uji coba services telco pada provider di dataset, dan jasa services telco gagal untuk membuat pelanggan sustain untuk terus berlangganan setelahnya (count GAP extreme decrease from 30 sd 40). Chart 3) Total charge (akumulasi) paling tinggi adalah sebesar > 8000, sedangkan untuk yang terendah adalah sebesar ~ 0 sd 1000. "
      ]
    },
    {
      "cell_type": "code",
      "execution_count": 12,
      "metadata": {},
      "outputs": [
        {
          "data": {
            "image/png": "[encoded data removed]",
            "text/plain": [
              "<Figure size 1296x432 with 4 Axes>"
            ]
          },
          "metadata": {
            "needs_background": "light"
          },
          "output_type": "display_data"
        }
      ],
      "source": [
        "# Create Histogram and Scatter Plot\n",
        "plt.figure(figsize=(18, 6))\n",
        "\n",
        "plt.subplot(1, 4, 1), sns.barplot(x='gender', y='Churn', data=data), plt.title('gender vs Churn (Chart 4)')\n",
        "plt.subplot(1, 4, 2), sns.barplot(x='SeniorCitizen', y='Churn', data=data), plt.title('SeniorCitizen vs Churn (Chart 5)')\n",
        "plt.subplot(1, 4, 3), sns.barplot(x='Partner', y='Churn', data=data), plt.title('Partner vs Churn (Chart 6)')\n",
        "plt.subplot(1, 4, 4), sns.barplot(x='Dependents', y='Churn', data=data), plt.title('Dependents vs Churn (Chart 7)')\n",
        "\n",
        "# set the spacing between subplots\n",
        "plt.subplots_adjust(wspace=0.3)\n",
        "\n",
        "plt.show()"
      ]
    },
    {
      "cell_type": "markdown",
      "metadata": {},
      "source": [
        "Terlihat bahwa baik pada Chart 4 sd 7, masing-masing feature cukup andil dalam mempengaruhi churn, namun ada juga beberapa feature yang tidak terlalu berpengaruh. Seperti pada gender, perbedaan female dan male vs Churn sangat kecil. Sedangkan untuk SeniorCitizen, partner, dan dependents, dapat terlihat bawha terdapat perbedaan data antara yes dan no pada setiap features. "
      ]
    },
    {
      "cell_type": "code",
      "execution_count": 13,
      "metadata": {},
      "outputs": [
        {
          "data": {
            "image/png": "[encoded data removed]",
            "text/plain": [
              "<Figure size 1296x432 with 4 Axes>"
            ]
          },
          "metadata": {
            "needs_background": "light"
          },
          "output_type": "display_data"
        }
      ],
      "source": [
        "# Create Histogram and Scatter Plot\n",
        "plt.figure(figsize=(18, 6))\n",
        "\n",
        "plt.subplot(1, 4, 1), sns.barplot(x='PhoneService', y='Churn', data=data), plt.title('PhoneService vs Churn (Chart 8)')\n",
        "plt.subplot(1, 4, 2), sns.barplot(x='MultipleLines', y='Churn', data=data), plt.title('MultipleLines vs Churn (Chart 9)')\n",
        "plt.subplot(1, 4, 3), sns.barplot(x='InternetService', y='Churn', data=data), plt.title('InternetService vs Churn (Chart 10)')\n",
        "plt.subplot(1, 4, 4), sns.barplot(x='OnlineSecurity', y='Churn', data=data), plt.title('OnlineSecurity vs Churn (Chart 11)')\n",
        "\n",
        "# set the spacing between subplots\n",
        "plt.subplots_adjust(wspace=0.3)\n",
        "\n",
        "plt.show()"
      ]
    },
    {
      "cell_type": "markdown",
      "metadata": {},
      "source": [
        "Pada Chart 8, PhoneService yes dan no terlihat tidak berbeda jauh vs Churn (slightly correlated). Begitu juga dengan MultipleLines pada Chart 9. Namun untuk InternetService serta OnlineSecurity, terlihat bahwa each data memiliki GAP yang cukup tinggi sehingga perlu kita pertimbangkan untuk digunakan pada saat model development. Contoh, pelanggan dengan Fiber optic cenderung memiliki Churn yang lebih tinggi dibandingkan dengan DSL dan No pada InternetService. "
      ]
    },
    {
      "cell_type": "code",
      "execution_count": 14,
      "metadata": {},
      "outputs": [
        {
          "data": {
            "image/png": "[encoded data removed]",
            "text/plain": [
              "<Figure size 1296x432 with 4 Axes>"
            ]
          },
          "metadata": {
            "needs_background": "light"
          },
          "output_type": "display_data"
        }
      ],
      "source": [
        "# Create Histogram and Scatter Plot\n",
        "plt.figure(figsize=(18, 6))\n",
        "\n",
        "plt.subplot(1, 4, 1), sns.barplot(x='DeviceProtection', y='Churn', data=data), plt.title('DeviceProtection vs Churn (Chart 12)')\n",
        "plt.subplot(1, 4, 2), sns.barplot(x='TechSupport', y='Churn', data=data), plt.title('TechSupport vs Churn (Chart 13)')\n",
        "plt.subplot(1, 4, 3), sns.barplot(x='StreamingTV', y='Churn', data=data), plt.title('StreamingTV vs Churn (Chart 14)')\n",
        "plt.subplot(1, 4, 4), sns.barplot(x='StreamingMovies', y='Churn', data=data), plt.title('StreamingMovies vs Churn (Chart 15)')\n",
        "\n",
        "# set the spacing between subplots\n",
        "plt.subplots_adjust(wspace=0.3)\n",
        "\n",
        "plt.show()"
      ]
    },
    {
      "cell_type": "markdown",
      "metadata": {},
      "source": [
        "DeviceProtection, TechSupport, StreamingTV, serta StreamingMovies merupakan beberapa service yang diberikan jasa telco kepada para pelanggan. Terlihat bahwa pelanggan lebih cenderung untuk tetap berlangganan (Higher Churn) ketika mereka lebih memilih untuk tidak menggunakan ke 4 services yang ditawarkan oleh jasa telco."
      ]
    },
    {
      "cell_type": "markdown",
      "metadata": {
        "id": "ajPywLqjPzAM"
      },
      "source": [
        "# E. Data Preprocessing"
      ]
    },
    {
      "cell_type": "markdown",
      "metadata": {},
      "source": [
        "Bagian ini berisi proses 1) membuat data train, test, inference (split data X dan y)... 2) Feature selection (merujuk pada heatmap) dll... 3) Split X dan y... 4) handling missing value... 5) hanlding outliers x_train data only...  6) Split data numerical dan categorical untuk train dan test 7) Proses Scaling dan...  8) Encoding ... 9) Concate all"
      ]
    },
    {
      "cell_type": "markdown",
      "metadata": {
        "id": "xab7EJ37Q7nJ"
      },
      "source": [
        "## E1. Data Preparation (Train_Test, & Inference)"
      ]
    },
    {
      "cell_type": "code",
      "execution_count": 15,
      "metadata": {
        "colab": {
          "base_uri": "https://localhost:8080/",
          "height": 462
        },
        "id": "abDIFBb4P0_p",
        "outputId": "f968e797-8ced-4b60-bb3c-2b76b5e164fd"
      },
      "outputs": [],
      "source": [
        "# Membuat dataset inference dari dataset master, 10 tuk define jumlah observasi inference\n",
        "# Random_state untuk define formula pemilihan data secara random yet wont change\n",
        "data_inf = data.sample(10, random_state=7)\n",
        "# Membuat dataset train dan test (exlude inference)\n",
        "data_train_test = data.drop(data_inf.index)\n",
        "data_train_test.reset_index(drop=True, inplace=True) \n",
        "data_inf.reset_index(drop=True, inplace=True)"
      ]
    },
    {
      "cell_type": "code",
      "execution_count": 16,
      "metadata": {},
      "outputs": [
        {
          "data": {
            "text/html": [
              "<div>\n",
              "<style scoped>\n",
              "    .dataframe tbody tr th:only-of-type {\n",
              "        vertical-align: middle;\n",
              "    }\n",
              "\n",
              "    .dataframe tbody tr th {\n",
              "        vertical-align: top;\n",
              "    }\n",
              "\n",
              "    .dataframe thead th {\n",
              "        text-align: right;\n",
              "    }\n",
              "</style>\n",
              "<table border=\"1\" class=\"dataframe\">\n",
              "  <thead>\n",
              "    <tr style=\"text-align: right;\">\n",
              "      <th></th>\n",
              "      <th>customerID</th>\n",
              "      <th>gender</th>\n",
              "      <th>SeniorCitizen</th>\n",
              "      <th>Partner</th>\n",
              "      <th>Dependents</th>\n",
              "      <th>tenure</th>\n",
              "      <th>PhoneService</th>\n",
              "      <th>MultipleLines</th>\n",
              "      <th>InternetService</th>\n",
              "      <th>OnlineSecurity</th>\n",
              "      <th>...</th>\n",
              "      <th>DeviceProtection</th>\n",
              "      <th>TechSupport</th>\n",
              "      <th>StreamingTV</th>\n",
              "      <th>StreamingMovies</th>\n",
              "      <th>Contract</th>\n",
              "      <th>PaperlessBilling</th>\n",
              "      <th>PaymentMethod</th>\n",
              "      <th>MonthlyCharges</th>\n",
              "      <th>TotalCharges</th>\n",
              "      <th>Churn</th>\n",
              "    </tr>\n",
              "  </thead>\n",
              "  <tbody>\n",
              "    <tr>\n",
              "      <th>0</th>\n",
              "      <td>7590-VHVEG</td>\n",
              "      <td>Female</td>\n",
              "      <td>No</td>\n",
              "      <td>Yes</td>\n",
              "      <td>No</td>\n",
              "      <td>1</td>\n",
              "      <td>No</td>\n",
              "      <td>No phone service</td>\n",
              "      <td>DSL</td>\n",
              "      <td>No</td>\n",
              "      <td>...</td>\n",
              "      <td>No</td>\n",
              "      <td>No</td>\n",
              "      <td>No</td>\n",
              "      <td>No</td>\n",
              "      <td>Month-to-month</td>\n",
              "      <td>Yes</td>\n",
              "      <td>Electronic check</td>\n",
              "      <td>29.85</td>\n",
              "      <td>29.85</td>\n",
              "      <td>0</td>\n",
              "    </tr>\n",
              "    <tr>\n",
              "      <th>1</th>\n",
              "      <td>5575-GNVDE</td>\n",
              "      <td>Male</td>\n",
              "      <td>No</td>\n",
              "      <td>No</td>\n",
              "      <td>No</td>\n",
              "      <td>34</td>\n",
              "      <td>Yes</td>\n",
              "      <td>No</td>\n",
              "      <td>DSL</td>\n",
              "      <td>Yes</td>\n",
              "      <td>...</td>\n",
              "      <td>Yes</td>\n",
              "      <td>No</td>\n",
              "      <td>No</td>\n",
              "      <td>No</td>\n",
              "      <td>One year</td>\n",
              "      <td>No</td>\n",
              "      <td>Mailed check</td>\n",
              "      <td>56.95</td>\n",
              "      <td>1889.50</td>\n",
              "      <td>0</td>\n",
              "    </tr>\n",
              "    <tr>\n",
              "      <th>2</th>\n",
              "      <td>3668-QPYBK</td>\n",
              "      <td>Male</td>\n",
              "      <td>No</td>\n",
              "      <td>No</td>\n",
              "      <td>No</td>\n",
              "      <td>2</td>\n",
              "      <td>Yes</td>\n",
              "      <td>No</td>\n",
              "      <td>DSL</td>\n",
              "      <td>Yes</td>\n",
              "      <td>...</td>\n",
              "      <td>No</td>\n",
              "      <td>No</td>\n",
              "      <td>No</td>\n",
              "      <td>No</td>\n",
              "      <td>Month-to-month</td>\n",
              "      <td>Yes</td>\n",
              "      <td>Mailed check</td>\n",
              "      <td>53.85</td>\n",
              "      <td>108.15</td>\n",
              "      <td>1</td>\n",
              "    </tr>\n",
              "  </tbody>\n",
              "</table>\n",
              "<p>3 rows × 21 columns</p>\n",
              "</div>"
            ],
            "text/plain": [
              "   customerID  gender SeniorCitizen Partner Dependents  tenure PhoneService  \\\n",
              "0  7590-VHVEG  Female            No     Yes         No       1           No   \n",
              "1  5575-GNVDE    Male            No      No         No      34          Yes   \n",
              "2  3668-QPYBK    Male            No      No         No       2          Yes   \n",
              "\n",
              "      MultipleLines InternetService OnlineSecurity  ... DeviceProtection  \\\n",
              "0  No phone service             DSL             No  ...               No   \n",
              "1                No             DSL            Yes  ...              Yes   \n",
              "2                No             DSL            Yes  ...               No   \n",
              "\n",
              "  TechSupport StreamingTV StreamingMovies        Contract PaperlessBilling  \\\n",
              "0          No          No              No  Month-to-month              Yes   \n",
              "1          No          No              No        One year               No   \n",
              "2          No          No              No  Month-to-month              Yes   \n",
              "\n",
              "      PaymentMethod MonthlyCharges  TotalCharges  Churn  \n",
              "0  Electronic check          29.85         29.85      0  \n",
              "1      Mailed check          56.95       1889.50      0  \n",
              "2      Mailed check          53.85        108.15      1  \n",
              "\n",
              "[3 rows x 21 columns]"
            ]
          },
          "execution_count": 16,
          "metadata": {},
          "output_type": "execute_result"
        }
      ],
      "source": [
        "# Show data\n",
        "data_train_test.head(3)"
      ]
    },
    {
      "cell_type": "code",
      "execution_count": 17,
      "metadata": {},
      "outputs": [
        {
          "data": {
            "text/html": [
              "<div>\n",
              "<style scoped>\n",
              "    .dataframe tbody tr th:only-of-type {\n",
              "        vertical-align: middle;\n",
              "    }\n",
              "\n",
              "    .dataframe tbody tr th {\n",
              "        vertical-align: top;\n",
              "    }\n",
              "\n",
              "    .dataframe thead th {\n",
              "        text-align: right;\n",
              "    }\n",
              "</style>\n",
              "<table border=\"1\" class=\"dataframe\">\n",
              "  <thead>\n",
              "    <tr style=\"text-align: right;\">\n",
              "      <th></th>\n",
              "      <th>customerID</th>\n",
              "      <th>gender</th>\n",
              "      <th>SeniorCitizen</th>\n",
              "      <th>Partner</th>\n",
              "      <th>Dependents</th>\n",
              "      <th>tenure</th>\n",
              "      <th>PhoneService</th>\n",
              "      <th>MultipleLines</th>\n",
              "      <th>InternetService</th>\n",
              "      <th>OnlineSecurity</th>\n",
              "      <th>...</th>\n",
              "      <th>DeviceProtection</th>\n",
              "      <th>TechSupport</th>\n",
              "      <th>StreamingTV</th>\n",
              "      <th>StreamingMovies</th>\n",
              "      <th>Contract</th>\n",
              "      <th>PaperlessBilling</th>\n",
              "      <th>PaymentMethod</th>\n",
              "      <th>MonthlyCharges</th>\n",
              "      <th>TotalCharges</th>\n",
              "      <th>Churn</th>\n",
              "    </tr>\n",
              "  </thead>\n",
              "  <tbody>\n",
              "    <tr>\n",
              "      <th>0</th>\n",
              "      <td>9259-PACGQ</td>\n",
              "      <td>Female</td>\n",
              "      <td>No</td>\n",
              "      <td>Yes</td>\n",
              "      <td>No</td>\n",
              "      <td>34</td>\n",
              "      <td>Yes</td>\n",
              "      <td>Yes</td>\n",
              "      <td>DSL</td>\n",
              "      <td>Yes</td>\n",
              "      <td>...</td>\n",
              "      <td>No</td>\n",
              "      <td>Yes</td>\n",
              "      <td>No</td>\n",
              "      <td>No</td>\n",
              "      <td>Month-to-month</td>\n",
              "      <td>No</td>\n",
              "      <td>Electronic check</td>\n",
              "      <td>62.65</td>\n",
              "      <td>2274.90</td>\n",
              "      <td>1</td>\n",
              "    </tr>\n",
              "    <tr>\n",
              "      <th>1</th>\n",
              "      <td>5914-DVBWJ</td>\n",
              "      <td>Female</td>\n",
              "      <td>Yes</td>\n",
              "      <td>No</td>\n",
              "      <td>No</td>\n",
              "      <td>18</td>\n",
              "      <td>Yes</td>\n",
              "      <td>Yes</td>\n",
              "      <td>Fiber optic</td>\n",
              "      <td>No</td>\n",
              "      <td>...</td>\n",
              "      <td>No</td>\n",
              "      <td>Yes</td>\n",
              "      <td>No</td>\n",
              "      <td>No</td>\n",
              "      <td>Month-to-month</td>\n",
              "      <td>Yes</td>\n",
              "      <td>Electronic check</td>\n",
              "      <td>85.45</td>\n",
              "      <td>1505.85</td>\n",
              "      <td>1</td>\n",
              "    </tr>\n",
              "    <tr>\n",
              "      <th>2</th>\n",
              "      <td>9734-YWGEX</td>\n",
              "      <td>Female</td>\n",
              "      <td>No</td>\n",
              "      <td>No</td>\n",
              "      <td>No</td>\n",
              "      <td>9</td>\n",
              "      <td>Yes</td>\n",
              "      <td>Yes</td>\n",
              "      <td>Fiber optic</td>\n",
              "      <td>No</td>\n",
              "      <td>...</td>\n",
              "      <td>Yes</td>\n",
              "      <td>No</td>\n",
              "      <td>Yes</td>\n",
              "      <td>Yes</td>\n",
              "      <td>Month-to-month</td>\n",
              "      <td>No</td>\n",
              "      <td>Credit card (automatic)</td>\n",
              "      <td>98.30</td>\n",
              "      <td>923.50</td>\n",
              "      <td>1</td>\n",
              "    </tr>\n",
              "  </tbody>\n",
              "</table>\n",
              "<p>3 rows × 21 columns</p>\n",
              "</div>"
            ],
            "text/plain": [
              "   customerID  gender SeniorCitizen Partner Dependents  tenure PhoneService  \\\n",
              "0  9259-PACGQ  Female            No     Yes         No      34          Yes   \n",
              "1  5914-DVBWJ  Female           Yes      No         No      18          Yes   \n",
              "2  9734-YWGEX  Female            No      No         No       9          Yes   \n",
              "\n",
              "  MultipleLines InternetService OnlineSecurity  ... DeviceProtection  \\\n",
              "0           Yes             DSL            Yes  ...               No   \n",
              "1           Yes     Fiber optic             No  ...               No   \n",
              "2           Yes     Fiber optic             No  ...              Yes   \n",
              "\n",
              "  TechSupport StreamingTV StreamingMovies        Contract PaperlessBilling  \\\n",
              "0         Yes          No              No  Month-to-month               No   \n",
              "1         Yes          No              No  Month-to-month              Yes   \n",
              "2          No         Yes             Yes  Month-to-month               No   \n",
              "\n",
              "             PaymentMethod MonthlyCharges  TotalCharges  Churn  \n",
              "0         Electronic check          62.65       2274.90      1  \n",
              "1         Electronic check          85.45       1505.85      1  \n",
              "2  Credit card (automatic)          98.30        923.50      1  \n",
              "\n",
              "[3 rows x 21 columns]"
            ]
          },
          "execution_count": 17,
          "metadata": {},
          "output_type": "execute_result"
        }
      ],
      "source": [
        "# Inference dataset is ready! akan digukan untuk melihat nilai rating (scheme rating unknown)\n",
        "data_inf.head(3)"
      ]
    },
    {
      "cell_type": "markdown",
      "metadata": {},
      "source": [
        "Oke, now we have 2 datasets, which is Train_Test & Inference (we pick 10 observation data), ***each index has been reset!***"
      ]
    },
    {
      "cell_type": "markdown",
      "metadata": {
        "id": "Zc6Joe1-U7zm"
      },
      "source": [
        "## E2. Feature Selection"
      ]
    },
    {
      "cell_type": "code",
      "execution_count": 18,
      "metadata": {},
      "outputs": [
        {
          "data": {
            "text/html": [
              "<div>\n",
              "<style scoped>\n",
              "    .dataframe tbody tr th:only-of-type {\n",
              "        vertical-align: middle;\n",
              "    }\n",
              "\n",
              "    .dataframe tbody tr th {\n",
              "        vertical-align: top;\n",
              "    }\n",
              "\n",
              "    .dataframe thead th {\n",
              "        text-align: right;\n",
              "    }\n",
              "</style>\n",
              "<table border=\"1\" class=\"dataframe\">\n",
              "  <thead>\n",
              "    <tr style=\"text-align: right;\">\n",
              "      <th></th>\n",
              "      <th>customerID</th>\n",
              "      <th>gender</th>\n",
              "      <th>SeniorCitizen</th>\n",
              "      <th>Partner</th>\n",
              "      <th>Dependents</th>\n",
              "      <th>tenure</th>\n",
              "      <th>PhoneService</th>\n",
              "      <th>MultipleLines</th>\n",
              "      <th>InternetService</th>\n",
              "      <th>OnlineSecurity</th>\n",
              "      <th>...</th>\n",
              "      <th>DeviceProtection</th>\n",
              "      <th>TechSupport</th>\n",
              "      <th>StreamingTV</th>\n",
              "      <th>StreamingMovies</th>\n",
              "      <th>Contract</th>\n",
              "      <th>PaperlessBilling</th>\n",
              "      <th>PaymentMethod</th>\n",
              "      <th>MonthlyCharges</th>\n",
              "      <th>TotalCharges</th>\n",
              "      <th>Churn</th>\n",
              "    </tr>\n",
              "  </thead>\n",
              "  <tbody>\n",
              "    <tr>\n",
              "      <th>0</th>\n",
              "      <td>7590-VHVEG</td>\n",
              "      <td>Female</td>\n",
              "      <td>No</td>\n",
              "      <td>Yes</td>\n",
              "      <td>No</td>\n",
              "      <td>1</td>\n",
              "      <td>No</td>\n",
              "      <td>No phone service</td>\n",
              "      <td>DSL</td>\n",
              "      <td>No</td>\n",
              "      <td>...</td>\n",
              "      <td>No</td>\n",
              "      <td>No</td>\n",
              "      <td>No</td>\n",
              "      <td>No</td>\n",
              "      <td>Month-to-month</td>\n",
              "      <td>Yes</td>\n",
              "      <td>Electronic check</td>\n",
              "      <td>29.85</td>\n",
              "      <td>29.85</td>\n",
              "      <td>0</td>\n",
              "    </tr>\n",
              "    <tr>\n",
              "      <th>1</th>\n",
              "      <td>5575-GNVDE</td>\n",
              "      <td>Male</td>\n",
              "      <td>No</td>\n",
              "      <td>No</td>\n",
              "      <td>No</td>\n",
              "      <td>34</td>\n",
              "      <td>Yes</td>\n",
              "      <td>No</td>\n",
              "      <td>DSL</td>\n",
              "      <td>Yes</td>\n",
              "      <td>...</td>\n",
              "      <td>Yes</td>\n",
              "      <td>No</td>\n",
              "      <td>No</td>\n",
              "      <td>No</td>\n",
              "      <td>One year</td>\n",
              "      <td>No</td>\n",
              "      <td>Mailed check</td>\n",
              "      <td>56.95</td>\n",
              "      <td>1889.50</td>\n",
              "      <td>0</td>\n",
              "    </tr>\n",
              "    <tr>\n",
              "      <th>2</th>\n",
              "      <td>3668-QPYBK</td>\n",
              "      <td>Male</td>\n",
              "      <td>No</td>\n",
              "      <td>No</td>\n",
              "      <td>No</td>\n",
              "      <td>2</td>\n",
              "      <td>Yes</td>\n",
              "      <td>No</td>\n",
              "      <td>DSL</td>\n",
              "      <td>Yes</td>\n",
              "      <td>...</td>\n",
              "      <td>No</td>\n",
              "      <td>No</td>\n",
              "      <td>No</td>\n",
              "      <td>No</td>\n",
              "      <td>Month-to-month</td>\n",
              "      <td>Yes</td>\n",
              "      <td>Mailed check</td>\n",
              "      <td>53.85</td>\n",
              "      <td>108.15</td>\n",
              "      <td>1</td>\n",
              "    </tr>\n",
              "  </tbody>\n",
              "</table>\n",
              "<p>3 rows × 21 columns</p>\n",
              "</div>"
            ],
            "text/plain": [
              "   customerID  gender SeniorCitizen Partner Dependents  tenure PhoneService  \\\n",
              "0  7590-VHVEG  Female            No     Yes         No       1           No   \n",
              "1  5575-GNVDE    Male            No      No         No      34          Yes   \n",
              "2  3668-QPYBK    Male            No      No         No       2          Yes   \n",
              "\n",
              "      MultipleLines InternetService OnlineSecurity  ... DeviceProtection  \\\n",
              "0  No phone service             DSL             No  ...               No   \n",
              "1                No             DSL            Yes  ...              Yes   \n",
              "2                No             DSL            Yes  ...               No   \n",
              "\n",
              "  TechSupport StreamingTV StreamingMovies        Contract PaperlessBilling  \\\n",
              "0          No          No              No  Month-to-month              Yes   \n",
              "1          No          No              No        One year               No   \n",
              "2          No          No              No  Month-to-month              Yes   \n",
              "\n",
              "      PaymentMethod MonthlyCharges  TotalCharges  Churn  \n",
              "0  Electronic check          29.85         29.85      0  \n",
              "1      Mailed check          56.95       1889.50      0  \n",
              "2      Mailed check          53.85        108.15      1  \n",
              "\n",
              "[3 rows x 21 columns]"
            ]
          },
          "execution_count": 18,
          "metadata": {},
          "output_type": "execute_result"
        }
      ],
      "source": [
        "# Display X_train\n",
        "data_train_test.head(3)"
      ]
    },
    {
      "cell_type": "markdown",
      "metadata": {},
      "source": [
        "`customerID, gender, serta PhoneService` akan kita drop karena hasil chi square violate null-hypothesis."
      ]
    },
    {
      "cell_type": "code",
      "execution_count": 19,
      "metadata": {
        "colab": {
          "base_uri": "https://localhost:8080/",
          "height": 488
        },
        "id": "z1lQ_2hmXKwk",
        "outputId": "a7db7922-f413-4d5d-b327-3f22aa7acd96"
      },
      "outputs": [
        {
          "data": {
            "text/html": [
              "<div>\n",
              "<style scoped>\n",
              "    .dataframe tbody tr th:only-of-type {\n",
              "        vertical-align: middle;\n",
              "    }\n",
              "\n",
              "    .dataframe tbody tr th {\n",
              "        vertical-align: top;\n",
              "    }\n",
              "\n",
              "    .dataframe thead th {\n",
              "        text-align: right;\n",
              "    }\n",
              "</style>\n",
              "<table border=\"1\" class=\"dataframe\">\n",
              "  <thead>\n",
              "    <tr style=\"text-align: right;\">\n",
              "      <th></th>\n",
              "      <th>SeniorCitizen</th>\n",
              "      <th>Partner</th>\n",
              "      <th>Dependents</th>\n",
              "      <th>tenure</th>\n",
              "      <th>MultipleLines</th>\n",
              "      <th>InternetService</th>\n",
              "      <th>OnlineSecurity</th>\n",
              "      <th>OnlineBackup</th>\n",
              "      <th>DeviceProtection</th>\n",
              "      <th>TechSupport</th>\n",
              "      <th>StreamingTV</th>\n",
              "      <th>StreamingMovies</th>\n",
              "      <th>Contract</th>\n",
              "      <th>PaperlessBilling</th>\n",
              "      <th>PaymentMethod</th>\n",
              "      <th>MonthlyCharges</th>\n",
              "      <th>TotalCharges</th>\n",
              "      <th>Churn</th>\n",
              "    </tr>\n",
              "  </thead>\n",
              "  <tbody>\n",
              "    <tr>\n",
              "      <th>0</th>\n",
              "      <td>No</td>\n",
              "      <td>Yes</td>\n",
              "      <td>No</td>\n",
              "      <td>1</td>\n",
              "      <td>No phone service</td>\n",
              "      <td>DSL</td>\n",
              "      <td>No</td>\n",
              "      <td>Yes</td>\n",
              "      <td>No</td>\n",
              "      <td>No</td>\n",
              "      <td>No</td>\n",
              "      <td>No</td>\n",
              "      <td>Month-to-month</td>\n",
              "      <td>Yes</td>\n",
              "      <td>Electronic check</td>\n",
              "      <td>29.85</td>\n",
              "      <td>29.85</td>\n",
              "      <td>0</td>\n",
              "    </tr>\n",
              "    <tr>\n",
              "      <th>1</th>\n",
              "      <td>No</td>\n",
              "      <td>No</td>\n",
              "      <td>No</td>\n",
              "      <td>34</td>\n",
              "      <td>No</td>\n",
              "      <td>DSL</td>\n",
              "      <td>Yes</td>\n",
              "      <td>No</td>\n",
              "      <td>Yes</td>\n",
              "      <td>No</td>\n",
              "      <td>No</td>\n",
              "      <td>No</td>\n",
              "      <td>One year</td>\n",
              "      <td>No</td>\n",
              "      <td>Mailed check</td>\n",
              "      <td>56.95</td>\n",
              "      <td>1889.50</td>\n",
              "      <td>0</td>\n",
              "    </tr>\n",
              "    <tr>\n",
              "      <th>2</th>\n",
              "      <td>No</td>\n",
              "      <td>No</td>\n",
              "      <td>No</td>\n",
              "      <td>2</td>\n",
              "      <td>No</td>\n",
              "      <td>DSL</td>\n",
              "      <td>Yes</td>\n",
              "      <td>Yes</td>\n",
              "      <td>No</td>\n",
              "      <td>No</td>\n",
              "      <td>No</td>\n",
              "      <td>No</td>\n",
              "      <td>Month-to-month</td>\n",
              "      <td>Yes</td>\n",
              "      <td>Mailed check</td>\n",
              "      <td>53.85</td>\n",
              "      <td>108.15</td>\n",
              "      <td>1</td>\n",
              "    </tr>\n",
              "  </tbody>\n",
              "</table>\n",
              "</div>"
            ],
            "text/plain": [
              "  SeniorCitizen Partner Dependents  tenure     MultipleLines InternetService  \\\n",
              "0            No     Yes         No       1  No phone service             DSL   \n",
              "1            No      No         No      34                No             DSL   \n",
              "2            No      No         No       2                No             DSL   \n",
              "\n",
              "  OnlineSecurity OnlineBackup DeviceProtection TechSupport StreamingTV  \\\n",
              "0             No          Yes               No          No          No   \n",
              "1            Yes           No              Yes          No          No   \n",
              "2            Yes          Yes               No          No          No   \n",
              "\n",
              "  StreamingMovies        Contract PaperlessBilling     PaymentMethod  \\\n",
              "0              No  Month-to-month              Yes  Electronic check   \n",
              "1              No        One year               No      Mailed check   \n",
              "2              No  Month-to-month              Yes      Mailed check   \n",
              "\n",
              "   MonthlyCharges  TotalCharges  Churn  \n",
              "0           29.85         29.85      0  \n",
              "1           56.95       1889.50      0  \n",
              "2           53.85        108.15      1  "
            ]
          },
          "execution_count": 19,
          "metadata": {},
          "output_type": "execute_result"
        }
      ],
      "source": [
        "# Menggunakan columns yg digunakan saja dlm pembuatan model\n",
        "data_train_test = data_train_test.drop(columns=['customerID', 'gender', 'PhoneService'])\n",
        "data_train_test.head(3)"
      ]
    },
    {
      "cell_type": "markdown",
      "metadata": {},
      "source": [
        "## E3. Splitting between `X` (Features) and `y` (Target)"
      ]
    },
    {
      "cell_type": "markdown",
      "metadata": {},
      "source": [
        "Data Split yang optimal dari data train dan test sebetulnya memang bergantung pada byk faktor seperti the use of case (each case of data might be approached differently), the structure of the model, dimension of the data, etc. Namun secara umum, mendefinisikan train data sebesar 80% dan test data sebesar 20% adalah permulaan pembuatan model yang baik (Pragati Baheti from Microsoft, v7labs.com)."
      ]
    },
    {
      "cell_type": "code",
      "execution_count": 20,
      "metadata": {},
      "outputs": [
        {
          "name": "stdout",
          "output_type": "stream",
          "text": [
            "Training data shape: (4500, 17)\n",
            "Validation data shape: (1126, 17)\n",
            "Testing data shape: (1407, 17)\n"
          ]
        }
      ],
      "source": [
        "# Split between X (Features) and y (Target/label/goal)\n",
        "X = data_train_test.drop(label_name, axis=1) \n",
        "y = data_train_test[label_name]\n",
        "\n",
        "# Split between Train-Set and Test-Set\n",
        "# input test_size in % ... train size should be bigger than test size.\n",
        "# Rekomen 80% for train is a good split to start with! (Pragati Baheti from Microsoft, v7labs.com)\n",
        "x_train_full, x_test,  y_train_full, y_test = train_test_split(X, y, test_size=0.2, random_state=7)\n",
        "x_train, x_val, y_train, y_val = train_test_split(x_train_full, y_train_full, test_size=0.2, random_state=7)\n",
        "\n",
        "print(\"Training data shape: {}\".format(x_train.shape))\n",
        "print(\"Validation data shape: {}\".format(x_val.shape))\n",
        "print(\"Testing data shape: {}\".format(x_test.shape))"
      ]
    },
    {
      "cell_type": "markdown",
      "metadata": {},
      "source": [
        "## E4. Handling Missing Values"
      ]
    },
    {
      "cell_type": "markdown",
      "metadata": {},
      "source": [
        "### 4.1 x_train, x_val, & x_test"
      ]
    },
    {
      "cell_type": "code",
      "execution_count": 21,
      "metadata": {},
      "outputs": [
        {
          "name": "stdout",
          "output_type": "stream",
          "text": [
            "x_train isnull amount :  6\n",
            "x_train shape before :  (4500, 17)\n",
            "x_train shape after :  (4494, 17) \n",
            "\n",
            "x_val isnull amount :  3\n",
            "x_val shape before :  (1126, 17)\n",
            "x_val shape after :  (1123, 17) \n",
            "\n",
            "x_test isnull amount :  2\n",
            "x_test shape before :  (1407, 17)\n",
            "x_test shape after :  (1405, 17)\n"
          ]
        }
      ],
      "source": [
        "# ==============================\n",
        "# Check Missing Values in `x_train`\n",
        "print('x_train isnull amount : ', x_train.isnull().sum().sum())\n",
        "print('x_train shape before : ', x_train.shape)\n",
        "x_train = x_train.dropna()\n",
        "print('x_train shape after : ', x_train.shape, '\\n')\n",
        "# ==============================\n",
        "# Check Missing Values in `x_val`\n",
        "print('x_val isnull amount : ', x_val.isnull().sum().sum())\n",
        "print('x_val shape before : ', x_val.shape)\n",
        "x_val = x_val.dropna()\n",
        "print('x_val shape after : ', x_val.shape, '\\n')\n",
        "# ==============================\n",
        "# Check Missing Values in `x_test`\n",
        "print('x_test isnull amount : ', x_test.isnull().sum().sum())\n",
        "print('x_test shape before : ', x_test.shape)\n",
        "x_test = x_test.dropna()\n",
        "print('x_test shape after : ', x_test.shape)"
      ]
    },
    {
      "cell_type": "markdown",
      "metadata": {},
      "source": [
        "### 4.4 y_train, y_val, & y_test"
      ]
    },
    {
      "cell_type": "code",
      "execution_count": 22,
      "metadata": {},
      "outputs": [
        {
          "name": "stdout",
          "output_type": "stream",
          "text": [
            "0\n",
            "y_train shape before :  (4500,)\n",
            "None\n",
            "y_train shape after :  (4494,) \n",
            "\n",
            "0\n",
            "y_val shape before :  (1126,)\n",
            "None\n",
            "y_val shape after :  (1123,) \n",
            "\n",
            "0\n",
            "y_test shape before :  (1407,)\n",
            "None\n",
            "y_test shape after :  (1405,)\n"
          ]
        }
      ],
      "source": [
        "# ==============================\n",
        "# Check Missing Values in `y_train`\n",
        "print(y_train.isnull().sum())\n",
        "print(print('y_train shape before : ', y_train.shape))\n",
        "# sync drop data from X into y\n",
        "x_train_delta = y_train.drop(x_train.index)\n",
        "y_train = y_train.drop(x_train_delta.index)\n",
        "print('y_train shape after : ', y_train.shape, '\\n')\n",
        "# ==============================\n",
        "# Check Missing Values in `y_val`\n",
        "print(y_val.isnull().sum())\n",
        "print(print('y_val shape before : ', y_val.shape))\n",
        "# sync drop data from X into y\n",
        "x_val_delta = y_val.drop(x_val.index)\n",
        "y_val = y_val.drop(x_val_delta.index)\n",
        "print('y_val shape after : ', y_val.shape, '\\n')\n",
        "# ==============================\n",
        "# Check Missing Values in `y_test`\n",
        "print(y_test.isnull().sum())\n",
        "print(print('y_test shape before : ', y_test.shape))\n",
        "# sync drop data from X into y\n",
        "x_test_delta = y_test.drop(x_test.index)\n",
        "y_test = y_test.drop(x_test_delta.index)\n",
        "print('y_test shape after : ', y_test.shape)"
      ]
    },
    {
      "cell_type": "markdown",
      "metadata": {},
      "source": [
        "**No Nulled Values!**"
      ]
    },
    {
      "cell_type": "markdown",
      "metadata": {},
      "source": [
        "## E5. Outlier Handling"
      ]
    },
    {
      "cell_type": "code",
      "execution_count": 23,
      "metadata": {},
      "outputs": [
        {
          "name": "stdout",
          "output_type": "stream",
          "text": [
            "Numerical Columns   :  ['tenure', 'MonthlyCharges', 'TotalCharges']\n"
          ]
        }
      ],
      "source": [
        "# Get Numerical Columns and Categorical Columns\n",
        "num_columns = x_train.select_dtypes(include=np.number).columns.tolist() \n",
        "print('Numerical Columns   : ', num_columns)"
      ]
    },
    {
      "cell_type": "code",
      "execution_count": 24,
      "metadata": {},
      "outputs": [
        {
          "data": {
            "image/png": "[encoded data removed]",
            "text/plain": [
              "<Figure size 1296x432 with 3 Axes>"
            ]
          },
          "metadata": {
            "needs_background": "light"
          },
          "output_type": "display_data"
        }
      ],
      "source": [
        "x_train_back = x_train.copy()\n",
        "x_train_back.reset_index(drop=True, inplace=True) \n",
        "\n",
        "# Create chart for loop\n",
        "plt.figure(figsize=(18, 6))\n",
        "\n",
        "plt.subplot(1, 3, 1), sns.boxplot(data=x_train_back['tenure']), plt.title('tenure') \n",
        "plt.subplot(1, 3, 2), sns.boxplot(data=x_train_back['MonthlyCharges']), plt.title('MonthlyCharges')\n",
        "plt.subplot(1, 3, 3), sns.boxplot(data=x_train_back['TotalCharges']), plt.title('TotalCharges')\n",
        "\n",
        "# set the spacing between subplots\n",
        "plt.subplots_adjust(hspace=0.3)\n",
        "plt.show()"
      ]
    },
    {
      "cell_type": "markdown",
      "metadata": {},
      "source": [
        "**Outliers handling tidak akan kita lakukan** pada feature numerical hasil konversi dari categorial seperti `SeniorCitizen`."
      ]
    },
    {
      "cell_type": "code",
      "execution_count": 25,
      "metadata": {},
      "outputs": [
        {
          "data": {
            "text/html": [
              "<div>\n",
              "<style scoped>\n",
              "    .dataframe tbody tr th:only-of-type {\n",
              "        vertical-align: middle;\n",
              "    }\n",
              "\n",
              "    .dataframe tbody tr th {\n",
              "        vertical-align: top;\n",
              "    }\n",
              "\n",
              "    .dataframe thead th {\n",
              "        text-align: right;\n",
              "    }\n",
              "</style>\n",
              "<table border=\"1\" class=\"dataframe\">\n",
              "  <thead>\n",
              "    <tr style=\"text-align: right;\">\n",
              "      <th></th>\n",
              "      <th>MonthlyCharges</th>\n",
              "      <th>tenure</th>\n",
              "      <th>TotalCharges</th>\n",
              "    </tr>\n",
              "  </thead>\n",
              "  <tbody>\n",
              "    <tr>\n",
              "      <th>skewness</th>\n",
              "      <td>-0.20497</td>\n",
              "      <td>0.250202</td>\n",
              "      <td>0.973966</td>\n",
              "    </tr>\n",
              "  </tbody>\n",
              "</table>\n",
              "</div>"
            ],
            "text/plain": [
              "          MonthlyCharges    tenure  TotalCharges\n",
              "skewness        -0.20497  0.250202      0.973966"
            ]
          },
          "execution_count": 25,
          "metadata": {},
          "output_type": "execute_result"
        }
      ],
      "source": [
        "# Define dataframe with outliers and compute the skew\n",
        "x_train_numerical = x_train[num_columns]\n",
        "pd.DataFrame(x_train_numerical.skew(axis=0), columns=['skewness']).sort_values(by='skewness', ascending=True).T"
      ]
    },
    {
      "cell_type": "code",
      "execution_count": 26,
      "metadata": {},
      "outputs": [],
      "source": [
        "# Create the capper | Skewness : normal\n",
        "windsoriser_normal = Winsorizer(capping_method='gaussian', tail='both', fold=3, variables=['MonthlyCharges', 'tenure'])\n",
        "windsoriser_normal.fit(x_train)\n",
        "x_train = windsoriser_normal.transform(x_train)\n",
        "\n",
        "# Create the capper | Skewness : skew\n",
        "windsoriser_skew = Winsorizer(capping_method='iqr', tail='both', fold=1.5, variables=['TotalCharges'])\n",
        "windsoriser_skew.fit(x_train)\n",
        "x_train = windsoriser_skew.transform(x_train)"
      ]
    },
    {
      "cell_type": "markdown",
      "metadata": {},
      "source": [
        "## E6. Handling imbalance data with SMOTE"
      ]
    },
    {
      "cell_type": "code",
      "execution_count": 27,
      "metadata": {},
      "outputs": [
        {
          "name": "stdout",
          "output_type": "stream",
          "text": [
            "<class 'pandas.core.frame.DataFrame'>\n",
            "Int64Index: 4494 entries, 5739 to 6316\n",
            "Data columns (total 17 columns):\n",
            " #   Column            Non-Null Count  Dtype  \n",
            "---  ------            --------------  -----  \n",
            " 0   SeniorCitizen     4494 non-null   object \n",
            " 1   Partner           4494 non-null   object \n",
            " 2   Dependents        4494 non-null   object \n",
            " 3   tenure            4494 non-null   float64\n",
            " 4   MultipleLines     4494 non-null   object \n",
            " 5   InternetService   4494 non-null   object \n",
            " 6   OnlineSecurity    4494 non-null   object \n",
            " 7   OnlineBackup      4494 non-null   object \n",
            " 8   DeviceProtection  4494 non-null   object \n",
            " 9   TechSupport       4494 non-null   object \n",
            " 10  StreamingTV       4494 non-null   object \n",
            " 11  StreamingMovies   4494 non-null   object \n",
            " 12  Contract          4494 non-null   object \n",
            " 13  PaperlessBilling  4494 non-null   object \n",
            " 14  PaymentMethod     4494 non-null   object \n",
            " 15  MonthlyCharges    4494 non-null   float64\n",
            " 16  TotalCharges      4494 non-null   float64\n",
            "dtypes: float64(3), object(14)\n",
            "memory usage: 632.0+ KB\n"
          ]
        }
      ],
      "source": [
        "# Identifikasi feature dengan tipe object dan float\n",
        "x_train.info()"
      ]
    },
    {
      "cell_type": "code",
      "execution_count": 28,
      "metadata": {},
      "outputs": [
        {
          "data": {
            "text/plain": [
              "0    3279\n",
              "1    3279\n",
              "Name: Churn, dtype: int64"
            ]
          },
          "execution_count": 28,
          "metadata": {},
          "output_type": "execute_result"
        }
      ],
      "source": [
        "# Define model for SMOTE-NC\n",
        "smote = SMOTENC([0,1,2,4,5,6,7,8,9,10,11,12,13,14], random_state=42)\n",
        "x_train, y_train = smote.fit_resample(x_train, y_train)\n",
        "y_train.value_counts()"
      ]
    },
    {
      "cell_type": "markdown",
      "metadata": {
        "id": "R3h6em0HZKFX"
      },
      "source": [
        "# F. Preprocessor & Pipeline"
      ]
    },
    {
      "cell_type": "markdown",
      "metadata": {},
      "source": [
        "## F1. Define Column Transformer"
      ]
    },
    {
      "cell_type": "markdown",
      "metadata": {},
      "source": [
        "Seperti outliers handling, skewness dari distribusi data setiap feature mempengaruhi algoritma scaling yang akan digunakan. oleh karena itu, skewness dari setiap feature perlu dihitung (after outliers has been handled)."
      ]
    },
    {
      "cell_type": "code",
      "execution_count": 29,
      "metadata": {},
      "outputs": [
        {
          "data": {
            "text/html": [
              "<div>\n",
              "<style scoped>\n",
              "    .dataframe tbody tr th:only-of-type {\n",
              "        vertical-align: middle;\n",
              "    }\n",
              "\n",
              "    .dataframe tbody tr th {\n",
              "        vertical-align: top;\n",
              "    }\n",
              "\n",
              "    .dataframe thead th {\n",
              "        text-align: right;\n",
              "    }\n",
              "</style>\n",
              "<table border=\"1\" class=\"dataframe\">\n",
              "  <thead>\n",
              "    <tr style=\"text-align: right;\">\n",
              "      <th></th>\n",
              "      <th>MonthlyCharges</th>\n",
              "      <th>tenure</th>\n",
              "      <th>TotalCharges</th>\n",
              "    </tr>\n",
              "  </thead>\n",
              "  <tbody>\n",
              "    <tr>\n",
              "      <th>skewness</th>\n",
              "      <td>-0.388984</td>\n",
              "      <td>0.50317</td>\n",
              "      <td>1.111496</td>\n",
              "    </tr>\n",
              "  </tbody>\n",
              "</table>\n",
              "</div>"
            ],
            "text/plain": [
              "          MonthlyCharges   tenure  TotalCharges\n",
              "skewness       -0.388984  0.50317      1.111496"
            ]
          },
          "execution_count": 29,
          "metadata": {},
          "output_type": "execute_result"
        }
      ],
      "source": [
        "# Define dataframe without outliers and compute the skew\n",
        "x_train_numerical_oh = x_train[num_columns]\n",
        "pd.DataFrame(x_train_numerical_oh.skew(axis=0), columns=['skewness']).sort_values(by='skewness', ascending=True).T"
      ]
    },
    {
      "cell_type": "code",
      "execution_count": 30,
      "metadata": {},
      "outputs": [
        {
          "name": "stdout",
          "output_type": "stream",
          "text": [
            "Categorical Columns :  ['SeniorCitizen', 'Partner', 'Dependents', 'MultipleLines', 'InternetService', 'OnlineSecurity', 'OnlineBackup', 'DeviceProtection', 'TechSupport', 'StreamingTV', 'StreamingMovies', 'Contract', 'PaperlessBilling', 'PaymentMethod']\n"
          ]
        }
      ],
      "source": [
        "# Show name of categorical columns\n",
        "cat_columns = x_train.select_dtypes(include=['object']).columns.tolist()\n",
        "print('Categorical Columns : ', cat_columns)"
      ]
    },
    {
      "cell_type": "markdown",
      "metadata": {},
      "source": [
        "Berdasarkan masing-masing feature skewness `(after process SMOTENC, value skewness sedikit berubah)`, maka feature dengan skewness normal akan di-scaling dengan algoritma StandardScaler (contoh: MonthlyCharges dan tenure), kemudian untuk feature dengan skewness = skew, algoritma scaling yang digunakan adalah MinMaxScaler (contoh : table). Serta feature lainnya (skewness extreme), scalingnya akan menggunakan RobustScaler (contoh : carat, z dan y). Berikut di bawah ini adalah syntax untuk preprocessor-nya."
      ]
    },
    {
      "cell_type": "code",
      "execution_count": 31,
      "metadata": {},
      "outputs": [],
      "source": [
        "# Define columnn name for scaling and encoding\n",
        "numeric_features_ss = ['MonthlyCharges']\n",
        "numeric_features_mm = ['tenure']\n",
        "numeric_features_rb = ['TotalCharges']\n",
        "cat_features_OneHot = ['SeniorCitizen', 'Partner', 'Dependents', 'MultipleLines', 'InternetService', \n",
        "                        'OnlineSecurity', 'OnlineBackup', 'DeviceProtection', 'TechSupport', 'StreamingTV', \n",
        "                        'StreamingMovies', 'Contract', 'PaperlessBilling', 'PaymentMethod']\n",
        "\n",
        "# Define scaling and encoding technique\n",
        "numeric_transformer_ss = make_pipeline(StandardScaler())\n",
        "numeric_transformer_mm = make_pipeline(MinMaxScaler())\n",
        "numeric_transformer_rb = make_pipeline(RobustScaler())\n",
        "cat_transformer_OneHot = make_pipeline(OneHotEncoder())\n",
        "\n",
        "# Define Transformer Column\n",
        "preprocessor = ColumnTransformer(\n",
        "    transformers=[\n",
        "        (\"num1\", numeric_transformer_ss, numeric_features_ss),\n",
        "        (\"num2\", numeric_transformer_mm, numeric_features_mm),\n",
        "        (\"num3\", numeric_transformer_rb, numeric_features_rb),\n",
        "        (\"cat1\", cat_transformer_OneHot, cat_features_OneHot)\n",
        "    ])\n",
        "\n",
        "# ekstrak fitur menggunakan pipeline\n",
        "x_train = preprocessor.fit_transform(x_train)\n",
        "x_val = preprocessor.transform(x_val)\n",
        "x_test = preprocessor.transform(x_test)"
      ]
    },
    {
      "cell_type": "markdown",
      "metadata": {},
      "source": [
        "## F2. Tensorflow Pipeline"
      ]
    },
    {
      "cell_type": "code",
      "execution_count": 32,
      "metadata": {},
      "outputs": [],
      "source": [
        "# process pembuatan pipeline menggunakan tensorfow\n",
        "training_batches = tf.data.Dataset.from_tensor_slices((x_train, y_train)).batch(70).shuffle(x_train.shape[0])\n",
        "validation_batches = tf.data.Dataset.from_tensor_slices((x_val, y_val)).batch(70).shuffle(x_train.shape[0])\n",
        "testing_batches = tf.data.Dataset.from_tensor_slices((x_test, y_test)).batch(70).shuffle(x_train.shape[0])"
      ]
    },
    {
      "cell_type": "markdown",
      "metadata": {},
      "source": [
        "# G. Model Training & Evaluation"
      ]
    },
    {
      "cell_type": "markdown",
      "metadata": {},
      "source": [
        "## G1. Sequential Model"
      ]
    },
    {
      "cell_type": "markdown",
      "metadata": {},
      "source": [
        "### ANN model Sequential"
      ]
    },
    {
      "cell_type": "code",
      "execution_count": 33,
      "metadata": {},
      "outputs": [
        {
          "name": "stdout",
          "output_type": "stream",
          "text": [
            "Epoch 1/10\n",
            "94/94 [==============================] - 2s 6ms/step - loss: 0.4963 - acc: 0.7594 - val_loss: 0.4065 - val_acc: 0.8103\n",
            "Epoch 2/10\n",
            "94/94 [==============================] - 0s 5ms/step - loss: 0.4408 - acc: 0.7938 - val_loss: 0.5059 - val_acc: 0.7596\n",
            "Epoch 3/10\n",
            "94/94 [==============================] - 0s 5ms/step - loss: 0.4261 - acc: 0.7998 - val_loss: 0.4149 - val_acc: 0.7970\n",
            "Epoch 4/10\n",
            "94/94 [==============================] - 0s 5ms/step - loss: 0.4189 - acc: 0.8118 - val_loss: 0.4167 - val_acc: 0.8059\n",
            "Epoch 5/10\n",
            "94/94 [==============================] - 0s 5ms/step - loss: 0.4199 - acc: 0.8082 - val_loss: 0.4281 - val_acc: 0.7854\n",
            "Epoch 6/10\n",
            "94/94 [==============================] - 0s 5ms/step - loss: 0.4099 - acc: 0.8129 - val_loss: 0.5311 - val_acc: 0.7177\n",
            "Epoch 7/10\n",
            "94/94 [==============================] - 0s 5ms/step - loss: 0.4098 - acc: 0.8138 - val_loss: 0.4896 - val_acc: 0.7471\n",
            "Epoch 8/10\n",
            "94/94 [==============================] - 1s 6ms/step - loss: 0.4027 - acc: 0.8199 - val_loss: 0.4165 - val_acc: 0.8059\n",
            "Epoch 9/10\n",
            "94/94 [==============================] - 1s 7ms/step - loss: 0.4044 - acc: 0.8172 - val_loss: 0.4951 - val_acc: 0.7346\n",
            "Epoch 10/10\n",
            "94/94 [==============================] - 1s 7ms/step - loss: 0.3953 - acc: 0.8214 - val_loss: 0.4358 - val_acc: 0.7747\n"
          ]
        }
      ],
      "source": [
        "# deklarasi model\n",
        "model_sq = keras.models.Sequential()\n",
        "model_sq.add(keras.layers.Dense(128, input_shape=(len(x_train[0]),), name = 'input'))\n",
        "model_sq.add(keras.layers.Dense(64, activation='relu', name = 'hidden_2'))\n",
        "model_sq.add(keras.layers.Dense(32, activation='relu', name = 'hidden_1'))\n",
        "model_sq.add(keras.layers.Dense(1, activation='sigmoid', name = 'output'))\n",
        "\n",
        "# compile, jika case multi-class, gunakan softmax untuk activation. dan categorical_crossentropy untuk loss.\n",
        "model_sq.compile(loss = 'binary_crossentropy', metrics = [\"acc\"])\n",
        "\n",
        "# Model Training\n",
        "history_sq = model_sq.fit(training_batches, epochs=10, validation_data=(validation_batches))"
      ]
    },
    {
      "cell_type": "code",
      "execution_count": 34,
      "metadata": {},
      "outputs": [
        {
          "data": {
            "image/png": "[encoded data removed]",
            "text/plain": [
              "<Figure size 576x432 with 1 Axes>"
            ]
          },
          "metadata": {
            "needs_background": "light"
          },
          "output_type": "display_data"
        }
      ],
      "source": [
        "# Define chart of metrics\n",
        "pd.DataFrame(history_sq.history).plot(figsize=(8,6))\n",
        "plt.grid(True)\n",
        "plt.gca().set_ylim(0,1)\n",
        "plt.show()"
      ]
    },
    {
      "cell_type": "markdown",
      "metadata": {},
      "source": [
        "### ANN model Sequential (optimizer & Improvement) epoch 40"
      ]
    },
    {
      "cell_type": "code",
      "execution_count": 35,
      "metadata": {},
      "outputs": [
        {
          "name": "stdout",
          "output_type": "stream",
          "text": [
            "Epoch 1/40\n",
            "94/94 [==============================] - 1s 6ms/step - loss: 1.3768 - acc: 0.7550 - val_loss: 1.0063 - val_acc: 0.7792\n",
            "Epoch 2/40\n",
            "94/94 [==============================] - 1s 6ms/step - loss: 0.8703 - acc: 0.7879 - val_loss: 0.7067 - val_acc: 0.7979\n",
            "Epoch 3/40\n",
            "94/94 [==============================] - 1s 6ms/step - loss: 0.6762 - acc: 0.7916 - val_loss: 0.7178 - val_acc: 0.7168\n",
            "Epoch 4/40\n",
            "94/94 [==============================] - 0s 5ms/step - loss: 0.5917 - acc: 0.7914 - val_loss: 0.6124 - val_acc: 0.7400\n",
            "Epoch 5/40\n",
            "94/94 [==============================] - 0s 5ms/step - loss: 0.5514 - acc: 0.7966 - val_loss: 0.6207 - val_acc: 0.7257\n",
            "Epoch 6/40\n",
            "94/94 [==============================] - 0s 5ms/step - loss: 0.5169 - acc: 0.7995 - val_loss: 0.5450 - val_acc: 0.7578\n",
            "Epoch 7/40\n",
            "94/94 [==============================] - 1s 6ms/step - loss: 0.5013 - acc: 0.7972 - val_loss: 0.5392 - val_acc: 0.7364\n",
            "Epoch 8/40\n",
            "94/94 [==============================] - 1s 6ms/step - loss: 0.4874 - acc: 0.7983 - val_loss: 0.5476 - val_acc: 0.7400\n",
            "Epoch 9/40\n",
            "94/94 [==============================] - 1s 6ms/step - loss: 0.4835 - acc: 0.7938 - val_loss: 0.5124 - val_acc: 0.7622\n",
            "Epoch 10/40\n",
            "94/94 [==============================] - 1s 5ms/step - loss: 0.4774 - acc: 0.7952 - val_loss: 0.5131 - val_acc: 0.7533\n",
            "Epoch 11/40\n",
            "94/94 [==============================] - 0s 5ms/step - loss: 0.4753 - acc: 0.7964 - val_loss: 0.4666 - val_acc: 0.7809\n",
            "Epoch 12/40\n",
            "94/94 [==============================] - 0s 5ms/step - loss: 0.4718 - acc: 0.7975 - val_loss: 0.4881 - val_acc: 0.7667\n",
            "Epoch 13/40\n",
            "94/94 [==============================] - 0s 5ms/step - loss: 0.4646 - acc: 0.7998 - val_loss: 0.4401 - val_acc: 0.8041\n",
            "Epoch 14/40\n",
            "94/94 [==============================] - 1s 6ms/step - loss: 0.4632 - acc: 0.8009 - val_loss: 0.4359 - val_acc: 0.8059\n",
            "Epoch 15/40\n",
            "94/94 [==============================] - 1s 6ms/step - loss: 0.4551 - acc: 0.8024 - val_loss: 0.4978 - val_acc: 0.7489\n",
            "Epoch 16/40\n",
            "94/94 [==============================] - 1s 6ms/step - loss: 0.4529 - acc: 0.8045 - val_loss: 0.4647 - val_acc: 0.7747\n",
            "Epoch 17/40\n",
            "94/94 [==============================] - 1s 6ms/step - loss: 0.4546 - acc: 0.8009 - val_loss: 0.4760 - val_acc: 0.7703\n",
            "Epoch 18/40\n",
            "94/94 [==============================] - 1s 5ms/step - loss: 0.4582 - acc: 0.8015 - val_loss: 0.4386 - val_acc: 0.7996\n",
            "Epoch 19/40\n",
            "94/94 [==============================] - 0s 5ms/step - loss: 0.4503 - acc: 0.8016 - val_loss: 0.4682 - val_acc: 0.7774\n",
            "Epoch 20/40\n",
            "94/94 [==============================] - 0s 5ms/step - loss: 0.4447 - acc: 0.8074 - val_loss: 0.5189 - val_acc: 0.7462\n",
            "Epoch 21/40\n",
            "94/94 [==============================] - 0s 5ms/step - loss: 0.4463 - acc: 0.8002 - val_loss: 0.4400 - val_acc: 0.7988\n",
            "Epoch 22/40\n",
            "94/94 [==============================] - 1s 6ms/step - loss: 0.4484 - acc: 0.7998 - val_loss: 0.4589 - val_acc: 0.7792\n",
            "Epoch 23/40\n",
            "94/94 [==============================] - 1s 7ms/step - loss: 0.4539 - acc: 0.8004 - val_loss: 0.4721 - val_acc: 0.7747\n",
            "Epoch 24/40\n",
            "94/94 [==============================] - 1s 5ms/step - loss: 0.4457 - acc: 0.8060 - val_loss: 0.4842 - val_acc: 0.7640\n",
            "Epoch 25/40\n",
            "94/94 [==============================] - 0s 5ms/step - loss: 0.4477 - acc: 0.8009 - val_loss: 0.4507 - val_acc: 0.7863\n",
            "Epoch 26/40\n",
            "94/94 [==============================] - 0s 5ms/step - loss: 0.4386 - acc: 0.8057 - val_loss: 0.4969 - val_acc: 0.7542\n",
            "Epoch 27/40\n",
            "94/94 [==============================] - 0s 5ms/step - loss: 0.4406 - acc: 0.8033 - val_loss: 0.4464 - val_acc: 0.7863\n",
            "Epoch 28/40\n",
            "94/94 [==============================] - 1s 5ms/step - loss: 0.4437 - acc: 0.8001 - val_loss: 0.4848 - val_acc: 0.7569\n",
            "Epoch 29/40\n",
            "94/94 [==============================] - 1s 6ms/step - loss: 0.4418 - acc: 0.8034 - val_loss: 0.4896 - val_acc: 0.7498\n",
            "Epoch 30/40\n",
            "94/94 [==============================] - 1s 6ms/step - loss: 0.4388 - acc: 0.8051 - val_loss: 0.4236 - val_acc: 0.8023\n",
            "Epoch 31/40\n",
            "94/94 [==============================] - 1s 6ms/step - loss: 0.4460 - acc: 0.8012 - val_loss: 0.4665 - val_acc: 0.7729\n",
            "Epoch 32/40\n",
            "94/94 [==============================] - 1s 6ms/step - loss: 0.4398 - acc: 0.8016 - val_loss: 0.4674 - val_acc: 0.7711\n",
            "Epoch 33/40\n",
            "94/94 [==============================] - 1s 6ms/step - loss: 0.4356 - acc: 0.8036 - val_loss: 0.5023 - val_acc: 0.7569\n",
            "Epoch 34/40\n",
            "94/94 [==============================] - 1s 7ms/step - loss: 0.4429 - acc: 0.8051 - val_loss: 0.4485 - val_acc: 0.7774\n",
            "Epoch 35/40\n",
            "94/94 [==============================] - 1s 6ms/step - loss: 0.4372 - acc: 0.8031 - val_loss: 0.4480 - val_acc: 0.7818\n",
            "Epoch 36/40\n",
            "94/94 [==============================] - 1s 6ms/step - loss: 0.4325 - acc: 0.8066 - val_loss: 0.4466 - val_acc: 0.7765\n",
            "Epoch 37/40\n",
            "94/94 [==============================] - 1s 6ms/step - loss: 0.4400 - acc: 0.8027 - val_loss: 0.4311 - val_acc: 0.7952\n",
            "Epoch 38/40\n",
            "94/94 [==============================] - 1s 6ms/step - loss: 0.4431 - acc: 0.8024 - val_loss: 0.4278 - val_acc: 0.7907\n",
            "Epoch 39/40\n",
            "94/94 [==============================] - 0s 5ms/step - loss: 0.4362 - acc: 0.8024 - val_loss: 0.4624 - val_acc: 0.7765\n",
            "Epoch 40/40\n",
            "94/94 [==============================] - 0s 5ms/step - loss: 0.4354 - acc: 0.8059 - val_loss: 0.4367 - val_acc: 0.7898\n"
          ]
        }
      ],
      "source": [
        "# deklarasi model\n",
        "model_sq = keras.models.Sequential()\n",
        "model_sq.add(keras.layers.Dense(128,  input_shape=(len(x_train[0]),), name = 'input'))\n",
        "model_sq.add(keras.layers.Dense(64, kernel_regularizer=tf.keras.regularizers.L2(), activation='relu', name = 'hidden_1'))\n",
        "model_sq.add(keras.layers.Dense(31, kernel_regularizer=tf.keras.regularizers.L2(), activation='relu', name = 'hidden_2'))\n",
        "model_sq.add(keras.layers.Dense(1, activation='sigmoid', name = 'output'))\n",
        "\n",
        "# compile, jika case multi-class, gunakan softmax untuk activation. dan categorical_crossentropy untuk loss.\n",
        "model_sq.compile(loss = 'binary_crossentropy', \n",
        "                optimizer = keras.optimizers.Adam(learning_rate=0.001),\n",
        "                metrics = [\"acc\"])\n",
        "\n",
        "# Define the best epoc if learning rate is used\n",
        "es_callback = keras.callbacks.EarlyStopping(patience=20, restore_best_weights=True)\n",
        "\n",
        "# Model Training\n",
        "history_sq = model_sq.fit(training_batches, epochs=40, validation_data=(validation_batches), \n",
        "                            callbacks = [es_callback], verbose=1)"
      ]
    },
    {
      "cell_type": "code",
      "execution_count": 36,
      "metadata": {},
      "outputs": [
        {
          "data": {
            "image/png": "[encoded data removed]",
            "text/plain": [
              "<Figure size 576x432 with 1 Axes>"
            ]
          },
          "metadata": {
            "needs_background": "light"
          },
          "output_type": "display_data"
        }
      ],
      "source": [
        "# Define chart of metrics\n",
        "pd.DataFrame(history_sq.history).plot(figsize=(8,6))\n",
        "plt.grid(True)\n",
        "plt.gca().set_ylim(0,1)\n",
        "plt.show()"
      ]
    },
    {
      "cell_type": "markdown",
      "metadata": {},
      "source": [
        "## G2. Functional Model"
      ]
    },
    {
      "cell_type": "markdown",
      "metadata": {},
      "source": [
        "### ANN Model Functional"
      ]
    },
    {
      "cell_type": "code",
      "execution_count": 37,
      "metadata": {},
      "outputs": [
        {
          "name": "stdout",
          "output_type": "stream",
          "text": [
            "Epoch 1/10\n",
            "94/94 [==============================] - 1s 9ms/step - loss: 1.8818 - acc: 0.6595 - val_loss: 1.7809 - val_acc: 0.6972\n",
            "Epoch 2/10\n",
            "94/94 [==============================] - 1s 9ms/step - loss: 1.4382 - acc: 0.7121 - val_loss: 1.5363 - val_acc: 0.7053\n",
            "Epoch 3/10\n",
            "94/94 [==============================] - 1s 7ms/step - loss: 1.2097 - acc: 0.7296 - val_loss: 1.2224 - val_acc: 0.7311\n",
            "Epoch 4/10\n",
            "94/94 [==============================] - 1s 7ms/step - loss: 1.0601 - acc: 0.7461 - val_loss: 0.9472 - val_acc: 0.7498\n",
            "Epoch 5/10\n",
            "94/94 [==============================] - 1s 9ms/step - loss: 0.9100 - acc: 0.7630 - val_loss: 0.8482 - val_acc: 0.7542\n",
            "Epoch 6/10\n",
            "94/94 [==============================] - 1s 9ms/step - loss: 0.7901 - acc: 0.7710 - val_loss: 0.7529 - val_acc: 0.7667\n",
            "Epoch 7/10\n",
            "94/94 [==============================] - 1s 9ms/step - loss: 0.7271 - acc: 0.7798 - val_loss: 0.7112 - val_acc: 0.7596\n",
            "Epoch 8/10\n",
            "94/94 [==============================] - 1s 8ms/step - loss: 0.6472 - acc: 0.7873 - val_loss: 0.6362 - val_acc: 0.7533\n",
            "Epoch 9/10\n",
            "94/94 [==============================] - 1s 7ms/step - loss: 0.6004 - acc: 0.7914 - val_loss: 0.5633 - val_acc: 0.7667\n",
            "Epoch 10/10\n",
            "94/94 [==============================] - 1s 7ms/step - loss: 0.5986 - acc: 0.7909 - val_loss: 0.5430 - val_acc: 0.7694\n"
          ]
        }
      ],
      "source": [
        "# deklarasi model\n",
        "input_ = keras.layers.Input(shape=x_train.shape[1:])\n",
        "hidden1 = keras.layers.Dense(128, activation=\"relu\")(input_)\n",
        "hidden2 = keras.layers.Dense(64, activation=\"relu\")(hidden1)\n",
        "hidden3 = keras.layers.Dense(1, activation=\"sigmoid\")(hidden2)\n",
        "concat = keras.layers.concatenate([input_, hidden3])\n",
        "output = keras.layers.Dense(1)(concat)\n",
        "model_func = keras.models.Model(inputs=[input_], outputs=[output])\n",
        "\n",
        "# compile, jika case multi-class, gunakan softmax untuk activation. dan categorical_crossentropy untuk loss.\n",
        "model_func.compile(loss = 'binary_crossentropy', metrics = [\"acc\"])\n",
        "\n",
        "# Model Training\n",
        "history_func = model_func.fit(training_batches, epochs=10, validation_data=(validation_batches))"
      ]
    },
    {
      "cell_type": "code",
      "execution_count": 38,
      "metadata": {},
      "outputs": [
        {
          "data": {
            "image/png": "[encoded data removed]",
            "text/plain": [
              "<Figure size 576x432 with 1 Axes>"
            ]
          },
          "metadata": {
            "needs_background": "light"
          },
          "output_type": "display_data"
        }
      ],
      "source": [
        "# Define chart of metrics\n",
        "pd.DataFrame(history_func.history).plot(figsize=(8,6))\n",
        "plt.grid(True)\n",
        "plt.gca().set_ylim(0,3)\n",
        "plt.show()"
      ]
    },
    {
      "cell_type": "markdown",
      "metadata": {},
      "source": [
        "### ANN Model Functional (optimizer & Improvement) epoch 40"
      ]
    },
    {
      "cell_type": "code",
      "execution_count": 39,
      "metadata": {},
      "outputs": [
        {
          "name": "stdout",
          "output_type": "stream",
          "text": [
            "Epoch 1/40\n",
            "94/94 [==============================] - 1s 7ms/step - loss: 3.2410 - acc: 0.6735 - val_loss: 2.1374 - val_acc: 0.7524\n",
            "Epoch 2/40\n",
            "94/94 [==============================] - 1s 7ms/step - loss: 2.0959 - acc: 0.7225 - val_loss: 1.8680 - val_acc: 0.7444\n",
            "Epoch 3/40\n",
            "94/94 [==============================] - 1s 6ms/step - loss: 1.8835 - acc: 0.7264 - val_loss: 1.8174 - val_acc: 0.7337\n",
            "Epoch 4/40\n",
            "94/94 [==============================] - 1s 5ms/step - loss: 1.6566 - acc: 0.7271 - val_loss: 1.6714 - val_acc: 0.7320\n",
            "Epoch 5/40\n",
            "94/94 [==============================] - 0s 5ms/step - loss: 1.5258 - acc: 0.7322 - val_loss: 1.6071 - val_acc: 0.7337\n",
            "Epoch 6/40\n",
            "94/94 [==============================] - 1s 6ms/step - loss: 1.5552 - acc: 0.7278 - val_loss: 1.6548 - val_acc: 0.7204\n",
            "Epoch 7/40\n",
            "94/94 [==============================] - 1s 7ms/step - loss: 1.4789 - acc: 0.7260 - val_loss: 1.4814 - val_acc: 0.7382\n",
            "Epoch 8/40\n",
            "94/94 [==============================] - 1s 6ms/step - loss: 1.3750 - acc: 0.7254 - val_loss: 1.2751 - val_acc: 0.7587\n",
            "Epoch 9/40\n",
            "94/94 [==============================] - 1s 5ms/step - loss: 1.3173 - acc: 0.7299 - val_loss: 1.2944 - val_acc: 0.7507\n",
            "Epoch 10/40\n",
            "94/94 [==============================] - 0s 5ms/step - loss: 1.2079 - acc: 0.7377 - val_loss: 1.3688 - val_acc: 0.7364\n",
            "Epoch 11/40\n",
            "94/94 [==============================] - 0s 5ms/step - loss: 1.1406 - acc: 0.7457 - val_loss: 1.3028 - val_acc: 0.7453\n",
            "Epoch 12/40\n",
            "94/94 [==============================] - 1s 7ms/step - loss: 1.0485 - acc: 0.7405 - val_loss: 1.0718 - val_acc: 0.7489\n",
            "Epoch 13/40\n",
            "94/94 [==============================] - 1s 7ms/step - loss: 0.9912 - acc: 0.7437 - val_loss: 1.0170 - val_acc: 0.7551\n",
            "Epoch 14/40\n",
            "94/94 [==============================] - 1s 6ms/step - loss: 0.9633 - acc: 0.7476 - val_loss: 0.9901 - val_acc: 0.7587\n",
            "Epoch 15/40\n",
            "94/94 [==============================] - 1s 6ms/step - loss: 0.9015 - acc: 0.7453 - val_loss: 0.8440 - val_acc: 0.7667\n",
            "Epoch 16/40\n",
            "94/94 [==============================] - 0s 5ms/step - loss: 0.8393 - acc: 0.7411 - val_loss: 0.7384 - val_acc: 0.7640\n",
            "Epoch 17/40\n",
            "94/94 [==============================] - 0s 5ms/step - loss: 0.8110 - acc: 0.7327 - val_loss: 0.6844 - val_acc: 0.7685\n",
            "Epoch 18/40\n",
            "94/94 [==============================] - 0s 5ms/step - loss: 0.7454 - acc: 0.7292 - val_loss: 0.5876 - val_acc: 0.7738\n",
            "Epoch 19/40\n",
            "94/94 [==============================] - 1s 6ms/step - loss: 0.6979 - acc: 0.7429 - val_loss: 0.5878 - val_acc: 0.7703\n",
            "Epoch 20/40\n",
            "94/94 [==============================] - 1s 6ms/step - loss: 0.6473 - acc: 0.7501 - val_loss: 0.5795 - val_acc: 0.7738\n",
            "Epoch 21/40\n",
            "94/94 [==============================] - 1s 7ms/step - loss: 0.6247 - acc: 0.7571 - val_loss: 0.5480 - val_acc: 0.7845\n",
            "Epoch 22/40\n",
            "94/94 [==============================] - 1s 6ms/step - loss: 0.7010 - acc: 0.7547 - val_loss: 1.1250 - val_acc: 0.6661\n",
            "Epoch 23/40\n",
            "94/94 [==============================] - 1s 7ms/step - loss: 0.7567 - acc: 0.6789 - val_loss: 0.5696 - val_acc: 0.7694\n",
            "Epoch 24/40\n",
            "94/94 [==============================] - 1s 7ms/step - loss: 0.6991 - acc: 0.7116 - val_loss: 0.6544 - val_acc: 0.6883\n",
            "Epoch 25/40\n",
            "94/94 [==============================] - 1s 5ms/step - loss: 0.6244 - acc: 0.7292 - val_loss: 0.5954 - val_acc: 0.7355\n",
            "Epoch 26/40\n",
            "94/94 [==============================] - 0s 5ms/step - loss: 0.5919 - acc: 0.7464 - val_loss: 0.5758 - val_acc: 0.7516\n",
            "Epoch 27/40\n",
            "94/94 [==============================] - 0s 5ms/step - loss: 0.5814 - acc: 0.7623 - val_loss: 0.5784 - val_acc: 0.7462\n",
            "Epoch 28/40\n",
            "94/94 [==============================] - 0s 5ms/step - loss: 0.5733 - acc: 0.7658 - val_loss: 0.5388 - val_acc: 0.7676\n",
            "Epoch 29/40\n",
            "94/94 [==============================] - 1s 6ms/step - loss: 0.5625 - acc: 0.7720 - val_loss: 0.5586 - val_acc: 0.7587\n",
            "Epoch 30/40\n",
            "94/94 [==============================] - 1s 6ms/step - loss: 0.5552 - acc: 0.7752 - val_loss: 0.5949 - val_acc: 0.7524\n",
            "Epoch 31/40\n",
            "94/94 [==============================] - 1s 7ms/step - loss: 0.5519 - acc: 0.7745 - val_loss: 0.5250 - val_acc: 0.7703\n",
            "Epoch 32/40\n",
            "94/94 [==============================] - 1s 6ms/step - loss: 0.5558 - acc: 0.7705 - val_loss: 0.4931 - val_acc: 0.7979\n",
            "Epoch 33/40\n",
            "94/94 [==============================] - 1s 6ms/step - loss: 0.6259 - acc: 0.7234 - val_loss: 0.4934 - val_acc: 0.7872\n",
            "Epoch 34/40\n",
            "94/94 [==============================] - 0s 5ms/step - loss: 0.5600 - acc: 0.7691 - val_loss: 0.5218 - val_acc: 0.7694\n",
            "Epoch 35/40\n",
            "94/94 [==============================] - 0s 5ms/step - loss: 0.5582 - acc: 0.7757 - val_loss: 0.5175 - val_acc: 0.7703\n",
            "Epoch 36/40\n",
            "94/94 [==============================] - 0s 5ms/step - loss: 0.5409 - acc: 0.7772 - val_loss: 0.5175 - val_acc: 0.7658\n",
            "Epoch 37/40\n",
            "94/94 [==============================] - 1s 6ms/step - loss: 0.5335 - acc: 0.7807 - val_loss: 0.5071 - val_acc: 0.7720\n",
            "Epoch 38/40\n",
            "94/94 [==============================] - 1s 6ms/step - loss: 0.5304 - acc: 0.7815 - val_loss: 0.4894 - val_acc: 0.7738\n",
            "Epoch 39/40\n",
            "94/94 [==============================] - 1s 7ms/step - loss: 0.5326 - acc: 0.7809 - val_loss: 0.4977 - val_acc: 0.7729\n",
            "Epoch 40/40\n",
            "94/94 [==============================] - 1s 7ms/step - loss: 0.5232 - acc: 0.7832 - val_loss: 0.5046 - val_acc: 0.7711\n"
          ]
        }
      ],
      "source": [
        "# deklarasi model\n",
        "input_ = keras.layers.Input(shape=x_train.shape[1:])\n",
        "hidden1 = keras.layers.Dense(128, kernel_regularizer=tf.keras.regularizers.L2(), activation=\"relu\")(input_)\n",
        "hidden2 = keras.layers.Dense(64, kernel_regularizer=tf.keras.regularizers.L2(), activation=\"relu\")(hidden1)\n",
        "hidden3 = keras.layers.Dense(1, activation=\"sigmoid\")(hidden2)\n",
        "concat = keras.layers.concatenate([input_, hidden3])\n",
        "output = keras.layers.Dense(1)(concat)\n",
        "model_func = keras.models.Model(inputs=[input_], outputs=[output])\n",
        "\n",
        "# compile, jika case multi-class, gunakan softmax untuk activation. dan categorical_crossentropy untuk loss.\n",
        "model_func.compile(loss = 'binary_crossentropy', \n",
        "                optimizer = keras.optimizers.Adam(learning_rate=0.001),\n",
        "                metrics = [\"acc\"])\n",
        "\n",
        "# Define the best epoc if learning rate is used\n",
        "es_callback = keras.callbacks.EarlyStopping(patience=20, restore_best_weights=True)\n",
        "\n",
        "# Model Training\n",
        "history_sq = model_func.fit(training_batches, epochs=40, validation_data=(validation_batches), \n",
        "                            callbacks = [es_callback], verbose=1)"
      ]
    },
    {
      "cell_type": "code",
      "execution_count": 40,
      "metadata": {},
      "outputs": [
        {
          "data": {
            "image/png": "[encoded data removed]",
            "text/plain": [
              "<Figure size 576x432 with 1 Axes>"
            ]
          },
          "metadata": {
            "needs_background": "light"
          },
          "output_type": "display_data"
        }
      ],
      "source": [
        "# Define chart of metrics\n",
        "pd.DataFrame(history_func.history).plot(figsize=(8,6))\n",
        "plt.grid(True)\n",
        "plt.gca().set_ylim(0,3)\n",
        "plt.show()"
      ]
    },
    {
      "cell_type": "markdown",
      "metadata": {},
      "source": [
        "## G3. Overall Evaluation"
      ]
    },
    {
      "cell_type": "markdown",
      "metadata": {},
      "source": [
        "Dari hasil performa model, overall model dengan akurasi dan loss dengan konsisten terbaik adalah **model sequential (dengan optimasi dan improvement)**... atau model_sq. </br>\n",
        "Evaluasi akan dilakukan berdasarkan metrics `Confusion Metrix (classification_report)`."
      ]
    },
    {
      "cell_type": "code",
      "execution_count": 56,
      "metadata": {},
      "outputs": [
        {
          "name": "stdout",
          "output_type": "stream",
          "text": [
            "205/205 [==============================] - 0s 2ms/step\n",
            "44/44 [==============================] - 0s 721us/step\n"
          ]
        }
      ],
      "source": [
        "# Predict Train and Test Label with the best model\n",
        "y_pred_train = model_sq.predict(x_train).round().astype('int64')\n",
        "y_pred_test = model_sq.predict(x_test).round().astype('int64')"
      ]
    },
    {
      "cell_type": "code",
      "execution_count": 57,
      "metadata": {},
      "outputs": [
        {
          "data": {
            "image/png": "[encoded data removed]",
            "text/plain": [
              "<Figure size 1080x360 with 4 Axes>"
            ]
          },
          "metadata": {
            "needs_background": "light"
          },
          "output_type": "display_data"
        }
      ],
      "source": [
        "cm_train = confusion_matrix(y_train, y_pred_train, labels=[0,1])\n",
        "cm_test = confusion_matrix(y_test, y_pred_test, labels=[0,1])\n",
        "\n",
        "fig, ax = plt.subplots(1,2,figsize=(15,5))\n",
        "ConfusionMatrixDisplay(confusion_matrix=cm_train,display_labels=[0,1]).plot(ax=ax[0])\n",
        "ax[0].set_title('Chart 1 | y train vs y predict')\n",
        "ConfusionMatrixDisplay(confusion_matrix=cm_test,display_labels=[0,1]).plot(ax=ax[1])\n",
        "ax[1].set_title('Chart 2 | y test vs Y predict')\n",
        "\n",
        "# set the spacing between subplots\n",
        "plt.subplots_adjust(hspace=0.4)\n",
        "\n",
        "plt.show()"
      ]
    },
    {
      "cell_type": "code",
      "execution_count": 43,
      "metadata": {},
      "outputs": [
        {
          "name": "stdout",
          "output_type": "stream",
          "text": [
            "              precision    recall  f1-score   support\n",
            "\n",
            "           0       0.80      0.83      0.81      3279\n",
            "           1       0.82      0.79      0.80      3279\n",
            "\n",
            "    accuracy                           0.81      6558\n",
            "   macro avg       0.81      0.81      0.81      6558\n",
            "weighted avg       0.81      0.81      0.81      6558\n",
            "\n"
          ]
        }
      ],
      "source": [
        "# classification_report  =========== Train\n",
        "print(classification_report(y_train, y_pred_train))"
      ]
    },
    {
      "cell_type": "code",
      "execution_count": 44,
      "metadata": {},
      "outputs": [
        {
          "name": "stdout",
          "output_type": "stream",
          "text": [
            "              precision    recall  f1-score   support\n",
            "\n",
            "           0       0.89      0.82      0.85      1037\n",
            "           1       0.58      0.70      0.63       368\n",
            "\n",
            "    accuracy                           0.79      1405\n",
            "   macro avg       0.73      0.76      0.74      1405\n",
            "weighted avg       0.80      0.79      0.79      1405\n",
            "\n"
          ]
        }
      ],
      "source": [
        "# classification_report  ========== Test\n",
        "print(classification_report(y_test, y_pred_test))"
      ]
    },
    {
      "cell_type": "markdown",
      "metadata": {},
      "source": [
        "Dari hasil Confusion Metrix, 0 adalah No Churn (will not retain), sedangkan 1 adalah Yes Churn (will retain). Dilihat dari Chart 1, maka model masih keliru dalam memprediksi jumlah customer yang seharusnya No Churn (will not retain), padahal actual kenyataannya pelanggan tersebut akan retain (model perlu di-imporve dari sisi recall). Jika dilihat dari sisi bisnis, maka telco services tentu akan kehilangan peluang untuk mendapatkan customer yang retain lebih banyak karena kesalahan prediksi model."
      ]
    },
    {
      "cell_type": "markdown",
      "metadata": {},
      "source": [
        "# H. Model Saving"
      ]
    },
    {
      "cell_type": "code",
      "execution_count": 53,
      "metadata": {},
      "outputs": [
        {
          "name": "stdout",
          "output_type": "stream",
          "text": [
            "INFO:tensorflow:Assets written to: model_churn\\assets\n"
          ]
        }
      ],
      "source": [
        "# Saving preprocess without model \n",
        "pickle.dump(preprocessor, open(\"preprocessor.pkl\", \"wb\"))\n",
        "\n",
        "# Saving model\n",
        "model_sq.save(\"model_churn\")"
      ]
    },
    {
      "cell_type": "markdown",
      "metadata": {},
      "source": [
        "# I. Inferencing"
      ]
    },
    {
      "cell_type": "markdown",
      "metadata": {},
      "source": [
        "## I1. Load Model"
      ]
    },
    {
      "cell_type": "code",
      "execution_count": 46,
      "metadata": {},
      "outputs": [],
      "source": [
        "# Load All Files\n",
        "with open('preprocessor.pkl', 'rb') as file_1:\n",
        "  preprocessor = joblib.load(file_1)"
      ]
    },
    {
      "cell_type": "markdown",
      "metadata": {},
      "source": [
        "## I2. Predict"
      ]
    },
    {
      "cell_type": "code",
      "execution_count": 47,
      "metadata": {},
      "outputs": [
        {
          "name": "stdout",
          "output_type": "stream",
          "text": [
            "1/1 [==============================] - 0s 17ms/step\n"
          ]
        },
        {
          "data": {
            "text/html": [
              "<div>\n",
              "<style scoped>\n",
              "    .dataframe tbody tr th:only-of-type {\n",
              "        vertical-align: middle;\n",
              "    }\n",
              "\n",
              "    .dataframe tbody tr th {\n",
              "        vertical-align: top;\n",
              "    }\n",
              "\n",
              "    .dataframe thead th {\n",
              "        text-align: right;\n",
              "    }\n",
              "</style>\n",
              "<table border=\"1\" class=\"dataframe\">\n",
              "  <thead>\n",
              "    <tr style=\"text-align: right;\">\n",
              "      <th></th>\n",
              "      <th>Churn</th>\n",
              "      <th>Predict_Churn</th>\n",
              "    </tr>\n",
              "  </thead>\n",
              "  <tbody>\n",
              "    <tr>\n",
              "      <th>0</th>\n",
              "      <td>1</td>\n",
              "      <td>0</td>\n",
              "    </tr>\n",
              "    <tr>\n",
              "      <th>1</th>\n",
              "      <td>1</td>\n",
              "      <td>0</td>\n",
              "    </tr>\n",
              "    <tr>\n",
              "      <th>2</th>\n",
              "      <td>1</td>\n",
              "      <td>1</td>\n",
              "    </tr>\n",
              "    <tr>\n",
              "      <th>3</th>\n",
              "      <td>0</td>\n",
              "      <td>1</td>\n",
              "    </tr>\n",
              "    <tr>\n",
              "      <th>4</th>\n",
              "      <td>0</td>\n",
              "      <td>1</td>\n",
              "    </tr>\n",
              "    <tr>\n",
              "      <th>5</th>\n",
              "      <td>1</td>\n",
              "      <td>0</td>\n",
              "    </tr>\n",
              "    <tr>\n",
              "      <th>6</th>\n",
              "      <td>1</td>\n",
              "      <td>0</td>\n",
              "    </tr>\n",
              "    <tr>\n",
              "      <th>7</th>\n",
              "      <td>0</td>\n",
              "      <td>1</td>\n",
              "    </tr>\n",
              "    <tr>\n",
              "      <th>8</th>\n",
              "      <td>0</td>\n",
              "      <td>0</td>\n",
              "    </tr>\n",
              "    <tr>\n",
              "      <th>9</th>\n",
              "      <td>0</td>\n",
              "      <td>1</td>\n",
              "    </tr>\n",
              "  </tbody>\n",
              "</table>\n",
              "</div>"
            ],
            "text/plain": [
              "   Churn  Predict_Churn\n",
              "0      1              0\n",
              "1      1              0\n",
              "2      1              1\n",
              "3      0              1\n",
              "4      0              1\n",
              "5      1              0\n",
              "6      1              0\n",
              "7      0              1\n",
              "8      0              0\n",
              "9      0              1"
            ]
          },
          "execution_count": 47,
          "metadata": {},
          "output_type": "execute_result"
        }
      ],
      "source": [
        "# Feature Scaling and Feature Encoding\n",
        "data_inf_preprocessor = preprocessor.transform(data_inf)\n",
        "\n",
        "# Predict using Linear Regression \n",
        "y_pred_inf = model_sq.predict(data_inf_preprocessor)\n",
        "\n",
        "# Create DataFrame of Rating's Prediction \n",
        "y_pred_inf_df = pd.DataFrame(y_pred_inf.round().astype(int), columns=['Predict_Churn'])\n",
        "\n",
        "# Concate between Inference-Set and Rating's Prediction\n",
        "result = pd.concat([data_inf['Churn'], y_pred_inf_df], axis=1)\n",
        "result"
      ]
    },
    {
      "cell_type": "markdown",
      "metadata": {},
      "source": [
        "# K. Kesimpulan"
      ]
    },
    {
      "cell_type": "markdown",
      "metadata": {},
      "source": [
        "**Model Analysis**\n",
        "\n",
        "Selama experiment menggunakan beberapa model, yaitu model sequence dan functional (baik yang dengan optimizer & improvement ataupun yang tidak), maka dapat disimpulkan bahwa model sequence relatif lebih mudah dalam penulisannya secara terstruktur sehingga sistematika saat dilakukan improvement pada model (from simple to complex) menjadi lebih clear. Adapun ketika menggunakan model functional, dari sisi penulisan relatif lebih flexible (tidak perlu berurut antar hidden layer dst).\n",
        "\n",
        "Adapun dari sisi model before dan after optimization & improvement, maka secara umum accuracy dan loss dari model menjadi lebih konsisten sehingga model cenderung menjadi lebih fit, khususnya dari sisi loss. Selisih Loss data train dan val secara umum after optimization & improvement menjadi lebih lebih kecil dan lebih konsisten. Namun dari sisi accuracy train dan val, sayangnya masih blm bisa maksimal, atau justru menjadi turun tapi secara umum selisih nilai accuracy menjadi lebih kecil which is good (hasilnya konsisten jika nilai epok yang kita set cukup besar), jika proses tuning dan optimasi model lebih baik, maka performa dari model seharusnya bisa lebih maksimal.\n",
        "\n",
        "Dari sisi eksperimen lainnya seperti epok, kita dapat melihat bahwa semakin banyak epok, maka secara umum accurcy dan loss dari model menjadi lebih baik, dan jika ditambahkan learning rate, mode hidden layer, serta callback pada model, maka hasil dari loss dan accuracy juga menjadi lebih konsisten."
      ]
    },
    {
      "cell_type": "markdown",
      "metadata": {},
      "source": [
        "**Overall Analysis**\n",
        "\n"
      ]
    },
    {
      "cell_type": "markdown",
      "metadata": {},
      "source": [
        "Model menggunakan ANN pada case ini overall bisa dikatakan underfit, meskipun result accuracy dari train, validasi, dan test-nya yang tidak jauh berbeda, namun secara menyeluruh accuracy masih di bawah 0.9. Selain itu, model after optimasi dan improvement overall menghasilkan loss dan accuracy yang lebih baik jika dibandingkan model basic (Notes: jumlah epok, callback, learning rate, regularization, dll juga sangat berpengaruh pada proses improvement model). Untuk menghasilkan model yang lebih baik, maka masih banyak beberapa hal yang harus diperbaiki, baik dari sisi eksperimen optimasi pada model, penambahan model improvement, serta melakukan adjut ulang atas treshold dari nilai presisi dan recall pada model."
      ]
    },
    {
      "cell_type": "markdown",
      "metadata": {},
      "source": [
        "***"
      ]
    },
    {
      "cell_type": "markdown",
      "metadata": {},
      "source": [
        "# .... Additional Section for Deployment"
      ]
    },
    {
      "cell_type": "code",
      "execution_count": 48,
      "metadata": {},
      "outputs": [
        {
          "data": {
            "text/html": [
              "<div>\n",
              "<style scoped>\n",
              "    .dataframe tbody tr th:only-of-type {\n",
              "        vertical-align: middle;\n",
              "    }\n",
              "\n",
              "    .dataframe tbody tr th {\n",
              "        vertical-align: top;\n",
              "    }\n",
              "\n",
              "    .dataframe thead th {\n",
              "        text-align: right;\n",
              "    }\n",
              "</style>\n",
              "<table border=\"1\" class=\"dataframe\">\n",
              "  <thead>\n",
              "    <tr style=\"text-align: right;\">\n",
              "      <th></th>\n",
              "      <th>SeniorCitizen</th>\n",
              "      <th>Partner</th>\n",
              "      <th>Dependents</th>\n",
              "      <th>tenure</th>\n",
              "      <th>MultipleLines</th>\n",
              "      <th>InternetService</th>\n",
              "      <th>OnlineSecurity</th>\n",
              "      <th>OnlineBackup</th>\n",
              "      <th>DeviceProtection</th>\n",
              "      <th>TechSupport</th>\n",
              "      <th>StreamingTV</th>\n",
              "      <th>StreamingMovies</th>\n",
              "      <th>Contract</th>\n",
              "      <th>PaperlessBilling</th>\n",
              "      <th>PaymentMethod</th>\n",
              "      <th>MonthlyCharges</th>\n",
              "      <th>TotalCharges</th>\n",
              "    </tr>\n",
              "  </thead>\n",
              "  <tbody>\n",
              "    <tr>\n",
              "      <th>0</th>\n",
              "      <td>Yes</td>\n",
              "      <td>Yes</td>\n",
              "      <td>Yes</td>\n",
              "      <td>10</td>\n",
              "      <td>Yes</td>\n",
              "      <td>Fiber optic</td>\n",
              "      <td>Yes</td>\n",
              "      <td>Yes</td>\n",
              "      <td>Yes</td>\n",
              "      <td>Yes</td>\n",
              "      <td>Yes</td>\n",
              "      <td>Yes</td>\n",
              "      <td>One year</td>\n",
              "      <td>Yes</td>\n",
              "      <td>Electronic check</td>\n",
              "      <td>30</td>\n",
              "      <td>600</td>\n",
              "    </tr>\n",
              "  </tbody>\n",
              "</table>\n",
              "</div>"
            ],
            "text/plain": [
              "  SeniorCitizen Partner Dependents  tenure MultipleLines InternetService  \\\n",
              "0           Yes     Yes        Yes      10           Yes     Fiber optic   \n",
              "\n",
              "  OnlineSecurity OnlineBackup DeviceProtection TechSupport StreamingTV  \\\n",
              "0            Yes          Yes              Yes         Yes         Yes   \n",
              "\n",
              "  StreamingMovies  Contract PaperlessBilling     PaymentMethod  \\\n",
              "0             Yes  One year              Yes  Electronic check   \n",
              "\n",
              "   MonthlyCharges  TotalCharges  \n",
              "0              30           600  "
            ]
          },
          "execution_count": 48,
          "metadata": {},
          "output_type": "execute_result"
        }
      ],
      "source": [
        "# input user\n",
        "new_data = {'SeniorCitizen': 'Yes',\n",
        "            'Partner': 'Yes',\n",
        "            'Dependents': 'Yes',\n",
        "            'tenure': 10,\n",
        "            'MultipleLines': 'Yes',\n",
        "            'InternetService': 'Fiber optic',\n",
        "            'OnlineSecurity': 'Yes',\n",
        "            'OnlineBackup': 'Yes',\n",
        "            'DeviceProtection': 'Yes',\n",
        "            'TechSupport': 'Yes',\n",
        "            'StreamingTV': 'Yes',\n",
        "            'StreamingMovies': 'Yes',\n",
        "            'Contract': 'One year',\n",
        "            'PaperlessBilling': 'Yes',\n",
        "            'PaymentMethod' : 'Electronic check',\n",
        "            'MonthlyCharges': 30,\n",
        "            'TotalCharges': 600}\n",
        "\n",
        "# ubah menjadi dataframe\n",
        "new_data = pd.DataFrame([new_data])\n",
        "new_data"
      ]
    },
    {
      "cell_type": "code",
      "execution_count": null,
      "metadata": {},
      "outputs": [],
      "source": [
        "# preprocessing, result convert menjadi nested list\n",
        "new_data = preprocessor.transform(new_data)\n",
        "new_data = new_data.tolist()"
      ]
    },
    {
      "cell_type": "code",
      "execution_count": 50,
      "metadata": {},
      "outputs": [],
      "source": [
        "# inference & input data\n",
        "import json\n",
        "\n",
        "input_data_json = json.dumps({\n",
        "    \"signature_name\": \"serving_default\",\n",
        "    \"instances\": new_data\n",
        "})"
      ]
    },
    {
      "cell_type": "code",
      "execution_count": 54,
      "metadata": {},
      "outputs": [
        {
          "data": {
            "text/plain": [
              "{'predictions': [[0.323468804]]}"
            ]
          },
          "execution_count": 54,
          "metadata": {},
          "output_type": "execute_result"
        }
      ],
      "source": [
        "# inference\n",
        "# predict\n",
        "import requests\n",
        "\n",
        "URL = \"http://backend-bismillah.herokuapp.com/v1/models/model_churn:predict\"\n",
        "r = requests.post(URL, data=input_data_json)\n",
        "\n",
        "# berikut bentuk data hasil prediksi\n",
        "res = r.json()\n",
        "res"
      ]
    },
    {
      "cell_type": "code",
      "execution_count": 55,
      "metadata": {},
      "outputs": [
        {
          "name": "stdout",
          "output_type": "stream",
          "text": [
            "No\n"
          ]
        }
      ],
      "source": [
        "# interpretasikan hasil probability\n",
        "if r.status_code == 200:\n",
        "  res = r.json()\n",
        "  if res['predictions'][0][0] > 0.5:\n",
        "    print('Yes')\n",
        "  else:\n",
        "    print('No')\n",
        "else:\n",
        "  print('Error')"
      ]
    }
  ],
  "metadata": {
    "colab": {
      "collapsed_sections": [],
      "name": "P1W1D1PM - 20220808 - FTDS-014 - Machine Learning Problem Framing.ipynb",
      "provenance": [],
      "toc_visible": true
    },
    "kernelspec": {
      "display_name": "Python 3.9.12 ('base')",
      "language": "python",
      "name": "python3"
    },
    "language_info": {
      "codemirror_mode": {
        "name": "ipython",
        "version": 3
      },
      "file_extension": ".py",
      "mimetype": "text/x-python",
      "name": "python",
      "nbconvert_exporter": "python",
      "pygments_lexer": "ipython3",
      "version": "3.9.12"
    },
    "vscode": {
      "interpreter": {
        "hash": "ad2bdc8ecc057115af97d19610ffacc2b4e99fae6737bb82f5d7fb13d2f2c186"
      }
    }
  },
  "nbformat": 4,
  "nbformat_minor": 0
}
