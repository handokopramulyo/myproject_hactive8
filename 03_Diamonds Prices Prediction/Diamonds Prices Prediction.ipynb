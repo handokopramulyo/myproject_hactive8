{
  "cells": [
    {
      "cell_type": "markdown",
      "metadata": {},
      "source": [
        "# Phase 1 Milestone 2"
      ]
    },
    {
      "cell_type": "markdown",
      "metadata": {
        "id": "eJmhTvjTLOKL"
      },
      "source": [
        "# A. Introduction"
      ]
    },
    {
      "cell_type": "markdown",
      "metadata": {
        "id": "WiD5g5ONLUUI"
      },
      "source": [
        "by Handoko Pramulyo | Batch : FTDS-014\n",
        "\n",
        "Case yang akan diangkat pada milestone ini adalah terkait pembuatan model regresi dari dataset **Diamonds Prices**. Dataset yang digunakan berisi kumpulan data harga dan atribut untuk sekitar 54.000 round-cut diamonds. Dataset ini terdiri dari 10 fitur, yaitu karat, cut, warna, clarity, depth, table, harga (dalam \\$), serta dimensi dalam x, y, dan z dlm (mm). Sebagian besar feature bersifat numerik, tetapi variabel cut, warna, dan clarity merupakan feature categorical. Semenjak terdapat cukup banyak parameter yang bisa menetukan harga diamonds, maka akan cukup sulit bagi retail business owner ketika ingin me-release harga baru untuk new diamonds tersebut kepada public, or akan sulit untuk membeli diamonds dengan harga yang tepat dari pricipal manufacture diaomonds tersebut. So, dengan membuat model ML regresi, problem dengan impact value $ yang besar ini bisa menjadi alternatif dalam menentukan harga diamond dengan baik tanpa perlu meng-hire diamond price estimator.\n",
        "\n",
        "Source of data : https://www.kaggle.com/datasets/nancyalaswad90/diamonds-prices\n",
        "\n",
        "Deployment app link : https://frontend-diamonds.herokuapp.com\n",
        "\n",
        "Objective : Membuat **Model Regresi pada dataset Diamonds Prices** , `Label : Price`"
      ]
    },
    {
      "cell_type": "markdown",
      "metadata": {
        "id": "km727JdcLh0z"
      },
      "source": [
        "# B. Import Libraries"
      ]
    },
    {
      "cell_type": "code",
      "execution_count": 3,
      "metadata": {
        "id": "GMpBWMAADj5y"
      },
      "outputs": [],
      "source": [
        "import pandas as pd\n",
        "import numpy as np \n",
        "import seaborn as sns\n",
        "import xgboost as xg\n",
        "import matplotlib.pyplot as plt \n",
        "from sklearn.model_selection import train_test_split \n",
        "from sklearn.preprocessing import StandardScaler, MinMaxScaler, RobustScaler, OrdinalEncoder\n",
        "from sklearn.linear_model import LinearRegression, Ridge, Lasso\n",
        "from sklearn.tree import DecisionTreeRegressor\n",
        "from sklearn.metrics import mean_absolute_error, mean_squared_error, r2_score\n",
        "from sklearn.model_selection import cross_val_score\n",
        "from sklearn.model_selection import GridSearchCV\n",
        "from sklearn.pipeline import Pipeline\n",
        "from sklearn.compose import ColumnTransformer\n",
        "from feature_engine.outliers import Winsorizer\n",
        "import joblib\n",
        "import json"
      ]
    },
    {
      "cell_type": "markdown",
      "metadata": {},
      "source": [
        "Pada case Machine Learning ini, library yang akan digunakan adalah scikit-learn & xgboost (Machine Learning library in Python), library yang dedicated dibuat untuk Machine Learning. Simple and efficient tools for predictive data analysis, Accessible to everybody, and reusable in various contexts, Built on NumPy, SciPy, and matplotlib, Open source, dan sekaligus commercially usable. OK, lets proceed to the next part."
      ]
    },
    {
      "cell_type": "markdown",
      "metadata": {
        "id": "pi8FD5OCMRiT"
      },
      "source": [
        "# C. Data Loading"
      ]
    },
    {
      "cell_type": "markdown",
      "metadata": {
        "id": "o9whQcgWMWrI"
      },
      "source": [
        "Pada bagian ini, kita akan coba isi dengan proses penyiapan data (pd read) sebelum dilakukan eksplorasi data lebih lanjut (atau yang biasa disebut dengan EDA). Proses Data Loading dapat berupa memberi nama baru untuk setiap kolom (opsional), melihat gambaran umum dari data, mengecek ukuran dataset, dll."
      ]
    },
    {
      "cell_type": "code",
      "execution_count": 4,
      "metadata": {
        "colab": {
          "base_uri": "https://localhost:8080/",
          "height": 540
        },
        "id": "wmjnoakcMWTq",
        "outputId": "c93b2487-2221-44ee-b221-77fae62fe1ab"
      },
      "outputs": [
        {
          "data": {
            "text/html": [
              "<div>\n",
              "<style scoped>\n",
              "    .dataframe tbody tr th:only-of-type {\n",
              "        vertical-align: middle;\n",
              "    }\n",
              "\n",
              "    .dataframe tbody tr th {\n",
              "        vertical-align: top;\n",
              "    }\n",
              "\n",
              "    .dataframe thead th {\n",
              "        text-align: right;\n",
              "    }\n",
              "</style>\n",
              "<table border=\"1\" class=\"dataframe\">\n",
              "  <thead>\n",
              "    <tr style=\"text-align: right;\">\n",
              "      <th></th>\n",
              "      <th>Unnamed: 0</th>\n",
              "      <th>carat</th>\n",
              "      <th>cut</th>\n",
              "      <th>color</th>\n",
              "      <th>clarity</th>\n",
              "      <th>depth</th>\n",
              "      <th>table</th>\n",
              "      <th>price</th>\n",
              "      <th>x</th>\n",
              "      <th>y</th>\n",
              "      <th>z</th>\n",
              "    </tr>\n",
              "  </thead>\n",
              "  <tbody>\n",
              "    <tr>\n",
              "      <th>0</th>\n",
              "      <td>1</td>\n",
              "      <td>0.23</td>\n",
              "      <td>Ideal</td>\n",
              "      <td>E</td>\n",
              "      <td>SI2</td>\n",
              "      <td>61.5</td>\n",
              "      <td>55.0</td>\n",
              "      <td>326</td>\n",
              "      <td>3.95</td>\n",
              "      <td>3.98</td>\n",
              "      <td>2.43</td>\n",
              "    </tr>\n",
              "    <tr>\n",
              "      <th>1</th>\n",
              "      <td>2</td>\n",
              "      <td>0.21</td>\n",
              "      <td>Premium</td>\n",
              "      <td>E</td>\n",
              "      <td>SI1</td>\n",
              "      <td>59.8</td>\n",
              "      <td>61.0</td>\n",
              "      <td>326</td>\n",
              "      <td>3.89</td>\n",
              "      <td>3.84</td>\n",
              "      <td>2.31</td>\n",
              "    </tr>\n",
              "    <tr>\n",
              "      <th>2</th>\n",
              "      <td>3</td>\n",
              "      <td>0.23</td>\n",
              "      <td>Good</td>\n",
              "      <td>E</td>\n",
              "      <td>VS1</td>\n",
              "      <td>56.9</td>\n",
              "      <td>65.0</td>\n",
              "      <td>327</td>\n",
              "      <td>4.05</td>\n",
              "      <td>4.07</td>\n",
              "      <td>2.31</td>\n",
              "    </tr>\n",
              "    <tr>\n",
              "      <th>3</th>\n",
              "      <td>4</td>\n",
              "      <td>0.29</td>\n",
              "      <td>Premium</td>\n",
              "      <td>I</td>\n",
              "      <td>VS2</td>\n",
              "      <td>62.4</td>\n",
              "      <td>58.0</td>\n",
              "      <td>334</td>\n",
              "      <td>4.20</td>\n",
              "      <td>4.23</td>\n",
              "      <td>2.63</td>\n",
              "    </tr>\n",
              "    <tr>\n",
              "      <th>4</th>\n",
              "      <td>5</td>\n",
              "      <td>0.31</td>\n",
              "      <td>Good</td>\n",
              "      <td>J</td>\n",
              "      <td>SI2</td>\n",
              "      <td>63.3</td>\n",
              "      <td>58.0</td>\n",
              "      <td>335</td>\n",
              "      <td>4.34</td>\n",
              "      <td>4.35</td>\n",
              "      <td>2.75</td>\n",
              "    </tr>\n",
              "  </tbody>\n",
              "</table>\n",
              "</div>"
            ],
            "text/plain": [
              "   Unnamed: 0  carat      cut color clarity  depth  table  price     x     y  \\\n",
              "0           1   0.23    Ideal     E     SI2   61.5   55.0    326  3.95  3.98   \n",
              "1           2   0.21  Premium     E     SI1   59.8   61.0    326  3.89  3.84   \n",
              "2           3   0.23     Good     E     VS1   56.9   65.0    327  4.05  4.07   \n",
              "3           4   0.29  Premium     I     VS2   62.4   58.0    334  4.20  4.23   \n",
              "4           5   0.31     Good     J     SI2   63.3   58.0    335  4.34  4.35   \n",
              "\n",
              "      z  \n",
              "0  2.43  \n",
              "1  2.31  \n",
              "2  2.31  \n",
              "3  2.63  \n",
              "4  2.75  "
            ]
          },
          "execution_count": 4,
          "metadata": {},
          "output_type": "execute_result"
        }
      ],
      "source": [
        "# Load Dataset \n",
        "data = pd.read_csv('h8dsft_Milestone2P1_Handoko_Pramulyo.csv') # Read CSV file\n",
        "# data = pd.read_excel('filename.xlsx', index_col=None, header=None) # Read Excel file\n",
        "data.head()"
      ]
    },
    {
      "cell_type": "code",
      "execution_count": 5,
      "metadata": {},
      "outputs": [
        {
          "data": {
            "text/html": [
              "<div>\n",
              "<style scoped>\n",
              "    .dataframe tbody tr th:only-of-type {\n",
              "        vertical-align: middle;\n",
              "    }\n",
              "\n",
              "    .dataframe tbody tr th {\n",
              "        vertical-align: top;\n",
              "    }\n",
              "\n",
              "    .dataframe thead th {\n",
              "        text-align: right;\n",
              "    }\n",
              "</style>\n",
              "<table border=\"1\" class=\"dataframe\">\n",
              "  <thead>\n",
              "    <tr style=\"text-align: right;\">\n",
              "      <th></th>\n",
              "      <th>Unnamed: 0</th>\n",
              "      <th>carat</th>\n",
              "      <th>cut</th>\n",
              "      <th>color</th>\n",
              "      <th>clarity</th>\n",
              "      <th>depth</th>\n",
              "      <th>table</th>\n",
              "      <th>price</th>\n",
              "      <th>x</th>\n",
              "      <th>y</th>\n",
              "      <th>z</th>\n",
              "    </tr>\n",
              "  </thead>\n",
              "  <tbody>\n",
              "    <tr>\n",
              "      <th>53938</th>\n",
              "      <td>53939</td>\n",
              "      <td>0.86</td>\n",
              "      <td>Premium</td>\n",
              "      <td>H</td>\n",
              "      <td>SI2</td>\n",
              "      <td>61.0</td>\n",
              "      <td>58.0</td>\n",
              "      <td>2757</td>\n",
              "      <td>6.15</td>\n",
              "      <td>6.12</td>\n",
              "      <td>3.74</td>\n",
              "    </tr>\n",
              "    <tr>\n",
              "      <th>53939</th>\n",
              "      <td>53940</td>\n",
              "      <td>0.75</td>\n",
              "      <td>Ideal</td>\n",
              "      <td>D</td>\n",
              "      <td>SI2</td>\n",
              "      <td>62.2</td>\n",
              "      <td>55.0</td>\n",
              "      <td>2757</td>\n",
              "      <td>5.83</td>\n",
              "      <td>5.87</td>\n",
              "      <td>3.64</td>\n",
              "    </tr>\n",
              "    <tr>\n",
              "      <th>53940</th>\n",
              "      <td>53941</td>\n",
              "      <td>0.71</td>\n",
              "      <td>Premium</td>\n",
              "      <td>E</td>\n",
              "      <td>SI1</td>\n",
              "      <td>60.5</td>\n",
              "      <td>55.0</td>\n",
              "      <td>2756</td>\n",
              "      <td>5.79</td>\n",
              "      <td>5.74</td>\n",
              "      <td>3.49</td>\n",
              "    </tr>\n",
              "    <tr>\n",
              "      <th>53941</th>\n",
              "      <td>53942</td>\n",
              "      <td>0.71</td>\n",
              "      <td>Premium</td>\n",
              "      <td>F</td>\n",
              "      <td>SI1</td>\n",
              "      <td>59.8</td>\n",
              "      <td>62.0</td>\n",
              "      <td>2756</td>\n",
              "      <td>5.74</td>\n",
              "      <td>5.73</td>\n",
              "      <td>3.43</td>\n",
              "    </tr>\n",
              "    <tr>\n",
              "      <th>53942</th>\n",
              "      <td>53943</td>\n",
              "      <td>0.70</td>\n",
              "      <td>Very Good</td>\n",
              "      <td>E</td>\n",
              "      <td>VS2</td>\n",
              "      <td>60.5</td>\n",
              "      <td>59.0</td>\n",
              "      <td>2757</td>\n",
              "      <td>5.71</td>\n",
              "      <td>5.76</td>\n",
              "      <td>3.47</td>\n",
              "    </tr>\n",
              "  </tbody>\n",
              "</table>\n",
              "</div>"
            ],
            "text/plain": [
              "       Unnamed: 0  carat        cut color clarity  depth  table  price     x  \\\n",
              "53938       53939   0.86    Premium     H     SI2   61.0   58.0   2757  6.15   \n",
              "53939       53940   0.75      Ideal     D     SI2   62.2   55.0   2757  5.83   \n",
              "53940       53941   0.71    Premium     E     SI1   60.5   55.0   2756  5.79   \n",
              "53941       53942   0.71    Premium     F     SI1   59.8   62.0   2756  5.74   \n",
              "53942       53943   0.70  Very Good     E     VS2   60.5   59.0   2757  5.71   \n",
              "\n",
              "          y     z  \n",
              "53938  6.12  3.74  \n",
              "53939  5.87  3.64  \n",
              "53940  5.74  3.49  \n",
              "53941  5.73  3.43  \n",
              "53942  5.76  3.47  "
            ]
          },
          "execution_count": 5,
          "metadata": {},
          "output_type": "execute_result"
        }
      ],
      "source": [
        "data.tail()"
      ]
    },
    {
      "cell_type": "markdown",
      "metadata": {},
      "source": [
        "Data observasi OKE (lebih dari 50 jumlah observasi --> based on sclearn recommendation) dengan jumlah feature yang proporsional, maka yang bisa kita artikan bahwa model yang akan dibuat 'most likely' low possibility untuk overfit (due to low variance which is good. ```Additional conclusion based on least square``` Jennifer Zhao in medium.com)."
      ]
    },
    {
      "cell_type": "code",
      "execution_count": 6,
      "metadata": {
        "id": "k4EGb-pmMX9O"
      },
      "outputs": [],
      "source": [
        "# Duplicate Dataset\n",
        "data_copy = data.copy()\n",
        "label_name = 'price'"
      ]
    },
    {
      "cell_type": "code",
      "execution_count": 7,
      "metadata": {},
      "outputs": [
        {
          "name": "stdout",
          "output_type": "stream",
          "text": [
            "<class 'pandas.core.frame.DataFrame'>\n",
            "RangeIndex: 53943 entries, 0 to 53942\n",
            "Data columns (total 11 columns):\n",
            " #   Column      Non-Null Count  Dtype  \n",
            "---  ------      --------------  -----  \n",
            " 0   Unnamed: 0  53943 non-null  int64  \n",
            " 1   carat       53943 non-null  float64\n",
            " 2   cut         53943 non-null  object \n",
            " 3   color       53943 non-null  object \n",
            " 4   clarity     53943 non-null  object \n",
            " 5   depth       53943 non-null  float64\n",
            " 6   table       53943 non-null  float64\n",
            " 7   price       53943 non-null  int64  \n",
            " 8   x           53943 non-null  float64\n",
            " 9   y           53943 non-null  float64\n",
            " 10  z           53943 non-null  float64\n",
            "dtypes: float64(6), int64(2), object(3)\n",
            "memory usage: 4.5+ MB\n"
          ]
        }
      ],
      "source": [
        "# Check Dataset (looking up for missing value and understanding the dataset Dtype)\n",
        "data.info()"
      ]
    },
    {
      "cell_type": "markdown",
      "metadata": {
        "id": "H8H38sarNg_B"
      },
      "source": [
        "**Dataset terdiri dari int, float dan object. No Nulled data!**"
      ]
    },
    {
      "cell_type": "code",
      "execution_count": 8,
      "metadata": {},
      "outputs": [
        {
          "data": {
            "text/html": [
              "<div>\n",
              "<style scoped>\n",
              "    .dataframe tbody tr th:only-of-type {\n",
              "        vertical-align: middle;\n",
              "    }\n",
              "\n",
              "    .dataframe tbody tr th {\n",
              "        vertical-align: top;\n",
              "    }\n",
              "\n",
              "    .dataframe thead th {\n",
              "        text-align: right;\n",
              "    }\n",
              "</style>\n",
              "<table border=\"1\" class=\"dataframe\">\n",
              "  <thead>\n",
              "    <tr style=\"text-align: right;\">\n",
              "      <th></th>\n",
              "      <th>Unnamed: 0</th>\n",
              "      <th>carat</th>\n",
              "      <th>depth</th>\n",
              "      <th>table</th>\n",
              "      <th>price</th>\n",
              "      <th>x</th>\n",
              "      <th>y</th>\n",
              "      <th>z</th>\n",
              "    </tr>\n",
              "  </thead>\n",
              "  <tbody>\n",
              "    <tr>\n",
              "      <th>count</th>\n",
              "      <td>53943.000000</td>\n",
              "      <td>53943.000000</td>\n",
              "      <td>53943.000000</td>\n",
              "      <td>53943.000000</td>\n",
              "      <td>53943.000000</td>\n",
              "      <td>53943.000000</td>\n",
              "      <td>53943.000000</td>\n",
              "      <td>53943.000000</td>\n",
              "    </tr>\n",
              "    <tr>\n",
              "      <th>mean</th>\n",
              "      <td>26972.000000</td>\n",
              "      <td>0.797935</td>\n",
              "      <td>61.749322</td>\n",
              "      <td>57.457251</td>\n",
              "      <td>3932.734294</td>\n",
              "      <td>5.731158</td>\n",
              "      <td>5.734526</td>\n",
              "      <td>3.538730</td>\n",
              "    </tr>\n",
              "    <tr>\n",
              "      <th>std</th>\n",
              "      <td>15572.147122</td>\n",
              "      <td>0.473999</td>\n",
              "      <td>1.432626</td>\n",
              "      <td>2.234549</td>\n",
              "      <td>3989.338447</td>\n",
              "      <td>1.121730</td>\n",
              "      <td>1.142103</td>\n",
              "      <td>0.705679</td>\n",
              "    </tr>\n",
              "    <tr>\n",
              "      <th>min</th>\n",
              "      <td>1.000000</td>\n",
              "      <td>0.200000</td>\n",
              "      <td>43.000000</td>\n",
              "      <td>43.000000</td>\n",
              "      <td>326.000000</td>\n",
              "      <td>0.000000</td>\n",
              "      <td>0.000000</td>\n",
              "      <td>0.000000</td>\n",
              "    </tr>\n",
              "    <tr>\n",
              "      <th>25%</th>\n",
              "      <td>13486.500000</td>\n",
              "      <td>0.400000</td>\n",
              "      <td>61.000000</td>\n",
              "      <td>56.000000</td>\n",
              "      <td>950.000000</td>\n",
              "      <td>4.710000</td>\n",
              "      <td>4.720000</td>\n",
              "      <td>2.910000</td>\n",
              "    </tr>\n",
              "    <tr>\n",
              "      <th>50%</th>\n",
              "      <td>26972.000000</td>\n",
              "      <td>0.700000</td>\n",
              "      <td>61.800000</td>\n",
              "      <td>57.000000</td>\n",
              "      <td>2401.000000</td>\n",
              "      <td>5.700000</td>\n",
              "      <td>5.710000</td>\n",
              "      <td>3.530000</td>\n",
              "    </tr>\n",
              "    <tr>\n",
              "      <th>75%</th>\n",
              "      <td>40457.500000</td>\n",
              "      <td>1.040000</td>\n",
              "      <td>62.500000</td>\n",
              "      <td>59.000000</td>\n",
              "      <td>5324.000000</td>\n",
              "      <td>6.540000</td>\n",
              "      <td>6.540000</td>\n",
              "      <td>4.040000</td>\n",
              "    </tr>\n",
              "    <tr>\n",
              "      <th>max</th>\n",
              "      <td>53943.000000</td>\n",
              "      <td>5.010000</td>\n",
              "      <td>79.000000</td>\n",
              "      <td>95.000000</td>\n",
              "      <td>18823.000000</td>\n",
              "      <td>10.740000</td>\n",
              "      <td>58.900000</td>\n",
              "      <td>31.800000</td>\n",
              "    </tr>\n",
              "  </tbody>\n",
              "</table>\n",
              "</div>"
            ],
            "text/plain": [
              "         Unnamed: 0         carat         depth         table         price  \\\n",
              "count  53943.000000  53943.000000  53943.000000  53943.000000  53943.000000   \n",
              "mean   26972.000000      0.797935     61.749322     57.457251   3932.734294   \n",
              "std    15572.147122      0.473999      1.432626      2.234549   3989.338447   \n",
              "min        1.000000      0.200000     43.000000     43.000000    326.000000   \n",
              "25%    13486.500000      0.400000     61.000000     56.000000    950.000000   \n",
              "50%    26972.000000      0.700000     61.800000     57.000000   2401.000000   \n",
              "75%    40457.500000      1.040000     62.500000     59.000000   5324.000000   \n",
              "max    53943.000000      5.010000     79.000000     95.000000  18823.000000   \n",
              "\n",
              "                  x             y             z  \n",
              "count  53943.000000  53943.000000  53943.000000  \n",
              "mean       5.731158      5.734526      3.538730  \n",
              "std        1.121730      1.142103      0.705679  \n",
              "min        0.000000      0.000000      0.000000  \n",
              "25%        4.710000      4.720000      2.910000  \n",
              "50%        5.700000      5.710000      3.530000  \n",
              "75%        6.540000      6.540000      4.040000  \n",
              "max       10.740000     58.900000     31.800000  "
            ]
          },
          "execution_count": 8,
          "metadata": {},
          "output_type": "execute_result"
        }
      ],
      "source": [
        "# Check Dataset\n",
        "data.describe()"
      ]
    },
    {
      "cell_type": "markdown",
      "metadata": {
        "id": "U2SzQvisNw_B"
      },
      "source": [
        "Berdasarkan dari gambaran data, rata-rata dan median jenis carat diamonds pada dataset adalah sebesar ~0.8 dan ~0.7. Ukuran carat diamonds (value media to average) tersebut sebetulnya paling sering digunakan pada pembuatan cincin tunangan atau pernikahan (diamonds.pro). Carat diamonds yang lebih besar dari 1 sudah cukup besar secara ukuran sehingga lebih mudah untuk di-notice oleh banyak orang saat digunakan (max carat - 5.01 - might be legitimate outliers). Adapun rata-rata dan median depth dan table menunjukkan bahwa diamonds pada dataset mostly memiliki kualitas yang cukup baik. Dari beberapa sumber (torresjewelco.com), Dept diamond yang excellent adalah sebesar 59 sd 60% dari total diameter diamonds, sedangkan untuk table adalah sebesar 53 sd 60%. Dari sisi price, terdapat GAP yang sangat fantastis (Max - Min), yaitu sebesar ~ 18.5K, dan mayority dari dataset ini adalah diamonds dengan median harga yang cukup mahal, yaitu sekitar ~ 2400. Padahal perspective market indonesia & dunia dgn the most diamonds sales price-nya adalah justru sebesar 1000 sd 2000 atau sekitar Rp15 juta, (by cnbc.com), demikian price dari diamond terdistribusi skew yang artinya terapat diamond buyer or auction yang sangat kaya raya (sultan or billioner) yang mampu membeli diamond dengan harga yang sangat fantastif, dan jumlah mereka tidaklah sedikit (by cnbc.com)."
      ]
    },
    {
      "cell_type": "markdown",
      "metadata": {
        "id": "4gJkybE_ORr8"
      },
      "source": [
        "# D. Exploratory Data Analysis (EDA)"
      ]
    },
    {
      "cell_type": "markdown",
      "metadata": {
        "id": "5TE-5NsVOUnT"
      },
      "source": [
        "Bagian ini berisi eksplorasi data pada dataset yang sudah kita load pada bagian pertama dengan menggunakan query, grouping, dan visualisasi sederhana (lets find out something interesting within the data). ```Lets find correlation between numerical feature before proceed even further!```"
      ]
    },
    {
      "cell_type": "code",
      "execution_count": 9,
      "metadata": {},
      "outputs": [],
      "source": [
        "# Define plot style\n",
        "plt.style.use('ggplot')"
      ]
    },
    {
      "cell_type": "code",
      "execution_count": 10,
      "metadata": {},
      "outputs": [
        {
          "data": {
            "image/png": "[encoded data removed]",
            "text/plain": [
              "<Figure size 576x360 with 2 Axes>"
            ]
          },
          "metadata": {},
          "output_type": "display_data"
        }
      ],
      "source": [
        "corr = data.corr()\n",
        "plt.figure(figsize=(8, 5))\n",
        "sns.heatmap(corr, annot=True, vmin=0, vmax=1, cmap=\"Blues\")\n",
        "plt.title('Feature Heatmap (Chart 0)')\n",
        "plt.xticks(rotation=0)\n",
        "plt.show()"
      ]
    },
    {
      "cell_type": "markdown",
      "metadata": {},
      "source": [
        "Hampir semua feature numerical memiliki korelasi yang cukup tinggi terhadap price (exlude columns index : Unnamed:0), di antaranya adalah carat serta dimensi dari diamonds (x, y, dan z). Adapun depth dan table tidak begitu memiliki korelasi yang tinggi pada price (korelasi < 0.2). Namun ada satu hal yang perlu diperhatikan, yaitu sifat multicollinearity pada dataset yang terjadi akibat feature carat yang berkorelasi cukup tinggi dengan dimensi (x, y, dan Z). Oleh karena itu, modeling regresi dengan linear regresi might be a bad idea (model regresi linear which could perform poorly with multicollinearity dataset), namun model lain seperti decision tree, random forest, serta turunan model booster lainnya seperti XgBoost might be a solution to avoid multicollinearity."
      ]
    },
    {
      "cell_type": "code",
      "execution_count": 11,
      "metadata": {},
      "outputs": [
        {
          "data": {
            "image/png": "[encoded data removed]",
            "text/plain": [
              "<Figure size 1296x360 with 3 Axes>"
            ]
          },
          "metadata": {},
          "output_type": "display_data"
        }
      ],
      "source": [
        "# Create Histogram and Scatter Plot\n",
        "plt.figure(figsize=(18, 5))\n",
        "\n",
        "plt.subplot(1, 3, 1), sns.histplot(data['price'], bins=20, kde=True), plt.title('Price Histogram (Chart 1)')\n",
        "plt.subplot(1, 3, 2), sns.histplot(data['carat'], bins=20, kde=True), plt.title('Carat Histogram (Chart 2)')\n",
        "plt.subplot(1, 3, 3), sns.histplot(data['depth'], bins=20, kde=True, label=\"depth\", color=\"red\")\n",
        "sns.histplot(data['table'], bins=20, kde=True, label=\"table\"), plt.title('Depth Histogram (Chart 3)'), plt.legend()\n",
        "\n",
        "# set the spacing between subplots\n",
        "plt.subplots_adjust(wspace=0.2)\n",
        "\n",
        "plt.show()"
      ]
    },
    {
      "cell_type": "markdown",
      "metadata": {},
      "source": [
        "Pada Chart 1, dapat dilihat bahwa jumlah harga diamonds yang paling banyak terjual (the most sales) adalah diamonds dengan harga pada range ~ 0 sd 2000 which is make sense karena dari sisi harga jauh lebih terjangkau bagi para buyer. Namun sangat tidak disangka bahwa terdapat sejumlah diamond dengan harga yang sangat mahal pun tetap memiliki market di pasar, seperti para kolektor, billioner, auction, dll (GAP yang sangat tinggi dari the most sales di range ~ 2000 sampai kepada harga max di ~ 17500). Pada Chart 2, bisa dilihat bahwa jumlah carat range ~ 0 sd 1 adalah diamond yang paling sering ditemukan di market. Menurut beberapa sumber seperti americangemsociety.org, hal ini terjadi karena carat diamonds yang sangat tinggi (tinggi > 1) sangat sulit ditemukan pada resourch mineral dunia (extremely rare, and once it's produce, the price will be extremely crazy expensive). Adapun pada chart 3, most diamond manufacture secara umum membuat diamonds dengan dimensi ratio yang proporsional, baik dari sisi table dan depth. Meskipun demikian, tetap ditemukan beberapa ukuran table dan depth yang jauh dari ideal (most probably due to limitation in machine technology during production). "
      ]
    },
    {
      "cell_type": "code",
      "execution_count": 12,
      "metadata": {},
      "outputs": [
        {
          "data": {
            "image/png": "[encoded data removed]",
            "text/plain": [
              "<Figure size 1296x432 with 3 Axes>"
            ]
          },
          "metadata": {},
          "output_type": "display_data"
        }
      ],
      "source": [
        "# Create Histogram and Scatter Plot\n",
        "plt.figure(figsize=(18, 6))\n",
        "\n",
        "plt.subplot(1, 3, 1), sns.lineplot(x='carat', y='price', data=data), plt.title('Carat vs price (Chart 4)')\n",
        "plt.subplot(1, 3, 2), sns.lineplot(x='depth', y='price', data=data), plt.title('Depth vs price (Chart 5)')\n",
        "plt.subplot(1, 3, 3), sns.lineplot(x='table', y='price', data=data), plt.title('Table vs price (Chart 6)')\n",
        "\n",
        "# set the spacing between subplots\n",
        "plt.subplots_adjust(wspace=0.2)\n",
        "\n",
        "plt.show()"
      ]
    },
    {
      "cell_type": "markdown",
      "metadata": {},
      "source": [
        "Sudah menjadi pengetahuan yang paling umum bahwa carat selalu menjadi parameter utama dalam menetukan harga diamonds (lihat chart 4), semakin tinggi carat pada diamond, maka tentu akan semakin tinggi harganya (konsep yang sama dengan emas). Terlihat pada chart 4 bahwa korelasi antara carat dan price terlihat sangat tinggi dan berkorelasi positif. Namun terlihat hal yang unik pada carat range 3 sd 5, price mostly tetap berada para harga yang tidak beda jauh dengan diamond dengan carat ~ 2 sd 3. Hal ini terjadi karena tingkat kesulitan produksi (kualitas cut, clarity, dan color) dari diamonds menjadi lebih sulit dari biasanya serta karena produksi dari diamond tersebut yang relatif diperkecil dari sisi dimensi sehingga buyer dan market bisa lebih menerima harga dari diamonds tersebut (www.gia.edu). Kemudian bisa dilihat pada chart 5 dan 6 bahwa depth dan table tidak berkorelasi signifikan terhadap price, hasil plot menunjukkan tidak ada trend + atau - antar ketiga features tersebut."
      ]
    },
    {
      "cell_type": "code",
      "execution_count": 13,
      "metadata": {},
      "outputs": [
        {
          "data": {
            "image/png": "[encoded data removed]",
            "text/plain": [
              "<Figure size 1296x432 with 3 Axes>"
            ]
          },
          "metadata": {},
          "output_type": "display_data"
        }
      ],
      "source": [
        "# Create Histogram and Scatter Plot\n",
        "plt.figure(figsize=(18, 6))\n",
        "\n",
        "plt.subplot(1, 3, 1), sns.barplot(x='cut', y='price', data=data), plt.title('Cut vs price (Chart 7)')\n",
        "plt.subplot(1, 3, 2), sns.barplot(x='color', y='price', data=data), plt.title('Color vs price (Chart 8)')\n",
        "plt.subplot(1, 3, 3), sns.barplot(x='clarity', y='price', data=data), plt.title('Clarity vs price (Chart 9)')\n",
        "\n",
        "# set the spacing between subplots\n",
        "plt.subplots_adjust(wspace=0.2, hspace=0.4)\n",
        "\n",
        "plt.show()"
      ]
    },
    {
      "cell_type": "code",
      "execution_count": 39,
      "metadata": {},
      "outputs": [
        {
          "name": "stdout",
          "output_type": "stream",
          "text": [
            "Diamond cut unique ['Ideal' 'Premium' 'Good' 'Very Good' 'Fair']\n",
            "Diamond cut Grades : Ideal - Premium - Very Good - Good - Fair\n",
            "====================\n",
            "Diamond color unique ['E' 'I' 'J' 'H' 'F' 'G' 'D']\n",
            "Diamond color Grades : D - E - F - G - H - I - J\n",
            "====================\n",
            "Diamond clarity unique ['SI2' 'SI1' 'VS1' 'VS2' 'VVS2' 'VVS1' 'I1' 'IF']\n",
            "Diamond clarity Grades : FL - IF - VVS1 and VVS2 - VS1 and VS2 - SI1 and SI2 - I1, I2, and I3\n"
          ]
        }
      ],
      "source": [
        "## Check all unique values\n",
        "# ==========================\n",
        "# Diamond cut grades level from perfect to poor\n",
        "print('Diamond cut unique', data['cut'].unique())\n",
        "print('Diamond cut Grades : Ideal - Premium - Very Good - Good - Fair') # (americangemsociety.org & diamonds.pro)\n",
        "print('='*20)\n",
        "\n",
        "# Diamond color grades level from colorless features... colorless is the rarest \n",
        "print('Diamond color unique', data['color'].unique())\n",
        "print('Diamond color Grades : D - E - F - G - H - I - J') # (www.gia.edu & diamondbuzz.blog)\n",
        "print('='*20)\n",
        "\n",
        "# Diamond clarity grades level from Flawless to poor \n",
        "print('Diamond clarity unique', data['clarity'].unique())\n",
        "print('Diamond clarity Grades : FL - IF - VVS1 and VVS2 - VS1 and VS2 - SI1 and SI2 - I1, I2, and I3') # (www.gia.edu)"
      ]
    },
    {
      "cell_type": "markdown",
      "metadata": {
        "id": "qOLEPu5jPYof"
      },
      "source": [
        "Di industri produksi diamonds, istilah diamonds 4C sering digunakan sebagai parameter kualtas dari diamond; carat (yang sudah dibahas sebelumnya), cut, color, serta yang terkahir adalah clarity. Dari beberapa sumber international diamond standar (seperti GIA), cut menunjukkan kualitas potongan dari diamond, potongan yang baik akan menghasilkan kilauan dan pantulan cahaya yang fantastis (Ideal to poor quality grade : Ideal - Premium - Very Good - Good - Fair). Adapun dari sisi color, GIA menyebutkan bahwa diamond dengan tingkat warna yang mendekati pure (sangat tidak terlihat warnanya dan tidak mengandung yellow color) adalah diamond dengan tingkat kualitas yang paling baik (Ideal to poor : D - E - F - G - H - I - J). Serta yang terakhir adalah dari sisi clarity, yaitu seberapa jernih dan transparant diamond tersebut ditemukan dan diproduksi. semakin jernih grade dari diamonds tersebut, maka semakin mahal diamond tsb bisa dijual di market (from best clarity to poor : FL - IF - VVS1 and VVS2 - VS1 and VS2 - SI1 and SI2 - I1, I2, and I3).\n",
        "\n",
        "Dari keseluruhan dataset, maka dapat kita breakdown bahwa pada chart 7 dapat dilihat bahwa diamond cut premium ternyata menjadi diamond dengan harga paling tinggi. Sedangkan untuk color (lihat chart 8), diamond dengan warna pada range I sd H justru menjadi diamons dengan harga paling tinggi. Dan yang terkahir (lihat chart 9) bahwa clarity di level grade SI2 dan SI1 justru menjadi yang paling mahal. Ketiga kondisi ini sangat mungkin terjadi karena beberapa alasan, 1) karena kualitas dari 4C diamond tidak selalu bergantung pada kualitas proses produksi diamonds itu sendiri, namun juga bergantung dari sumber kualitas mining diamond tersebut (somehow miners found diamond with high carat but poor clarity and dimension, or miners found diamond with excellent color, clarity, and awesome size, but unfortunately the carat is small and the cuting process fails, etc)"
      ]
    },
    {
      "cell_type": "markdown",
      "metadata": {
        "id": "ajPywLqjPzAM"
      },
      "source": [
        "# E. Data Preprocessing"
      ]
    },
    {
      "cell_type": "markdown",
      "metadata": {
        "id": "djzHlimyP1pq"
      },
      "source": [
        "Bagian ini berisi proses 1) membuat data train, test, inference (split data X dan y)... 2) Feature selection (merujuk pada heatmap) dll... 3) Split X dan y... 4) handling missing value... 5) hanlding outliers x_train data only...  6) Split data numerical dan categorical untuk train dan test 7) Proses Scaling dan...  8) Encoding ... 9) Concate all"
      ]
    },
    {
      "cell_type": "markdown",
      "metadata": {
        "id": "xab7EJ37Q7nJ"
      },
      "source": [
        "## 1. Data Preparation (Train_Test, & Inference)"
      ]
    },
    {
      "cell_type": "code",
      "execution_count": 15,
      "metadata": {
        "colab": {
          "base_uri": "https://localhost:8080/",
          "height": 462
        },
        "id": "abDIFBb4P0_p",
        "outputId": "f968e797-8ced-4b60-bb3c-2b76b5e164fd"
      },
      "outputs": [],
      "source": [
        "# Move Price Column to the last Column\n",
        "new_cols_post = ['Unnamed: 0', 'carat', 'cut', 'color', 'clarity', 'depth', 'table', 'x', 'y', 'z', 'price']\n",
        "data = data.reindex(columns = new_cols_post)\n",
        "# Membuat dataset inference dari dataset master\n",
        "# Angka 10 tuk define jumlah observasi inference\n",
        "# Random_state untuk define formula pemilihan data secara random yet wont change\n",
        "data_inf = data.sample(10, random_state=7)\n",
        "# Membuat dataset train dan test (exlude inference)\n",
        "data_train_test = data.drop(data_inf.index)\n",
        "# Reset Index --> rekomen untuk dilakukan after berhasil dilakukan split antara data train_test dan inference\n",
        "data_train_test.reset_index(drop=True, inplace=True) \n",
        "data_inf.reset_index(drop=True, inplace=True)"
      ]
    },
    {
      "cell_type": "code",
      "execution_count": 16,
      "metadata": {},
      "outputs": [
        {
          "data": {
            "text/html": [
              "<div>\n",
              "<style scoped>\n",
              "    .dataframe tbody tr th:only-of-type {\n",
              "        vertical-align: middle;\n",
              "    }\n",
              "\n",
              "    .dataframe tbody tr th {\n",
              "        vertical-align: top;\n",
              "    }\n",
              "\n",
              "    .dataframe thead th {\n",
              "        text-align: right;\n",
              "    }\n",
              "</style>\n",
              "<table border=\"1\" class=\"dataframe\">\n",
              "  <thead>\n",
              "    <tr style=\"text-align: right;\">\n",
              "      <th></th>\n",
              "      <th>Unnamed: 0</th>\n",
              "      <th>carat</th>\n",
              "      <th>cut</th>\n",
              "      <th>color</th>\n",
              "      <th>clarity</th>\n",
              "      <th>depth</th>\n",
              "      <th>table</th>\n",
              "      <th>x</th>\n",
              "      <th>y</th>\n",
              "      <th>z</th>\n",
              "      <th>price</th>\n",
              "    </tr>\n",
              "  </thead>\n",
              "  <tbody>\n",
              "    <tr>\n",
              "      <th>0</th>\n",
              "      <td>1</td>\n",
              "      <td>0.23</td>\n",
              "      <td>Ideal</td>\n",
              "      <td>E</td>\n",
              "      <td>SI2</td>\n",
              "      <td>61.5</td>\n",
              "      <td>55.0</td>\n",
              "      <td>3.95</td>\n",
              "      <td>3.98</td>\n",
              "      <td>2.43</td>\n",
              "      <td>326</td>\n",
              "    </tr>\n",
              "    <tr>\n",
              "      <th>1</th>\n",
              "      <td>2</td>\n",
              "      <td>0.21</td>\n",
              "      <td>Premium</td>\n",
              "      <td>E</td>\n",
              "      <td>SI1</td>\n",
              "      <td>59.8</td>\n",
              "      <td>61.0</td>\n",
              "      <td>3.89</td>\n",
              "      <td>3.84</td>\n",
              "      <td>2.31</td>\n",
              "      <td>326</td>\n",
              "    </tr>\n",
              "    <tr>\n",
              "      <th>2</th>\n",
              "      <td>3</td>\n",
              "      <td>0.23</td>\n",
              "      <td>Good</td>\n",
              "      <td>E</td>\n",
              "      <td>VS1</td>\n",
              "      <td>56.9</td>\n",
              "      <td>65.0</td>\n",
              "      <td>4.05</td>\n",
              "      <td>4.07</td>\n",
              "      <td>2.31</td>\n",
              "      <td>327</td>\n",
              "    </tr>\n",
              "  </tbody>\n",
              "</table>\n",
              "</div>"
            ],
            "text/plain": [
              "   Unnamed: 0  carat      cut color clarity  depth  table     x     y     z  \\\n",
              "0           1   0.23    Ideal     E     SI2   61.5   55.0  3.95  3.98  2.43   \n",
              "1           2   0.21  Premium     E     SI1   59.8   61.0  3.89  3.84  2.31   \n",
              "2           3   0.23     Good     E     VS1   56.9   65.0  4.05  4.07  2.31   \n",
              "\n",
              "   price  \n",
              "0    326  \n",
              "1    326  \n",
              "2    327  "
            ]
          },
          "execution_count": 16,
          "metadata": {},
          "output_type": "execute_result"
        }
      ],
      "source": [
        "# Show data\n",
        "data_train_test.head(3)"
      ]
    },
    {
      "cell_type": "code",
      "execution_count": 17,
      "metadata": {},
      "outputs": [
        {
          "data": {
            "text/html": [
              "<div>\n",
              "<style scoped>\n",
              "    .dataframe tbody tr th:only-of-type {\n",
              "        vertical-align: middle;\n",
              "    }\n",
              "\n",
              "    .dataframe tbody tr th {\n",
              "        vertical-align: top;\n",
              "    }\n",
              "\n",
              "    .dataframe thead th {\n",
              "        text-align: right;\n",
              "    }\n",
              "</style>\n",
              "<table border=\"1\" class=\"dataframe\">\n",
              "  <thead>\n",
              "    <tr style=\"text-align: right;\">\n",
              "      <th></th>\n",
              "      <th>Unnamed: 0</th>\n",
              "      <th>carat</th>\n",
              "      <th>cut</th>\n",
              "      <th>color</th>\n",
              "      <th>clarity</th>\n",
              "      <th>depth</th>\n",
              "      <th>table</th>\n",
              "      <th>x</th>\n",
              "      <th>y</th>\n",
              "      <th>z</th>\n",
              "      <th>price</th>\n",
              "    </tr>\n",
              "  </thead>\n",
              "  <tbody>\n",
              "    <tr>\n",
              "      <th>0</th>\n",
              "      <td>29246</td>\n",
              "      <td>0.34</td>\n",
              "      <td>Good</td>\n",
              "      <td>E</td>\n",
              "      <td>VS2</td>\n",
              "      <td>63.8</td>\n",
              "      <td>56.0</td>\n",
              "      <td>4.44</td>\n",
              "      <td>4.49</td>\n",
              "      <td>2.85</td>\n",
              "      <td>696</td>\n",
              "    </tr>\n",
              "    <tr>\n",
              "      <th>1</th>\n",
              "      <td>10823</td>\n",
              "      <td>1.16</td>\n",
              "      <td>Very Good</td>\n",
              "      <td>I</td>\n",
              "      <td>VS2</td>\n",
              "      <td>62.6</td>\n",
              "      <td>59.0</td>\n",
              "      <td>6.63</td>\n",
              "      <td>6.69</td>\n",
              "      <td>4.17</td>\n",
              "      <td>4869</td>\n",
              "    </tr>\n",
              "    <tr>\n",
              "      <th>2</th>\n",
              "      <td>26315</td>\n",
              "      <td>2.10</td>\n",
              "      <td>Premium</td>\n",
              "      <td>I</td>\n",
              "      <td>SI1</td>\n",
              "      <td>61.5</td>\n",
              "      <td>59.0</td>\n",
              "      <td>8.28</td>\n",
              "      <td>8.24</td>\n",
              "      <td>5.08</td>\n",
              "      <td>15818</td>\n",
              "    </tr>\n",
              "  </tbody>\n",
              "</table>\n",
              "</div>"
            ],
            "text/plain": [
              "   Unnamed: 0  carat        cut color clarity  depth  table     x     y     z  \\\n",
              "0       29246   0.34       Good     E     VS2   63.8   56.0  4.44  4.49  2.85   \n",
              "1       10823   1.16  Very Good     I     VS2   62.6   59.0  6.63  6.69  4.17   \n",
              "2       26315   2.10    Premium     I     SI1   61.5   59.0  8.28  8.24  5.08   \n",
              "\n",
              "   price  \n",
              "0    696  \n",
              "1   4869  \n",
              "2  15818  "
            ]
          },
          "execution_count": 17,
          "metadata": {},
          "output_type": "execute_result"
        }
      ],
      "source": [
        "# Inference dataset is ready! akan digukan untuk melihat nilai rating (scheme rating unknown)\n",
        "data_inf.head(3)"
      ]
    },
    {
      "cell_type": "markdown",
      "metadata": {},
      "source": [
        "Oke, now we have 2 datasets, which is Train_Test & Inference (we pick 10 observation data), ***each index has been reset!***"
      ]
    },
    {
      "cell_type": "markdown",
      "metadata": {
        "id": "Zc6Joe1-U7zm"
      },
      "source": [
        "## 2. Feature Selection"
      ]
    },
    {
      "cell_type": "code",
      "execution_count": 18,
      "metadata": {
        "colab": {
          "base_uri": "https://localhost:8080/",
          "height": 609
        },
        "id": "3JIfXJjkWchW",
        "outputId": "aadd311e-99e6-4756-9949-19a888c4fd4e"
      },
      "outputs": [
        {
          "data": {
            "text/html": [
              "<div>\n",
              "<style scoped>\n",
              "    .dataframe tbody tr th:only-of-type {\n",
              "        vertical-align: middle;\n",
              "    }\n",
              "\n",
              "    .dataframe tbody tr th {\n",
              "        vertical-align: top;\n",
              "    }\n",
              "\n",
              "    .dataframe thead th {\n",
              "        text-align: right;\n",
              "    }\n",
              "</style>\n",
              "<table border=\"1\" class=\"dataframe\">\n",
              "  <thead>\n",
              "    <tr style=\"text-align: right;\">\n",
              "      <th></th>\n",
              "      <th>Unnamed: 0</th>\n",
              "      <th>carat</th>\n",
              "      <th>cut</th>\n",
              "      <th>color</th>\n",
              "      <th>clarity</th>\n",
              "      <th>depth</th>\n",
              "      <th>table</th>\n",
              "      <th>x</th>\n",
              "      <th>y</th>\n",
              "      <th>z</th>\n",
              "      <th>price</th>\n",
              "    </tr>\n",
              "  </thead>\n",
              "  <tbody>\n",
              "    <tr>\n",
              "      <th>0</th>\n",
              "      <td>1</td>\n",
              "      <td>0.23</td>\n",
              "      <td>Ideal</td>\n",
              "      <td>E</td>\n",
              "      <td>SI2</td>\n",
              "      <td>61.5</td>\n",
              "      <td>55.0</td>\n",
              "      <td>3.95</td>\n",
              "      <td>3.98</td>\n",
              "      <td>2.43</td>\n",
              "      <td>326</td>\n",
              "    </tr>\n",
              "    <tr>\n",
              "      <th>1</th>\n",
              "      <td>2</td>\n",
              "      <td>0.21</td>\n",
              "      <td>Premium</td>\n",
              "      <td>E</td>\n",
              "      <td>SI1</td>\n",
              "      <td>59.8</td>\n",
              "      <td>61.0</td>\n",
              "      <td>3.89</td>\n",
              "      <td>3.84</td>\n",
              "      <td>2.31</td>\n",
              "      <td>326</td>\n",
              "    </tr>\n",
              "    <tr>\n",
              "      <th>2</th>\n",
              "      <td>3</td>\n",
              "      <td>0.23</td>\n",
              "      <td>Good</td>\n",
              "      <td>E</td>\n",
              "      <td>VS1</td>\n",
              "      <td>56.9</td>\n",
              "      <td>65.0</td>\n",
              "      <td>4.05</td>\n",
              "      <td>4.07</td>\n",
              "      <td>2.31</td>\n",
              "      <td>327</td>\n",
              "    </tr>\n",
              "  </tbody>\n",
              "</table>\n",
              "</div>"
            ],
            "text/plain": [
              "   Unnamed: 0  carat      cut color clarity  depth  table     x     y     z  \\\n",
              "0           1   0.23    Ideal     E     SI2   61.5   55.0  3.95  3.98  2.43   \n",
              "1           2   0.21  Premium     E     SI1   59.8   61.0  3.89  3.84  2.31   \n",
              "2           3   0.23     Good     E     VS1   56.9   65.0  4.05  4.07  2.31   \n",
              "\n",
              "   price  \n",
              "0    326  \n",
              "1    326  \n",
              "2    327  "
            ]
          },
          "execution_count": 18,
          "metadata": {},
          "output_type": "execute_result"
        }
      ],
      "source": [
        "# Display X_train\n",
        "data_train_test.head(3)"
      ]
    },
    {
      "cell_type": "markdown",
      "metadata": {
        "id": "XBexxk7mW3Hd"
      },
      "source": [
        "Unnamed: 0 akan kita drop karena column tersebut tidak membawa informasi yang berhubungan dengan penentuan price diamonds"
      ]
    },
    {
      "cell_type": "code",
      "execution_count": 19,
      "metadata": {
        "colab": {
          "base_uri": "https://localhost:8080/",
          "height": 488
        },
        "id": "z1lQ_2hmXKwk",
        "outputId": "a7db7922-f413-4d5d-b327-3f22aa7acd96"
      },
      "outputs": [
        {
          "data": {
            "text/html": [
              "<div>\n",
              "<style scoped>\n",
              "    .dataframe tbody tr th:only-of-type {\n",
              "        vertical-align: middle;\n",
              "    }\n",
              "\n",
              "    .dataframe tbody tr th {\n",
              "        vertical-align: top;\n",
              "    }\n",
              "\n",
              "    .dataframe thead th {\n",
              "        text-align: right;\n",
              "    }\n",
              "</style>\n",
              "<table border=\"1\" class=\"dataframe\">\n",
              "  <thead>\n",
              "    <tr style=\"text-align: right;\">\n",
              "      <th></th>\n",
              "      <th>carat</th>\n",
              "      <th>cut</th>\n",
              "      <th>color</th>\n",
              "      <th>clarity</th>\n",
              "      <th>depth</th>\n",
              "      <th>table</th>\n",
              "      <th>x</th>\n",
              "      <th>y</th>\n",
              "      <th>z</th>\n",
              "      <th>price</th>\n",
              "    </tr>\n",
              "  </thead>\n",
              "  <tbody>\n",
              "    <tr>\n",
              "      <th>0</th>\n",
              "      <td>0.23</td>\n",
              "      <td>Ideal</td>\n",
              "      <td>E</td>\n",
              "      <td>SI2</td>\n",
              "      <td>61.5</td>\n",
              "      <td>55.0</td>\n",
              "      <td>3.95</td>\n",
              "      <td>3.98</td>\n",
              "      <td>2.43</td>\n",
              "      <td>326</td>\n",
              "    </tr>\n",
              "    <tr>\n",
              "      <th>1</th>\n",
              "      <td>0.21</td>\n",
              "      <td>Premium</td>\n",
              "      <td>E</td>\n",
              "      <td>SI1</td>\n",
              "      <td>59.8</td>\n",
              "      <td>61.0</td>\n",
              "      <td>3.89</td>\n",
              "      <td>3.84</td>\n",
              "      <td>2.31</td>\n",
              "      <td>326</td>\n",
              "    </tr>\n",
              "    <tr>\n",
              "      <th>2</th>\n",
              "      <td>0.23</td>\n",
              "      <td>Good</td>\n",
              "      <td>E</td>\n",
              "      <td>VS1</td>\n",
              "      <td>56.9</td>\n",
              "      <td>65.0</td>\n",
              "      <td>4.05</td>\n",
              "      <td>4.07</td>\n",
              "      <td>2.31</td>\n",
              "      <td>327</td>\n",
              "    </tr>\n",
              "  </tbody>\n",
              "</table>\n",
              "</div>"
            ],
            "text/plain": [
              "   carat      cut color clarity  depth  table     x     y     z  price\n",
              "0   0.23    Ideal     E     SI2   61.5   55.0  3.95  3.98  2.43    326\n",
              "1   0.21  Premium     E     SI1   59.8   61.0  3.89  3.84  2.31    326\n",
              "2   0.23     Good     E     VS1   56.9   65.0  4.05  4.07  2.31    327"
            ]
          },
          "execution_count": 19,
          "metadata": {},
          "output_type": "execute_result"
        }
      ],
      "source": [
        "# Menggunakan columns yg digunakan saja dlm pembuatan model\n",
        "data_train_test = data_train_test.drop(columns=['Unnamed: 0'])\n",
        "data_train_test.head(3)"
      ]
    },
    {
      "cell_type": "markdown",
      "metadata": {},
      "source": [
        "**Dataset sudah dipilih featurenya, next --> missing & outliers handling**"
      ]
    },
    {
      "cell_type": "markdown",
      "metadata": {},
      "source": [
        "## 3. Splitting between `X` (Features) and `y` (Target)"
      ]
    },
    {
      "cell_type": "code",
      "execution_count": 20,
      "metadata": {},
      "outputs": [
        {
          "name": "stdout",
          "output_type": "stream",
          "text": [
            "Train Size :  (43146, 9)\n",
            "Test Size  :  (10787, 9)\n"
          ]
        }
      ],
      "source": [
        "# Split between X (Features) and y (Target/label/goal)\n",
        "X = data_train_test.drop(label_name, axis=1) \n",
        "y = data_train_test[label_name]\n",
        "\n",
        "# Split between Train-Set and Test-Set\n",
        "# input test_size in % ... train size should be bigger than test size.\n",
        "# Rekomen 80% for train is a good split to start with! (Pragati Baheti from Microsoft, v7labs.com)\n",
        "X_train, X_test, y_train, y_test = train_test_split(X, y, test_size=0.2, random_state=14)\n",
        "# Find out the size of each dataset\n",
        "print('Train Size : ', X_train.shape)\n",
        "print('Test Size  : ', X_test.shape)"
      ]
    },
    {
      "cell_type": "markdown",
      "metadata": {},
      "source": [
        "Data Split yang optimal dari data train dan test sebetulnya memang bergantung pada byk faktor seperti the use of case (each case of data might be approached differently), the structure of the model, dimension of the data, etc. Namun secara umum, mendefinisikan train data sebesar 80% dan test data sebesar 20% adalah permulaan pembuatan model yang baik (Pragati Baheti from Microsoft, v7labs.com)."
      ]
    },
    {
      "cell_type": "markdown",
      "metadata": {},
      "source": [
        "## 4. Handling Missing Values"
      ]
    },
    {
      "cell_type": "code",
      "execution_count": 21,
      "metadata": {},
      "outputs": [
        {
          "data": {
            "text/plain": [
              "0"
            ]
          },
          "execution_count": 21,
          "metadata": {},
          "output_type": "execute_result"
        }
      ],
      "source": [
        "# Check Missing Values in `X_train`\n",
        "X_train.isnull().sum().sum()"
      ]
    },
    {
      "cell_type": "code",
      "execution_count": 22,
      "metadata": {},
      "outputs": [
        {
          "data": {
            "text/plain": [
              "0"
            ]
          },
          "execution_count": 22,
          "metadata": {},
          "output_type": "execute_result"
        }
      ],
      "source": [
        "# Check Missing Values in `X_test`\n",
        "X_test.isnull().sum().sum()"
      ]
    },
    {
      "cell_type": "code",
      "execution_count": 23,
      "metadata": {},
      "outputs": [
        {
          "data": {
            "text/plain": [
              "0"
            ]
          },
          "execution_count": 23,
          "metadata": {},
          "output_type": "execute_result"
        }
      ],
      "source": [
        "# Check Missing Values in `y_train`\n",
        "y_train.isnull().sum()"
      ]
    },
    {
      "cell_type": "code",
      "execution_count": 24,
      "metadata": {},
      "outputs": [
        {
          "data": {
            "text/plain": [
              "0"
            ]
          },
          "execution_count": 24,
          "metadata": {},
          "output_type": "execute_result"
        }
      ],
      "source": [
        "# Check Missing Values in `y_test`\n",
        "y_test.isnull().sum()"
      ]
    },
    {
      "cell_type": "markdown",
      "metadata": {},
      "source": [
        "**No Nulled Values!**"
      ]
    },
    {
      "cell_type": "markdown",
      "metadata": {},
      "source": [
        "## 5. Outlier Handling"
      ]
    },
    {
      "cell_type": "markdown",
      "metadata": {},
      "source": [
        "Outliers handling tidak akan kita lakukan pada feature categorical, seperti `cut, color, dan clarity`. Pada Box Chart di bawah, dapat dilihat data outliers yang terdapat pada all numerical features."
      ]
    },
    {
      "cell_type": "code",
      "execution_count": 25,
      "metadata": {},
      "outputs": [
        {
          "data": {
            "image/png": "[encoded data removed]",
            "text/plain": [
              "<Figure size 1296x720 with 6 Axes>"
            ]
          },
          "metadata": {},
          "output_type": "display_data"
        }
      ],
      "source": [
        "# Define list of column name\n",
        "num_columns = X_train.select_dtypes(include=np.number).columns.tolist() \n",
        "\n",
        "# Create chart for loop\n",
        "plt.figure(figsize=(18, 10))\n",
        "for i,v in zip(range(len(num_columns)), num_columns):\n",
        "    plt.subplot(2, 3, i+1), sns.boxplot(data=X_train[v]), plt.title(v)\n",
        "\n",
        "# set the spacing between subplots\n",
        "plt.subplots_adjust(hspace=0.3)\n",
        "plt.show()"
      ]
    },
    {
      "cell_type": "markdown",
      "metadata": {},
      "source": [
        "Teknik outliers handling sangat berkaitan dengan skewness distribusi data setiap features, oleh karena itu, skewness dari setiap feature perlu dihitung."
      ]
    },
    {
      "cell_type": "code",
      "execution_count": 26,
      "metadata": {},
      "outputs": [
        {
          "data": {
            "text/html": [
              "<div>\n",
              "<style scoped>\n",
              "    .dataframe tbody tr th:only-of-type {\n",
              "        vertical-align: middle;\n",
              "    }\n",
              "\n",
              "    .dataframe tbody tr th {\n",
              "        vertical-align: top;\n",
              "    }\n",
              "\n",
              "    .dataframe thead th {\n",
              "        text-align: right;\n",
              "    }\n",
              "</style>\n",
              "<table border=\"1\" class=\"dataframe\">\n",
              "  <thead>\n",
              "    <tr style=\"text-align: right;\">\n",
              "      <th></th>\n",
              "      <th>depth</th>\n",
              "      <th>x</th>\n",
              "      <th>table</th>\n",
              "      <th>carat</th>\n",
              "      <th>z</th>\n",
              "      <th>y</th>\n",
              "    </tr>\n",
              "  </thead>\n",
              "  <tbody>\n",
              "    <tr>\n",
              "      <th>skewness</th>\n",
              "      <td>-0.053447</td>\n",
              "      <td>0.37939</td>\n",
              "      <td>0.814973</td>\n",
              "      <td>1.124805</td>\n",
              "      <td>1.804927</td>\n",
              "      <td>2.913411</td>\n",
              "    </tr>\n",
              "  </tbody>\n",
              "</table>\n",
              "</div>"
            ],
            "text/plain": [
              "             depth        x     table     carat         z         y\n",
              "skewness -0.053447  0.37939  0.814973  1.124805  1.804927  2.913411"
            ]
          },
          "execution_count": 26,
          "metadata": {},
          "output_type": "execute_result"
        }
      ],
      "source": [
        "# Define dataframe with outliers and compute the skew\n",
        "X_train_numerical = X_train.drop(columns=['cut','color','clarity'])\n",
        "pd.DataFrame(X_train_numerical.skew(axis=0), columns=['skewness']).sort_values(by='skewness', ascending=True).T"
      ]
    },
    {
      "cell_type": "markdown",
      "metadata": {},
      "source": [
        "Untuk teknik Sensoring ini, proses akan dilakukan kedalam tiga part... part pertama adalah proses sensoring dengan windsorizer pada feature distribusi normal (skewness : -0.5 sd 0.5 | windsoriser_normal dengan metode gaussian fold 3). Kemudian bagian yang kedua dan ketiga adalah windsoriser_skew & eskew dengan feature yang distribusinya skew (skewness 0.5 sd 1 or -0.5 sd -1) & extreme skew (skwness < -1 dan > 1, fold 3). Cara windsorizer dipilih karena semua data outliers ini kita anggap legitimate (bukan noise yang harus kita drop datanya), demikian kita adjust data outliers ini ke batas atas dan bawahnya sehingga semua informasi dari data tetap dapat diperhitungkan oleh model ML.<br>"
      ]
    },
    {
      "cell_type": "code",
      "execution_count": 27,
      "metadata": {},
      "outputs": [],
      "source": [
        "# Create the capper | Skewness : normal\n",
        "windsoriser_normal = Winsorizer(capping_method='gaussian', tail='both', fold=3, variables=['depth', 'x'])\n",
        "windsoriser_normal.fit(X_train)\n",
        "X_train = windsoriser_normal.transform(X_train)\n",
        "\n",
        "# Create the capper | Skewness : skew\n",
        "windsoriser_skew = Winsorizer(capping_method='iqr', tail='both', fold=1.5, variables=['table'])\n",
        "windsoriser_skew.fit(X_train)\n",
        "X_train = windsoriser_skew.transform(X_train)\n",
        "\n",
        "# Create the capper | Skewness : extreme skew\n",
        "windsoriser_eskew = Winsorizer(capping_method='iqr', tail='both', fold=3, variables=['carat', 'y', 'z'])\n",
        "windsoriser_eskew.fit(X_train)\n",
        "X_train = windsoriser_eskew.transform(X_train)"
      ]
    },
    {
      "cell_type": "markdown",
      "metadata": {},
      "source": [
        "**Outliers has been handled with windsorizer!**"
      ]
    },
    {
      "cell_type": "markdown",
      "metadata": {
        "id": "R3h6em0HZKFX"
      },
      "source": [
        "# F. Pipeline & GridSearch"
      ]
    },
    {
      "cell_type": "markdown",
      "metadata": {},
      "source": [
        "## F1. Define Column Transformer"
      ]
    },
    {
      "cell_type": "markdown",
      "metadata": {},
      "source": [
        "Seperti outliers handling, skewness dari distribusi data setiap feature mempengaruhi algoritma scaling yang akan digunakan. oleh karena itu, skewness dari setiap feature perlu dihitung (after outliers has been handled)."
      ]
    },
    {
      "cell_type": "code",
      "execution_count": 28,
      "metadata": {},
      "outputs": [
        {
          "data": {
            "text/html": [
              "<div>\n",
              "<style scoped>\n",
              "    .dataframe tbody tr th:only-of-type {\n",
              "        vertical-align: middle;\n",
              "    }\n",
              "\n",
              "    .dataframe tbody tr th {\n",
              "        vertical-align: top;\n",
              "    }\n",
              "\n",
              "    .dataframe thead th {\n",
              "        text-align: right;\n",
              "    }\n",
              "</style>\n",
              "<table border=\"1\" class=\"dataframe\">\n",
              "  <thead>\n",
              "    <tr style=\"text-align: right;\">\n",
              "      <th></th>\n",
              "      <th>depth</th>\n",
              "      <th>x</th>\n",
              "      <th>table</th>\n",
              "      <th>carat</th>\n",
              "      <th>z</th>\n",
              "      <th>y</th>\n",
              "    </tr>\n",
              "  </thead>\n",
              "  <tbody>\n",
              "    <tr>\n",
              "      <th>skewness</th>\n",
              "      <td>-0.082213</td>\n",
              "      <td>0.378624</td>\n",
              "      <td>0.796864</td>\n",
              "      <td>1.116655</td>\n",
              "      <td>1.522756</td>\n",
              "      <td>2.43478</td>\n",
              "    </tr>\n",
              "  </tbody>\n",
              "</table>\n",
              "</div>"
            ],
            "text/plain": [
              "             depth         x     table     carat         z        y\n",
              "skewness -0.082213  0.378624  0.796864  1.116655  1.522756  2.43478"
            ]
          },
          "execution_count": 28,
          "metadata": {},
          "output_type": "execute_result"
        }
      ],
      "source": [
        "# Define dataframe with outliers and compute the skew\n",
        "X_numerical_o = X.drop(columns=['cut','color','clarity'])\n",
        "pd.DataFrame(X_numerical_o.skew(axis=0), columns=['skewness']).sort_values(by='skewness', ascending=True).T"
      ]
    },
    {
      "cell_type": "markdown",
      "metadata": {},
      "source": [
        "Berdasarkan masing-masing feature skewness, maka feature dengan skewness normal akan di-scaling dengan algoritma StandardScaler (contoh: depth dan x), kemudian untuk feature dengan skewness = skew, algoritma scaling yang digunakan adalah MinMaxScaler (contoh : table). Serta feature lainnya (skewness extreme), scalingnya akan menggunakan RobustScaler (contoh : carat, z dan y). Berikut di bawah ini adalah syntax untuk preprocessor-nya."
      ]
    },
    {
      "cell_type": "code",
      "execution_count": 29,
      "metadata": {},
      "outputs": [],
      "source": [
        "# Define columnn name for scaling and encoding\n",
        "numeric_features_ss = ['depth', 'x']\n",
        "numeric_features_mm = ['table']\n",
        "numeric_features_rb = ['carat', 'z', 'y']\n",
        "cat_features_ordinal = ['cut', 'color', 'clarity']\n",
        "\n",
        "# Define scaling and encoding technique\n",
        "numeric_transformer_ss = Pipeline([(\"scaler1\", StandardScaler())])\n",
        "numeric_transformer_mm = Pipeline([(\"scaler2\", MinMaxScaler())])\n",
        "numeric_transformer_rb = Pipeline([(\"scaler3\", RobustScaler())])\n",
        "cat_transformer_ordinal = Pipeline([(\"encoder1\", OrdinalEncoder(categories=[['Fair', 'Good', 'Very Good', 'Premium', 'Ideal'], \n",
        "                                                                            ['J', 'I', 'H', 'G', 'F', 'E', 'D'], \n",
        "                                                                            ['I1', 'SI2', 'SI1', 'VS2', 'VS1', 'VVS2', 'VVS1', 'IF']]))])\n",
        "\n",
        "# Define Transformer Column\n",
        "preprocessor = ColumnTransformer(\n",
        "    transformers=[\n",
        "        (\"num1\", numeric_transformer_ss, numeric_features_ss),\n",
        "        (\"num2\", numeric_transformer_mm, numeric_features_mm),\n",
        "        (\"num3\", numeric_transformer_rb, numeric_features_rb),\n",
        "        (\"cat1\", cat_transformer_ordinal, cat_features_ordinal)\n",
        "    ]\n",
        ")"
      ]
    },
    {
      "cell_type": "markdown",
      "metadata": {},
      "source": [
        "## F2. Model Tuning + Pipe, Grid, & CV"
      ]
    },
    {
      "cell_type": "markdown",
      "metadata": {},
      "source": [
        "Pada case ini, model regresi yang digunakan adalah Lasso. Ridge, XGBRFRegressor, serta DecisionTreeRegressor dengan hyperparameternya masing-masing. Untuk mempermudah proses coding (more efective & efficient) dan meng-improve model sehingga didapat akurasi model yang lebih akurat dan konsisten, maka Pipeline, GridSeach, dan Cross validation akan digunakan pada proses modeling."
      ]
    },
    {
      "cell_type": "code",
      "execution_count": 30,
      "metadata": {},
      "outputs": [],
      "source": [
        "# Simplify the process of building chains of transformations and models\n",
        "pipe = Pipeline([('preprocessing', preprocessor), (\"classifier\", LinearRegression())])\n",
        "\n",
        "# Define Hyperparameter for each model\n",
        "param = [\n",
        "        {'classifier': [Lasso(max_iter=6000)],\n",
        "        'classifier__alpha': [0.01, 1, 10]},\n",
        "        {'classifier': [Ridge(max_iter=6000)],\n",
        "        'classifier__alpha': [0.01, 1, 10, 100]},\n",
        "        {'classifier': [xg.XGBRFRegressor()],\n",
        "        # 'classifier__n_estimators': [1000, 2000],\n",
        "        'classifier__subsample': [0, 0.3, 0.6],\n",
        "        # 'classifier__learning_rate': [0.05, 0.1, 0.20],\n",
        "        # 'classifier__min_child_weight': [1, 10, 100],\n",
        "        'classifier__max_depth': [2, 4, 6, 8, 10]},\n",
        "        {'classifier': [DecisionTreeRegressor(random_state=42)],\n",
        "        'classifier__max_depth': [2, 4, 6, 8, 10]}\n",
        "        ]"
      ]
    },
    {
      "cell_type": "code",
      "execution_count": 31,
      "metadata": {},
      "outputs": [
        {
          "name": "stdout",
          "output_type": "stream",
          "text": [
            "Best parameters: {'classifier': XGBRFRegressor(base_score=None, booster=None, callbacks=None,\n",
            "               colsample_bylevel=None, colsample_bytree=None,\n",
            "               early_stopping_rounds=None, enable_categorical=False,\n",
            "               eval_metric=None, gamma=None, gpu_id=None, grow_policy=None,\n",
            "               importance_type=None, interaction_constraints=None, max_bin=None,\n",
            "               max_cat_to_onehot=None, max_delta_step=None, max_depth=10,\n",
            "               max_leaves=None, min_child_weight=None, missing=nan,\n",
            "               monotone_constraints=None, n_estimators=100, n_jobs=None,\n",
            "               num_parallel_tree=None, objective='reg:squarederror',\n",
            "               predictor=None, random_state=None, reg_alpha=None,\n",
            "               sampling_method=None, scale_pos_weight=None, ...), 'classifier__max_depth': 10, 'classifier__subsample': 0.6}\n",
            "==============================\n",
            "Best cross-validation r2score: 0.98\n"
          ]
        }
      ],
      "source": [
        "# Define GridSearch with cross validation to find the best model \n",
        "grid_search = GridSearchCV(pipe, param_grid=param, cv=5, scoring='r2')\n",
        "\n",
        "# Fit GridSearch Model to Train\n",
        "grid_search.fit(X_train,y_train)\n",
        "\n",
        "# Identify the best model and Hyperparameter\n",
        "print(\"Best parameters: {}\".format(grid_search.best_params_)), print('='*30)\n",
        "print(\"Best cross-validation r2score: {:.2f}\".format(grid_search.best_score_))"
      ]
    },
    {
      "cell_type": "markdown",
      "metadata": {},
      "source": [
        "Darai hasil grid_search, di peroleh model terbaik seperti pada hasil print di atas."
      ]
    },
    {
      "cell_type": "code",
      "execution_count": 32,
      "metadata": {},
      "outputs": [],
      "source": [
        "# Predict Train and Test Label with the best model\n",
        "y_pred_train=grid_search.best_estimator_.predict(X_train)\n",
        "y_pred_test=grid_search.best_estimator_.predict(X_test)"
      ]
    },
    {
      "cell_type": "markdown",
      "metadata": {},
      "source": [
        "**Prediksi label pada train dan test sudah berhasil dilakukan.**"
      ]
    },
    {
      "cell_type": "markdown",
      "metadata": {
        "id": "KnCppvIThsI9"
      },
      "source": [
        "# G. Model Evaluation"
      ]
    },
    {
      "cell_type": "markdown",
      "metadata": {
        "id": "B2mOvTdwhx-i"
      },
      "source": [
        "Pada bagian ini, dilakukan evaluasi model yang harus menunjukkan bagaimana performa model<br>\n",
        "berdasarkan metrics yang dipilih (which is `MAE, MAE, RMSE & r2score`)."
      ]
    },
    {
      "cell_type": "code",
      "execution_count": 33,
      "metadata": {
        "colab": {
          "base_uri": "https://localhost:8080/"
        },
        "id": "0OGzYJcDiZ-5",
        "outputId": "715fd518-21ea-47fa-ae71-3243367d559a"
      },
      "outputs": [
        {
          "name": "stdout",
          "output_type": "stream",
          "text": [
            "MAE train =  263.94186575718993\n",
            "MAE test =  301.06548864326254\n",
            "MAE train =  240722.76212095682\n",
            "MSE test =  325045.91118257074\n",
            "RMSE train =  490.63506002013025\n",
            "RMSE test =  570.1279778984458\n",
            "r2score train =  0.9848234829032687\n",
            "r2score test =  0.979834586855936\n"
          ]
        }
      ],
      "source": [
        "# Model Evaluation `MAE, MSE, RMSE, dan R2Score`\n",
        "print('MAE train = ', mean_absolute_error(y_train, y_pred_train))\n",
        "print('MAE test = ', mean_absolute_error(y_test, y_pred_test))\n",
        "print('MAE train = ', mean_squared_error(y_train, y_pred_train))\n",
        "print('MSE test = ', mean_squared_error(y_test, y_pred_test))\n",
        "print('RMSE train = ', np.sqrt(mean_squared_error(y_train, y_pred_train)))\n",
        "print('RMSE test = ', np.sqrt(mean_squared_error(y_test, y_pred_test)))\n",
        "print('r2score train = ', r2_score(y_train, y_pred_train))\n",
        "print('r2score test = ', r2_score(y_test, y_pred_test))"
      ]
    },
    {
      "cell_type": "markdown",
      "metadata": {
        "id": "SgbBQWzwix76"
      },
      "source": [
        "Hasil evaluasi dari model overall baik. Bisa dilihat dari nilai MAE train dan test dengan value sebesar ~ 268 & 305, not so much different which is good. Model yang digunakan overall good fit karena selain jarak antara nilai evaluasi test dan trainnya yang tidak beda jauh, juga karena nilai r2scorenya yang lebih besar dari 0.9, yaitu sebesar ~ 0.97. Adapun dari dataset price, range harga diamond adalah sebesar 300 sd 18.5K, dengan mediannya adalah sebesar ~ 2400 (lihat deskripsi pada bagian data loading data.describe). Demikian dengan nilai MAE train dan test yang dihasilkan, maka ratio error pada model dengan keseluruhan data price bisa dibilang cukup dan bisa kita anggap wajar (error bisa diterima dengan ratio ~1/10). Untuk price range diamond dengan harga yang mayority rendah (300 sd 2400), maka akurasi model might a little bit poor (karena error model ada di kisaran ~ 300 atau kurang dari itu), namun untuk diamond dengan harga di atas 2400 (apalagi untuk harga > 10K), overall error dari model sangat bisa diterima."
      ]
    },
    {
      "cell_type": "markdown",
      "metadata": {},
      "source": [
        "# H. Model Saving"
      ]
    },
    {
      "cell_type": "code",
      "execution_count": 34,
      "metadata": {},
      "outputs": [],
      "source": [
        "# Save the Files\n",
        "with open('XgBoost_model.pkl', 'wb') as file_1:\n",
        "  joblib.dump(grid_search.best_estimator_, file_1)"
      ]
    },
    {
      "cell_type": "markdown",
      "metadata": {
        "id": "-hb51gleoIyu"
      },
      "source": [
        "# I. Inferencing"
      ]
    },
    {
      "cell_type": "markdown",
      "metadata": {},
      "source": [
        "## 1. Load Model"
      ]
    },
    {
      "cell_type": "code",
      "execution_count": 35,
      "metadata": {},
      "outputs": [],
      "source": [
        "# Load All Files \n",
        "with open('XgBoost_model.pkl', 'rb') as file_1:\n",
        "  grid_search = joblib.load(file_1)"
      ]
    },
    {
      "cell_type": "markdown",
      "metadata": {},
      "source": [
        "## 2. Predict"
      ]
    },
    {
      "cell_type": "code",
      "execution_count": 36,
      "metadata": {
        "colab": {
          "base_uri": "https://localhost:8080/"
        },
        "id": "H7VFIZQjoui2",
        "outputId": "4db19e06-0b7f-49f3-ddce-0b38040066e4"
      },
      "outputs": [],
      "source": [
        "# Predict using Linear Regression \n",
        "y_pred_inf = grid_search.predict(data_inf)\n",
        "\n",
        "# Create DataFrame of Rating's Prediction \n",
        "y_pred_inf_df = pd.DataFrame(y_pred_inf, columns=['predict '+label_name])"
      ]
    },
    {
      "cell_type": "code",
      "execution_count": 37,
      "metadata": {},
      "outputs": [
        {
          "data": {
            "text/html": [
              "<div>\n",
              "<style scoped>\n",
              "    .dataframe tbody tr th:only-of-type {\n",
              "        vertical-align: middle;\n",
              "    }\n",
              "\n",
              "    .dataframe tbody tr th {\n",
              "        vertical-align: top;\n",
              "    }\n",
              "\n",
              "    .dataframe thead th {\n",
              "        text-align: right;\n",
              "    }\n",
              "</style>\n",
              "<table border=\"1\" class=\"dataframe\">\n",
              "  <thead>\n",
              "    <tr style=\"text-align: right;\">\n",
              "      <th></th>\n",
              "      <th>Unnamed: 0</th>\n",
              "      <th>carat</th>\n",
              "      <th>cut</th>\n",
              "      <th>color</th>\n",
              "      <th>clarity</th>\n",
              "      <th>depth</th>\n",
              "      <th>table</th>\n",
              "      <th>x</th>\n",
              "      <th>y</th>\n",
              "      <th>z</th>\n",
              "      <th>price</th>\n",
              "      <th>predict price</th>\n",
              "    </tr>\n",
              "  </thead>\n",
              "  <tbody>\n",
              "    <tr>\n",
              "      <th>0</th>\n",
              "      <td>29246</td>\n",
              "      <td>0.34</td>\n",
              "      <td>Good</td>\n",
              "      <td>E</td>\n",
              "      <td>VS2</td>\n",
              "      <td>63.8</td>\n",
              "      <td>56.0</td>\n",
              "      <td>4.44</td>\n",
              "      <td>4.49</td>\n",
              "      <td>2.85</td>\n",
              "      <td>696</td>\n",
              "      <td>802.225708</td>\n",
              "    </tr>\n",
              "    <tr>\n",
              "      <th>1</th>\n",
              "      <td>10823</td>\n",
              "      <td>1.16</td>\n",
              "      <td>Very Good</td>\n",
              "      <td>I</td>\n",
              "      <td>VS2</td>\n",
              "      <td>62.6</td>\n",
              "      <td>59.0</td>\n",
              "      <td>6.63</td>\n",
              "      <td>6.69</td>\n",
              "      <td>4.17</td>\n",
              "      <td>4869</td>\n",
              "      <td>5102.455078</td>\n",
              "    </tr>\n",
              "    <tr>\n",
              "      <th>2</th>\n",
              "      <td>26315</td>\n",
              "      <td>2.10</td>\n",
              "      <td>Premium</td>\n",
              "      <td>I</td>\n",
              "      <td>SI1</td>\n",
              "      <td>61.5</td>\n",
              "      <td>59.0</td>\n",
              "      <td>8.28</td>\n",
              "      <td>8.24</td>\n",
              "      <td>5.08</td>\n",
              "      <td>15818</td>\n",
              "      <td>15589.609375</td>\n",
              "    </tr>\n",
              "    <tr>\n",
              "      <th>3</th>\n",
              "      <td>33791</td>\n",
              "      <td>0.32</td>\n",
              "      <td>Ideal</td>\n",
              "      <td>G</td>\n",
              "      <td>VVS1</td>\n",
              "      <td>61.1</td>\n",
              "      <td>57.0</td>\n",
              "      <td>4.41</td>\n",
              "      <td>4.43</td>\n",
              "      <td>2.70</td>\n",
              "      <td>842</td>\n",
              "      <td>906.459595</td>\n",
              "    </tr>\n",
              "    <tr>\n",
              "      <th>4</th>\n",
              "      <td>14203</td>\n",
              "      <td>1.01</td>\n",
              "      <td>Premium</td>\n",
              "      <td>G</td>\n",
              "      <td>VS2</td>\n",
              "      <td>61.2</td>\n",
              "      <td>58.0</td>\n",
              "      <td>6.46</td>\n",
              "      <td>6.49</td>\n",
              "      <td>3.96</td>\n",
              "      <td>5759</td>\n",
              "      <td>6175.257812</td>\n",
              "    </tr>\n",
              "    <tr>\n",
              "      <th>5</th>\n",
              "      <td>49006</td>\n",
              "      <td>0.53</td>\n",
              "      <td>Ideal</td>\n",
              "      <td>G</td>\n",
              "      <td>VVS2</td>\n",
              "      <td>60.4</td>\n",
              "      <td>56.0</td>\n",
              "      <td>5.29</td>\n",
              "      <td>5.24</td>\n",
              "      <td>3.18</td>\n",
              "      <td>2051</td>\n",
              "      <td>2010.344604</td>\n",
              "    </tr>\n",
              "    <tr>\n",
              "      <th>6</th>\n",
              "      <td>43919</td>\n",
              "      <td>0.31</td>\n",
              "      <td>Ideal</td>\n",
              "      <td>I</td>\n",
              "      <td>VS1</td>\n",
              "      <td>61.3</td>\n",
              "      <td>55.6</td>\n",
              "      <td>4.37</td>\n",
              "      <td>4.40</td>\n",
              "      <td>2.69</td>\n",
              "      <td>513</td>\n",
              "      <td>568.661499</td>\n",
              "    </tr>\n",
              "    <tr>\n",
              "      <th>7</th>\n",
              "      <td>165</td>\n",
              "      <td>0.79</td>\n",
              "      <td>Ideal</td>\n",
              "      <td>F</td>\n",
              "      <td>SI2</td>\n",
              "      <td>61.9</td>\n",
              "      <td>55.0</td>\n",
              "      <td>5.97</td>\n",
              "      <td>5.92</td>\n",
              "      <td>3.68</td>\n",
              "      <td>2771</td>\n",
              "      <td>2609.433105</td>\n",
              "    </tr>\n",
              "    <tr>\n",
              "      <th>8</th>\n",
              "      <td>20381</td>\n",
              "      <td>0.31</td>\n",
              "      <td>Premium</td>\n",
              "      <td>F</td>\n",
              "      <td>VS2</td>\n",
              "      <td>62.3</td>\n",
              "      <td>59.0</td>\n",
              "      <td>4.30</td>\n",
              "      <td>4.33</td>\n",
              "      <td>2.69</td>\n",
              "      <td>625</td>\n",
              "      <td>694.339233</td>\n",
              "    </tr>\n",
              "    <tr>\n",
              "      <th>9</th>\n",
              "      <td>47339</td>\n",
              "      <td>0.23</td>\n",
              "      <td>Very Good</td>\n",
              "      <td>E</td>\n",
              "      <td>VVS1</td>\n",
              "      <td>61.8</td>\n",
              "      <td>59.0</td>\n",
              "      <td>3.90</td>\n",
              "      <td>3.93</td>\n",
              "      <td>2.42</td>\n",
              "      <td>530</td>\n",
              "      <td>505.458374</td>\n",
              "    </tr>\n",
              "  </tbody>\n",
              "</table>\n",
              "</div>"
            ],
            "text/plain": [
              "   Unnamed: 0  carat        cut color clarity  depth  table     x     y     z  \\\n",
              "0       29246   0.34       Good     E     VS2   63.8   56.0  4.44  4.49  2.85   \n",
              "1       10823   1.16  Very Good     I     VS2   62.6   59.0  6.63  6.69  4.17   \n",
              "2       26315   2.10    Premium     I     SI1   61.5   59.0  8.28  8.24  5.08   \n",
              "3       33791   0.32      Ideal     G    VVS1   61.1   57.0  4.41  4.43  2.70   \n",
              "4       14203   1.01    Premium     G     VS2   61.2   58.0  6.46  6.49  3.96   \n",
              "5       49006   0.53      Ideal     G    VVS2   60.4   56.0  5.29  5.24  3.18   \n",
              "6       43919   0.31      Ideal     I     VS1   61.3   55.6  4.37  4.40  2.69   \n",
              "7         165   0.79      Ideal     F     SI2   61.9   55.0  5.97  5.92  3.68   \n",
              "8       20381   0.31    Premium     F     VS2   62.3   59.0  4.30  4.33  2.69   \n",
              "9       47339   0.23  Very Good     E    VVS1   61.8   59.0  3.90  3.93  2.42   \n",
              "\n",
              "   price  predict price  \n",
              "0    696     802.225708  \n",
              "1   4869    5102.455078  \n",
              "2  15818   15589.609375  \n",
              "3    842     906.459595  \n",
              "4   5759    6175.257812  \n",
              "5   2051    2010.344604  \n",
              "6    513     568.661499  \n",
              "7   2771    2609.433105  \n",
              "8    625     694.339233  \n",
              "9    530     505.458374  "
            ]
          },
          "execution_count": 37,
          "metadata": {},
          "output_type": "execute_result"
        }
      ],
      "source": [
        "# Concate between Inference-Set and Rating's Prediction\n",
        "result = pd.concat([data_inf, y_pred_inf_df], axis=1)\n",
        "result"
      ]
    },
    {
      "cell_type": "code",
      "execution_count": 38,
      "metadata": {},
      "outputs": [
        {
          "name": "stdout",
          "output_type": "stream",
          "text": [
            "Average diamond price : $ 3447.4\n",
            "Average selisih antara diamond price vs prediksi : $ 49.02421875\n",
            "Ratio % Average selisih vs diamond price :  1.422 %\n"
          ]
        }
      ],
      "source": [
        "Average_price = result['price'].mean()\n",
        "Selisih = (result['predict price'].sum()-result['price'].sum())/10\n",
        "print('Average diamond price : $', Average_price)\n",
        "print('Average selisih antara diamond price vs prediksi : $', Selisih)\n",
        "print('Ratio % Average selisih vs diamond price : ', ((Selisih/Average_price)*100).round(3), '%')\n"
      ]
    },
    {
      "cell_type": "markdown",
      "metadata": {},
      "source": [
        "Dari perbandingan price vs prediksinya, maka diperoleh ratio error sebesar ~ 1.4% which is good dan bisa diterima based on overall prices."
      ]
    },
    {
      "cell_type": "markdown",
      "metadata": {},
      "source": [
        "# J. Kesimpulan"
      ]
    },
    {
      "cell_type": "markdown",
      "metadata": {},
      "source": [
        "Dari hasil pemodelan diamond price yang sudah dikerjakan, maka dapat disimpulkan bahwa proses pembuatan model good-fit ML berhasil dilakukan (dengan XgBoost as the most optimal algoritm), dengan r2score model yang cukup memuaskan. Ratio error dengan dataset juga overall bisa diterima sehingga hasil prediksi dari model sudah cukup bisa diandalkan dalam melakukan estimasi diamond price. Insight dari proses pengolahan dari data ini adalah bahwa XGBoost menghasilkan model dari data test dan train yang lebih baik daripada model lainnya (dilihat dari hasil GridSearch-nya).\n",
        "\n",
        "Adapun result dari model ML untuk prediksi ini masih bisa lebih baik jika kita mengimplementasi beberapa skenario lain, seperti : 1) dibandingkan melakukan sensoring pada data outliers, drop outliers juga bisa menjadi opsi untuk mengurangi jumlah outliers (karena jumlah outliers sebetulnya kurang dari 5%). XGBoost, model terbaik yang digunakan pada case ini dalam beberapa sumber menyebutkan bahwa XGBoost kurang perform pada dataset yang mengandung outliers namun perform dari sisi flexibility parameter, power untuk multiprocesing, serta mayority in most case, lbh baik dari beberapa model boosting lain, serta sudah build-in missing data handling dalam modelnya. 2) Kemudian skenario lain yg bisa dilakukan adalah : Feature dengan korelasi yang rendah seperti table dan depth bisa kita pertimbangkan untuk di-drop sebelum dilakukan process pembuatan model sehingga hasil evaluasi train dan test bisa lebih baik lagi. 3) Adding more dataset always good if our infrastructure is capable of doing the computation."
      ]
    }
  ],
  "metadata": {
    "colab": {
      "collapsed_sections": [],
      "name": "P1W1D1PM - 20220808 - FTDS-014 - Machine Learning Problem Framing.ipynb",
      "provenance": [],
      "toc_visible": true
    },
    "kernelspec": {
      "display_name": "Python 3.9.12 ('base')",
      "language": "python",
      "name": "python3"
    },
    "language_info": {
      "codemirror_mode": {
        "name": "ipython",
        "version": 3
      },
      "file_extension": ".py",
      "mimetype": "text/x-python",
      "name": "python",
      "nbconvert_exporter": "python",
      "pygments_lexer": "ipython3",
      "version": "3.9.12"
    },
    "vscode": {
      "interpreter": {
        "hash": "ad2bdc8ecc057115af97d19610ffacc2b4e99fae6737bb82f5d7fb13d2f2c186"
      }
    }
  },
  "nbformat": 4,
  "nbformat_minor": 0
}
