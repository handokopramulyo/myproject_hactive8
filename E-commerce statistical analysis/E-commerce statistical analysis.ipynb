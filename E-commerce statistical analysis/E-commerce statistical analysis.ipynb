{
 "cells": [
  {
   "cell_type": "markdown",
   "metadata": {},
   "source": [
    "# Milestone 1"
   ]
  },
  {
   "cell_type": "markdown",
   "metadata": {},
   "source": [
    "by Handoko Pramulyo - Batch 14 | handoko.pramulyo.14@gmail.com\n",
    "***"
   ]
  },
  {
   "cell_type": "markdown",
   "metadata": {},
   "source": [
    "***Assignment problem*** No 4 | CEO toko online \"The Look\" mencurigai bahwa ada yang tidak beres dari sistem penjualan di tokonya, dari performa penjualan produk, pengiriman barang, dsb. Mohon bantu ungkapkan apakah bermasalah atau tidak dari sistem penjualan di platformnya. Gunakan dataset thelook_ecommerce di Google Cloud Platform BigQuery."
   ]
  },
  {
   "cell_type": "markdown",
   "metadata": {},
   "source": [
    "# A. Analyzing Required Dataset"
   ]
  },
  {
   "cell_type": "markdown",
   "metadata": {},
   "source": [
    "***Permasalahan*** : ```Mengetahui kondisi sales & operational di Toko Online The Look```\n",
    "\n",
    "Berdasarkan hasil pengamatan data dan kekhawatiran dari CEO, maka focus dari persoalan biasanya datang dari ***keluhan customer*** (complain, warranty, waktu, dll). Pada case in, tools 8 Waste DOWN TIME akan digunakan (instead of 5W 1H) untuk menjabarkan possible cause persoalan. ***DOWN TIME*** sendiri element-nya adalah,<br>\n",
    "\n",
    "1. Defect (berapa byk barang yg defect dan return? berapa kerugiannya? apakah signifikan atau tidak?)\n",
    "2. Overproduction (berapa banyak supply product bagi customer? apa saja product-nya)\n",
    "3. Waiting (berapa lama rentan waktu yang dibutuhkan untuk setiap proses?)\n",
    "4. Unused Talent/customer (seperti apa demografi dari pembeli? melalui apa pembeli akses produk toko?)\n",
    "5. Transportation (dimana saja lokasi distribution center dan negara pembeli?)\n",
    "6. Inventory (apakah semua inventory terkirim sampai deliver done kepada customer?)\n",
    "7. Motion (unproductive distribution center?)\n",
    "8. dan Extraprocessing (too much to give)<br>\n",
    "\n",
    "Dari breakdown tersebut, maka problem paling relefan vs ketersediaan dataset (BigQuery) salah satunya adalah data return product, date, number of item, sales proces per item, cost of delivery, product category, all data related to buyers/users (age, gender, negara, trafic resource), lokasi distribusi center, proses dari business (status) dll."
   ]
  },
  {
   "cell_type": "markdown",
   "metadata": {},
   "source": [
    "# B. Database Query"
   ]
  },
  {
   "cell_type": "markdown",
   "metadata": {},
   "source": [
    "Berdasarkan dari analisis yang sudah dibuat pada Bagian A, maka Query yang dilakukan adalah sebagai berikut."
   ]
  },
  {
   "cell_type": "code",
   "execution_count": 332,
   "metadata": {},
   "outputs": [],
   "source": [
    "# EXPORT DATA OPTIONS(\n",
    "#   uri='gs://bigquery_export_hans/milestone_*.csv',\n",
    "#   format='CSV',\n",
    "#   overwrite=true,\n",
    "#   header=true,\n",
    "#   field_delimiter=',') AS\n",
    "\n",
    "# select order_items.status, order_items.created_at, order_items.shipped_at, order_items.delivered_at,\n",
    "# order_items.returned_at, products.cost, orders.num_of_item, order_items.sale_price, users.age,\n",
    "# users.gender, users.traffic_source, users.country, products.category, dc.name\n",
    "\n",
    "# from `bigquery-public-data.thelook_ecommerce.order_items` as order_items\n",
    "# join `bigquery-public-data.thelook_ecommerce.users` as users on order_items.user_id = users.id\n",
    "# join `bigquery-public-data.thelook_ecommerce.products` as products on order_items.product_id = products.id\n",
    "# join `bigquery-public-data.thelook_ecommerce.orders` as orders on order_items.order_id = orders.order_id\n",
    "# join `bigquery-public-data.thelook_ecommerce.distribution_centers` as dc on products.distribution_center_id = dc.id"
   ]
  },
  {
   "cell_type": "markdown",
   "metadata": {},
   "source": [
    "# B. Load library & File"
   ]
  },
  {
   "cell_type": "code",
   "execution_count": 333,
   "metadata": {},
   "outputs": [],
   "source": [
    "import pandas as pd\n",
    "import numpy as np\n",
    "import matplotlib.pyplot as plt\n",
    "import scipy.stats as stats\n",
    "import seaborn as sns\n",
    "from numpy import percentile"
   ]
  },
  {
   "cell_type": "code",
   "execution_count": 334,
   "metadata": {},
   "outputs": [],
   "source": [
    "# Load CSV Data, define austin_waste dataframe with df\n",
    "df = pd.read_csv('h8dsft_P0Milestone1_handoko_pramulyo.csv')"
   ]
  },
  {
   "cell_type": "code",
   "execution_count": 335,
   "metadata": {},
   "outputs": [
    {
     "data": {
      "text/html": [
       "<div>\n",
       "<style scoped>\n",
       "    .dataframe tbody tr th:only-of-type {\n",
       "        vertical-align: middle;\n",
       "    }\n",
       "\n",
       "    .dataframe tbody tr th {\n",
       "        vertical-align: top;\n",
       "    }\n",
       "\n",
       "    .dataframe thead th {\n",
       "        text-align: right;\n",
       "    }\n",
       "</style>\n",
       "<table border=\"1\" class=\"dataframe\">\n",
       "  <thead>\n",
       "    <tr style=\"text-align: right;\">\n",
       "      <th></th>\n",
       "      <th>status</th>\n",
       "      <th>created_at</th>\n",
       "      <th>cost</th>\n",
       "      <th>num_of_item</th>\n",
       "      <th>sale_price</th>\n",
       "      <th>age</th>\n",
       "      <th>gender</th>\n",
       "      <th>traffic_source</th>\n",
       "      <th>country</th>\n",
       "      <th>category</th>\n",
       "      <th>name</th>\n",
       "    </tr>\n",
       "  </thead>\n",
       "  <tbody>\n",
       "    <tr>\n",
       "      <th>0</th>\n",
       "      <td>Shipped</td>\n",
       "      <td>2021-08-13 07:29:04 UTC</td>\n",
       "      <td>1.1075</td>\n",
       "      <td>2</td>\n",
       "      <td>2.5</td>\n",
       "      <td>50</td>\n",
       "      <td>F</td>\n",
       "      <td>Search</td>\n",
       "      <td>China</td>\n",
       "      <td>Accessories</td>\n",
       "      <td>Houston TX</td>\n",
       "    </tr>\n",
       "    <tr>\n",
       "      <th>1</th>\n",
       "      <td>Shipped</td>\n",
       "      <td>2022-05-22 07:47:03 UTC</td>\n",
       "      <td>1.1075</td>\n",
       "      <td>1</td>\n",
       "      <td>2.5</td>\n",
       "      <td>27</td>\n",
       "      <td>F</td>\n",
       "      <td>Search</td>\n",
       "      <td>United States</td>\n",
       "      <td>Accessories</td>\n",
       "      <td>Houston TX</td>\n",
       "    </tr>\n",
       "    <tr>\n",
       "      <th>2</th>\n",
       "      <td>Complete</td>\n",
       "      <td>2021-08-23 22:42:48 UTC</td>\n",
       "      <td>1.1075</td>\n",
       "      <td>3</td>\n",
       "      <td>2.5</td>\n",
       "      <td>25</td>\n",
       "      <td>F</td>\n",
       "      <td>Organic</td>\n",
       "      <td>China</td>\n",
       "      <td>Accessories</td>\n",
       "      <td>Houston TX</td>\n",
       "    </tr>\n",
       "    <tr>\n",
       "      <th>3</th>\n",
       "      <td>Complete</td>\n",
       "      <td>2021-05-25 01:58:27 UTC</td>\n",
       "      <td>1.1075</td>\n",
       "      <td>4</td>\n",
       "      <td>2.5</td>\n",
       "      <td>56</td>\n",
       "      <td>F</td>\n",
       "      <td>Organic</td>\n",
       "      <td>China</td>\n",
       "      <td>Accessories</td>\n",
       "      <td>Houston TX</td>\n",
       "    </tr>\n",
       "    <tr>\n",
       "      <th>4</th>\n",
       "      <td>Processing</td>\n",
       "      <td>2022-03-29 02:16:19 UTC</td>\n",
       "      <td>1.1075</td>\n",
       "      <td>1</td>\n",
       "      <td>2.5</td>\n",
       "      <td>54</td>\n",
       "      <td>F</td>\n",
       "      <td>Display</td>\n",
       "      <td>United States</td>\n",
       "      <td>Accessories</td>\n",
       "      <td>Houston TX</td>\n",
       "    </tr>\n",
       "  </tbody>\n",
       "</table>\n",
       "</div>"
      ],
      "text/plain": [
       "       status               created_at    cost  num_of_item  sale_price  age  \\\n",
       "0     Shipped  2021-08-13 07:29:04 UTC  1.1075            2         2.5   50   \n",
       "1     Shipped  2022-05-22 07:47:03 UTC  1.1075            1         2.5   27   \n",
       "2    Complete  2021-08-23 22:42:48 UTC  1.1075            3         2.5   25   \n",
       "3    Complete  2021-05-25 01:58:27 UTC  1.1075            4         2.5   56   \n",
       "4  Processing  2022-03-29 02:16:19 UTC  1.1075            1         2.5   54   \n",
       "\n",
       "  gender traffic_source        country     category        name  \n",
       "0      F         Search          China  Accessories  Houston TX  \n",
       "1      F         Search  United States  Accessories  Houston TX  \n",
       "2      F        Organic          China  Accessories  Houston TX  \n",
       "3      F        Organic          China  Accessories  Houston TX  \n",
       "4      F        Display  United States  Accessories  Houston TX  "
      ]
     },
     "execution_count": 335,
     "metadata": {},
     "output_type": "execute_result"
    }
   ],
   "source": [
    "df.head()"
   ]
  },
  {
   "cell_type": "code",
   "execution_count": 336,
   "metadata": {},
   "outputs": [
    {
     "data": {
      "text/html": [
       "<div>\n",
       "<style scoped>\n",
       "    .dataframe tbody tr th:only-of-type {\n",
       "        vertical-align: middle;\n",
       "    }\n",
       "\n",
       "    .dataframe tbody tr th {\n",
       "        vertical-align: top;\n",
       "    }\n",
       "\n",
       "    .dataframe thead th {\n",
       "        text-align: right;\n",
       "    }\n",
       "</style>\n",
       "<table border=\"1\" class=\"dataframe\">\n",
       "  <thead>\n",
       "    <tr style=\"text-align: right;\">\n",
       "      <th></th>\n",
       "      <th>status</th>\n",
       "      <th>created_at</th>\n",
       "      <th>cost</th>\n",
       "      <th>num_of_item</th>\n",
       "      <th>sale_price</th>\n",
       "      <th>age</th>\n",
       "      <th>gender</th>\n",
       "      <th>traffic_source</th>\n",
       "      <th>country</th>\n",
       "      <th>category</th>\n",
       "      <th>name</th>\n",
       "    </tr>\n",
       "  </thead>\n",
       "  <tbody>\n",
       "    <tr>\n",
       "      <th>181337</th>\n",
       "      <td>Processing</td>\n",
       "      <td>2022-02-16 01:20:22 UTC</td>\n",
       "      <td>5.67588</td>\n",
       "      <td>2</td>\n",
       "      <td>9.32</td>\n",
       "      <td>19</td>\n",
       "      <td>F</td>\n",
       "      <td>Organic</td>\n",
       "      <td>United States</td>\n",
       "      <td>Tops &amp; Tees</td>\n",
       "      <td>Charleston SC</td>\n",
       "    </tr>\n",
       "    <tr>\n",
       "      <th>181338</th>\n",
       "      <td>Processing</td>\n",
       "      <td>2020-10-21 03:51:19 UTC</td>\n",
       "      <td>5.67588</td>\n",
       "      <td>1</td>\n",
       "      <td>9.32</td>\n",
       "      <td>70</td>\n",
       "      <td>F</td>\n",
       "      <td>Search</td>\n",
       "      <td>Spain</td>\n",
       "      <td>Tops &amp; Tees</td>\n",
       "      <td>Charleston SC</td>\n",
       "    </tr>\n",
       "    <tr>\n",
       "      <th>181339</th>\n",
       "      <td>Complete</td>\n",
       "      <td>2022-03-23 02:30:14 UTC</td>\n",
       "      <td>4.37972</td>\n",
       "      <td>1</td>\n",
       "      <td>9.82</td>\n",
       "      <td>35</td>\n",
       "      <td>F</td>\n",
       "      <td>Email</td>\n",
       "      <td>China</td>\n",
       "      <td>Dresses</td>\n",
       "      <td>Charleston SC</td>\n",
       "    </tr>\n",
       "    <tr>\n",
       "      <th>181340</th>\n",
       "      <td>Cancelled</td>\n",
       "      <td>2019-05-23 01:55:25 UTC</td>\n",
       "      <td>4.37972</td>\n",
       "      <td>1</td>\n",
       "      <td>9.82</td>\n",
       "      <td>47</td>\n",
       "      <td>F</td>\n",
       "      <td>Search</td>\n",
       "      <td>South Korea</td>\n",
       "      <td>Dresses</td>\n",
       "      <td>Charleston SC</td>\n",
       "    </tr>\n",
       "    <tr>\n",
       "      <th>181341</th>\n",
       "      <td>Processing</td>\n",
       "      <td>2021-08-21 02:34:23 UTC</td>\n",
       "      <td>4.37972</td>\n",
       "      <td>4</td>\n",
       "      <td>9.82</td>\n",
       "      <td>57</td>\n",
       "      <td>F</td>\n",
       "      <td>Facebook</td>\n",
       "      <td>China</td>\n",
       "      <td>Dresses</td>\n",
       "      <td>Charleston SC</td>\n",
       "    </tr>\n",
       "  </tbody>\n",
       "</table>\n",
       "</div>"
      ],
      "text/plain": [
       "            status               created_at     cost  num_of_item  sale_price  \\\n",
       "181337  Processing  2022-02-16 01:20:22 UTC  5.67588            2        9.32   \n",
       "181338  Processing  2020-10-21 03:51:19 UTC  5.67588            1        9.32   \n",
       "181339    Complete  2022-03-23 02:30:14 UTC  4.37972            1        9.82   \n",
       "181340   Cancelled  2019-05-23 01:55:25 UTC  4.37972            1        9.82   \n",
       "181341  Processing  2021-08-21 02:34:23 UTC  4.37972            4        9.82   \n",
       "\n",
       "        age gender traffic_source        country     category           name  \n",
       "181337   19      F        Organic  United States  Tops & Tees  Charleston SC  \n",
       "181338   70      F         Search          Spain  Tops & Tees  Charleston SC  \n",
       "181339   35      F          Email          China      Dresses  Charleston SC  \n",
       "181340   47      F         Search    South Korea      Dresses  Charleston SC  \n",
       "181341   57      F       Facebook          China      Dresses  Charleston SC  "
      ]
     },
     "execution_count": 336,
     "metadata": {},
     "output_type": "execute_result"
    }
   ],
   "source": [
    "df.tail()"
   ]
  },
  {
   "cell_type": "code",
   "execution_count": 337,
   "metadata": {},
   "outputs": [],
   "source": [
    "df['created_at'] = df['created_at'].astype('datetime64[ns]')\n",
    "df = df.replace('Fashion Hoodies & Sweatshirts','Hoodies & Sweatshirts')\n",
    "df = df.replace('Port Authority of New York/New Jersey NY/NJ','Port New York/NJ')"
   ]
  },
  {
   "cell_type": "code",
   "execution_count": 338,
   "metadata": {},
   "outputs": [],
   "source": [
    "# Define new category of Customer Age into Generation\n",
    "temp = []\n",
    "\n",
    "for i in range(len(df)):\n",
    "    if df['age'][i] <21:\n",
    "        temp.append('0-13 Gen Alpha ')\n",
    "    elif df['age'][i] <29:\n",
    "        temp.append('14-28 Gen Z')\n",
    "    elif df['age'][i] <37:\n",
    "        temp.append('29-45 Gen Y')\n",
    "    elif df['age'][i] <46:\n",
    "        temp.append('46-57 Gen X')\n",
    "    else:\n",
    "        temp.append('58-76 Gen BB')\n",
    "\n",
    "df['age_group']=temp"
   ]
  },
  {
   "cell_type": "markdown",
   "metadata": {},
   "source": [
    "***List of plot style*** | Solarize_Light2, _classic_test_patch, bmh, classic, dark_background, fast, fivethirtyeight, ggplot, grayscale, seaborn, seaborn-bright, seaborn-colorblind, seaborn-dark, seaborn-dark-palette, seaborn-darkgrid, seaborn-deep, seaborn-muted, seaborn-notebook, seaborn-paper, seaborn-pastel, seaborn-poster, seaborn-talk, seaborn-ticks, seaborn-white, seaborn-whitegrid, tableau-colorblind10"
   ]
  },
  {
   "cell_type": "code",
   "execution_count": 339,
   "metadata": {},
   "outputs": [],
   "source": [
    "# Define plot style\n",
    "plt.style.use('ggplot')"
   ]
  },
  {
   "cell_type": "markdown",
   "metadata": {},
   "source": [
    "# C. Data Cleaning"
   ]
  },
  {
   "cell_type": "code",
   "execution_count": 340,
   "metadata": {},
   "outputs": [
    {
     "name": "stdout",
     "output_type": "stream",
     "text": [
      "<class 'pandas.core.frame.DataFrame'>\n",
      "RangeIndex: 181342 entries, 0 to 181341\n",
      "Data columns (total 12 columns):\n",
      " #   Column          Non-Null Count   Dtype         \n",
      "---  ------          --------------   -----         \n",
      " 0   status          181342 non-null  object        \n",
      " 1   created_at      181342 non-null  datetime64[ns]\n",
      " 2   cost            181342 non-null  float64       \n",
      " 3   num_of_item     181342 non-null  int64         \n",
      " 4   sale_price      181342 non-null  float64       \n",
      " 5   age             181342 non-null  int64         \n",
      " 6   gender          181342 non-null  object        \n",
      " 7   traffic_source  181342 non-null  object        \n",
      " 8   country         181342 non-null  object        \n",
      " 9   category        181342 non-null  object        \n",
      " 10  name            181342 non-null  object        \n",
      " 11  age_group       181342 non-null  object        \n",
      "dtypes: datetime64[ns](1), float64(2), int64(2), object(7)\n",
      "memory usage: 16.6+ MB\n"
     ]
    }
   ],
   "source": [
    "df.info()"
   ]
  },
  {
   "cell_type": "markdown",
   "metadata": {},
   "source": [
    "Tidak ditemukan nulled value, sehingga proses outliers removal bisa langsung dilakukan tanpa perlu cleaning data, seperti dropna dan fillna (dengan median), dst"
   ]
  },
  {
   "cell_type": "markdown",
   "metadata": {},
   "source": [
    "# D. Data Visualization"
   ]
  },
  {
   "cell_type": "markdown",
   "metadata": {},
   "source": [
    "## D1. Order Status by Generation"
   ]
  },
  {
   "cell_type": "code",
   "execution_count": 341,
   "metadata": {},
   "outputs": [],
   "source": [
    "df_status_gen = df.copy()"
   ]
  },
  {
   "cell_type": "code",
   "execution_count": 342,
   "metadata": {},
   "outputs": [
    {
     "data": {
      "text/html": [
       "<div>\n",
       "<style scoped>\n",
       "    .dataframe tbody tr th:only-of-type {\n",
       "        vertical-align: middle;\n",
       "    }\n",
       "\n",
       "    .dataframe tbody tr th {\n",
       "        vertical-align: top;\n",
       "    }\n",
       "\n",
       "    .dataframe thead th {\n",
       "        text-align: right;\n",
       "    }\n",
       "</style>\n",
       "<table border=\"1\" class=\"dataframe\">\n",
       "  <thead>\n",
       "    <tr style=\"text-align: right;\">\n",
       "      <th>age_group</th>\n",
       "      <th>0-13 Gen Alpha</th>\n",
       "      <th>14-28 Gen Z</th>\n",
       "      <th>29-45 Gen Y</th>\n",
       "      <th>46-57 Gen X</th>\n",
       "      <th>58-76 Gen BB</th>\n",
       "    </tr>\n",
       "    <tr>\n",
       "      <th>status</th>\n",
       "      <th></th>\n",
       "      <th></th>\n",
       "      <th></th>\n",
       "      <th></th>\n",
       "      <th></th>\n",
       "    </tr>\n",
       "  </thead>\n",
       "  <tbody>\n",
       "    <tr>\n",
       "      <th>Returned</th>\n",
       "      <td>2667</td>\n",
       "      <td>2618</td>\n",
       "      <td>2558</td>\n",
       "      <td>2800</td>\n",
       "      <td>7645</td>\n",
       "    </tr>\n",
       "    <tr>\n",
       "      <th>Cancelled</th>\n",
       "      <td>4041</td>\n",
       "      <td>3742</td>\n",
       "      <td>3534</td>\n",
       "      <td>4017</td>\n",
       "      <td>11547</td>\n",
       "    </tr>\n",
       "    <tr>\n",
       "      <th>Processing</th>\n",
       "      <td>5445</td>\n",
       "      <td>5116</td>\n",
       "      <td>5005</td>\n",
       "      <td>5491</td>\n",
       "      <td>15102</td>\n",
       "    </tr>\n",
       "    <tr>\n",
       "      <th>Complete</th>\n",
       "      <td>6965</td>\n",
       "      <td>6105</td>\n",
       "      <td>6180</td>\n",
       "      <td>6909</td>\n",
       "      <td>19184</td>\n",
       "    </tr>\n",
       "    <tr>\n",
       "      <th>Shipped</th>\n",
       "      <td>8330</td>\n",
       "      <td>7410</td>\n",
       "      <td>7408</td>\n",
       "      <td>8378</td>\n",
       "      <td>23145</td>\n",
       "    </tr>\n",
       "  </tbody>\n",
       "</table>\n",
       "</div>"
      ],
      "text/plain": [
       "age_group   0-13 Gen Alpha   14-28 Gen Z  29-45 Gen Y  46-57 Gen X  \\\n",
       "status                                                               \n",
       "Returned               2667         2618         2558         2800   \n",
       "Cancelled              4041         3742         3534         4017   \n",
       "Processing             5445         5116         5005         5491   \n",
       "Complete               6965         6105         6180         6909   \n",
       "Shipped                8330         7410         7408         8378   \n",
       "\n",
       "age_group   58-76 Gen BB  \n",
       "status                    \n",
       "Returned            7645  \n",
       "Cancelled          11547  \n",
       "Processing         15102  \n",
       "Complete           19184  \n",
       "Shipped            23145  "
      ]
     },
     "execution_count": 342,
     "metadata": {},
     "output_type": "execute_result"
    }
   ],
   "source": [
    "df_status_gen_matrix = pd.crosstab(df_status_gen['status'],df_status_gen['age_group'])\n",
    "df_status_gen_matrix['total']=df_status_gen_matrix.sum(axis=1) # add the row wise sum\n",
    "df_status_gen_matrix.sort_values('total', inplace=True) # sort\n",
    "df_status_gen_matrix = df_status_gen_matrix.drop(['total'], axis = 1)\n",
    "df_status_gen_matrix"
   ]
  },
  {
   "cell_type": "code",
   "execution_count": 343,
   "metadata": {},
   "outputs": [
    {
     "data": {
      "image/png": "[encoded data removed]",
      "text/plain": [
       "<Figure size 432x288 with 1 Axes>"
      ]
     },
     "metadata": {},
     "output_type": "display_data"
    }
   ],
   "source": [
    "df_status_gen_matrix.plot(kind='bar',stacked=True)\n",
    "# Adding Legend\n",
    "plt.legend([\"0-13 Gen Alpha\", \"14-28 Gen Z\", \"29-45 Gen Y\", \"46-57 Gen X\", \"58-76 Gen BB\"], loc =\"upper left\", ncol=2)\n",
    "# Adding Title\n",
    "plt.title('Order Status by Generation', fontname='Franklin Gothic Medium', fontsize=18)\n",
    "# Adding label on the y-axis\n",
    "plt.xlabel(' ')\n",
    "plt.ylabel(' ')\n",
    "# Adjuts label rotation on the y-axis\n",
    "plt.xticks(rotation=0)\n",
    "plt.yticks(rotation=90)\n",
    "plt.show()"
   ]
  },
  {
   "cell_type": "markdown",
   "metadata": {},
   "source": [
    "***Insight*** | Dari hasil counting kesulurah data, product yang masih dalam proses pengiriman (Shipped dan dalam proses Delivered/complete) berada pada rank 1. Di antara data Shipped tersebut, ternyata sebagai besarnya adalah user/customer yang memesan produk di umur 58 tahun up (Generasi Baby Boomers). Adapun jumlah product yang returned berada pada rank paling rendah, namun meskipun demikian, tetap saja user dengan generasai BB yang paling dirugikan."
   ]
  },
  {
   "cell_type": "markdown",
   "metadata": {},
   "source": [
    "## D2. Product Category by Gender"
   ]
  },
  {
   "cell_type": "code",
   "execution_count": 344,
   "metadata": {},
   "outputs": [],
   "source": [
    "df_category_gender = df.copy()"
   ]
  },
  {
   "cell_type": "code",
   "execution_count": 345,
   "metadata": {},
   "outputs": [
    {
     "data": {
      "text/html": [
       "<div>\n",
       "<style scoped>\n",
       "    .dataframe tbody tr th:only-of-type {\n",
       "        vertical-align: middle;\n",
       "    }\n",
       "\n",
       "    .dataframe tbody tr th {\n",
       "        vertical-align: top;\n",
       "    }\n",
       "\n",
       "    .dataframe thead th {\n",
       "        text-align: right;\n",
       "    }\n",
       "</style>\n",
       "<table border=\"1\" class=\"dataframe\">\n",
       "  <thead>\n",
       "    <tr style=\"text-align: right;\">\n",
       "      <th>gender</th>\n",
       "      <th>F</th>\n",
       "      <th>M</th>\n",
       "    </tr>\n",
       "    <tr>\n",
       "      <th>category</th>\n",
       "      <th></th>\n",
       "      <th></th>\n",
       "    </tr>\n",
       "  </thead>\n",
       "  <tbody>\n",
       "    <tr>\n",
       "      <th>Clothing Sets</th>\n",
       "      <td>197</td>\n",
       "      <td>0</td>\n",
       "    </tr>\n",
       "    <tr>\n",
       "      <th>Jumpsuits &amp; Rompers</th>\n",
       "      <td>985</td>\n",
       "      <td>0</td>\n",
       "    </tr>\n",
       "    <tr>\n",
       "      <th>Suits</th>\n",
       "      <td>1067</td>\n",
       "      <td>0</td>\n",
       "    </tr>\n",
       "    <tr>\n",
       "      <th>Skirts</th>\n",
       "      <td>2055</td>\n",
       "      <td>0</td>\n",
       "    </tr>\n",
       "    <tr>\n",
       "      <th>Blazers &amp; Jackets</th>\n",
       "      <td>3144</td>\n",
       "      <td>0</td>\n",
       "    </tr>\n",
       "  </tbody>\n",
       "</table>\n",
       "</div>"
      ],
      "text/plain": [
       "gender                  F  M\n",
       "category                    \n",
       "Clothing Sets         197  0\n",
       "Jumpsuits & Rompers   985  0\n",
       "Suits                1067  0\n",
       "Skirts               2055  0\n",
       "Blazers & Jackets    3144  0"
      ]
     },
     "execution_count": 345,
     "metadata": {},
     "output_type": "execute_result"
    }
   ],
   "source": [
    "df_category_gender_matrix = pd.crosstab(df_category_gender['category'],df_category_gender['gender'])\n",
    "df_category_gender_matrix['total']=df_category_gender_matrix.sum(axis=1) # add the row wise sum\n",
    "df_category_gender_matrix.sort_values('total', inplace=True) # sort\n",
    "df_category_gender_matrix = df_category_gender_matrix.drop(['total'], axis = 1)\n",
    "df_category_gender_matrix.head()"
   ]
  },
  {
   "cell_type": "code",
   "execution_count": 346,
   "metadata": {},
   "outputs": [],
   "source": [
    "# df_category_gender_matrix.to_csv(\"df_category_gender_matrix.csv\")"
   ]
  },
  {
   "cell_type": "code",
   "execution_count": 347,
   "metadata": {},
   "outputs": [
    {
     "data": {
      "image/png": "[encoded data removed]",
      "text/plain": [
       "<Figure size 432x864 with 1 Axes>"
      ]
     },
     "metadata": {},
     "output_type": "display_data"
    }
   ],
   "source": [
    "df_category_gender_matrix[['F','M']].plot(kind='barh',stacked=True, figsize=(6,12))\n",
    "\n",
    "# Adding Legend\n",
    "plt.legend([\"Female\", \"Male\"], loc =\"lower right\", ncol=1)\n",
    "# Adding Title\n",
    "plt.title('Product Category by Gender', fontname='Franklin Gothic Medium', fontsize=18)\n",
    "# Adding label on the y-axis\n",
    "plt.xlabel(' ')\n",
    "plt.ylabel(' ')\n",
    "# Adjuts label rotation on the y-axis\n",
    "plt.xticks(rotation=0)\n",
    "plt.yticks(rotation=0)\n",
    "plt.show()"
   ]
  },
  {
   "cell_type": "markdown",
   "metadata": {},
   "source": [
    "***insight*** | Dari sekian banyak produk yang dijual oleh Toko ini, TOP 5 product terlaris diantaranya adalah produk dengan kategori intimates (yang didominasi oleh user dengan gender wanita 'female'), jeans, Hoodies, Tops, dan Swim. Produk yang didominasi oleh pria diantaranya secara berurutan dari yang terbanyak adalah underware, pants, dan socks, dan Suits. Sedangkan produk yang didominiasi oleh wanita selain kategori intimates adalah maternity, plus, dst sampai dengan cloting sets."
   ]
  },
  {
   "cell_type": "markdown",
   "metadata": {},
   "source": [
    "## D3. Buyers Country by Order Status"
   ]
  },
  {
   "cell_type": "code",
   "execution_count": 348,
   "metadata": {},
   "outputs": [],
   "source": [
    "df_country_gen = df.copy()"
   ]
  },
  {
   "cell_type": "code",
   "execution_count": 349,
   "metadata": {},
   "outputs": [
    {
     "data": {
      "text/html": [
       "<div>\n",
       "<style scoped>\n",
       "    .dataframe tbody tr th:only-of-type {\n",
       "        vertical-align: middle;\n",
       "    }\n",
       "\n",
       "    .dataframe tbody tr th {\n",
       "        vertical-align: top;\n",
       "    }\n",
       "\n",
       "    .dataframe thead th {\n",
       "        text-align: right;\n",
       "    }\n",
       "</style>\n",
       "<table border=\"1\" class=\"dataframe\">\n",
       "  <thead>\n",
       "    <tr style=\"text-align: right;\">\n",
       "      <th>status</th>\n",
       "      <th>Cancelled</th>\n",
       "      <th>Complete</th>\n",
       "      <th>Processing</th>\n",
       "      <th>Returned</th>\n",
       "      <th>Shipped</th>\n",
       "    </tr>\n",
       "    <tr>\n",
       "      <th>country</th>\n",
       "      <th></th>\n",
       "      <th></th>\n",
       "      <th></th>\n",
       "      <th></th>\n",
       "      <th></th>\n",
       "    </tr>\n",
       "  </thead>\n",
       "  <tbody>\n",
       "    <tr>\n",
       "      <th>Deutschland</th>\n",
       "      <td>0</td>\n",
       "      <td>0</td>\n",
       "      <td>0</td>\n",
       "      <td>0</td>\n",
       "      <td>1</td>\n",
       "    </tr>\n",
       "    <tr>\n",
       "      <th>Austria</th>\n",
       "      <td>0</td>\n",
       "      <td>3</td>\n",
       "      <td>0</td>\n",
       "      <td>1</td>\n",
       "      <td>1</td>\n",
       "    </tr>\n",
       "    <tr>\n",
       "      <th>Colombia</th>\n",
       "      <td>5</td>\n",
       "      <td>1</td>\n",
       "      <td>5</td>\n",
       "      <td>2</td>\n",
       "      <td>2</td>\n",
       "    </tr>\n",
       "    <tr>\n",
       "      <th>España</th>\n",
       "      <td>2</td>\n",
       "      <td>1</td>\n",
       "      <td>8</td>\n",
       "      <td>1</td>\n",
       "      <td>5</td>\n",
       "    </tr>\n",
       "    <tr>\n",
       "      <th>Poland</th>\n",
       "      <td>76</td>\n",
       "      <td>103</td>\n",
       "      <td>93</td>\n",
       "      <td>53</td>\n",
       "      <td>153</td>\n",
       "    </tr>\n",
       "  </tbody>\n",
       "</table>\n",
       "</div>"
      ],
      "text/plain": [
       "status       Cancelled  Complete  Processing  Returned  Shipped\n",
       "country                                                        \n",
       "Deutschland          0         0           0         0        1\n",
       "Austria              0         3           0         1        1\n",
       "Colombia             5         1           5         2        2\n",
       "España               2         1           8         1        5\n",
       "Poland              76       103          93        53      153"
      ]
     },
     "execution_count": 349,
     "metadata": {},
     "output_type": "execute_result"
    }
   ],
   "source": [
    "df_country_gen_matrix = pd.crosstab(df_country_gen['country'],df_country_gen['status'])\n",
    "df_country_gen_matrix['total']=df_country_gen_matrix.sum(axis=1) # add the row wise sum\n",
    "df_country_gen_matrix.sort_values('total', inplace=True) # sort\n",
    "df_country_gen_matrix = df_country_gen_matrix.drop(['total'], axis = 1)\n",
    "df_country_gen_matrix.head()"
   ]
  },
  {
   "cell_type": "code",
   "execution_count": 350,
   "metadata": {},
   "outputs": [],
   "source": [
    "# df_country_gen_matrix.to_csv(\"df_country_gen_matrix.csv\")"
   ]
  },
  {
   "cell_type": "code",
   "execution_count": 351,
   "metadata": {},
   "outputs": [
    {
     "data": {
      "image/png": "[encoded data removed]",
      "text/plain": [
       "<Figure size 720x432 with 1 Axes>"
      ]
     },
     "metadata": {},
     "output_type": "display_data"
    }
   ],
   "source": [
    "df_country_gen_matrix[[\"Cancelled\", \"Complete\", \"Processing\", \"Returned\",\"Shipped\"]].plot(kind='barh',stacked=True, figsize=(10,6))\n",
    "\n",
    "# Adding Legend\n",
    "plt.legend([\"Cancelled\", \"Complete\", \"Processing\", \"Returned\",\"Shipped\"], loc =\"lower right\", ncol=5)\n",
    "# Adding Title\n",
    "plt.title('Buyers Country by Status', fontname='Franklin Gothic Medium', fontsize=18)\n",
    "# Adding label on the y-axis\n",
    "plt.xlabel(' ')\n",
    "plt.ylabel(' ')\n",
    "# Adjuts label rotation on the y-axis\n",
    "plt.xticks(rotation=0)\n",
    "plt.yticks(rotation=0)\n",
    "plt.show()"
   ]
  },
  {
   "cell_type": "markdown",
   "metadata": {},
   "source": [
    "***insight*** | Dari beberapa negara user/pembeli, TOP 3 negera yang paling sering melakukan transaksi diantaranya adalah China, US, dan Brasil. Sedangkan Negara yang tercatat paling rendah adalah Deutsc, Austria, Colombia, dan Espana. China tampak memimpin dalam semua count status pengiriman, the most cancelled, complete, dst. CEO harus mulai mem-prioritaskan ketiga negara ini, baik secara service, duration, dll yang lebih baik sehingga profits yang dihasilkan bisa lebih baik sekaligus mengurangi jumlah cost akibat product yg berstatus return."
   ]
  },
  {
   "cell_type": "markdown",
   "metadata": {},
   "source": [
    "## D4. Distribution center by traffic source"
   ]
  },
  {
   "cell_type": "code",
   "execution_count": 352,
   "metadata": {},
   "outputs": [],
   "source": [
    "df_dc = df.copy()"
   ]
  },
  {
   "cell_type": "code",
   "execution_count": 353,
   "metadata": {},
   "outputs": [
    {
     "data": {
      "text/html": [
       "<div>\n",
       "<style scoped>\n",
       "    .dataframe tbody tr th:only-of-type {\n",
       "        vertical-align: middle;\n",
       "    }\n",
       "\n",
       "    .dataframe tbody tr th {\n",
       "        vertical-align: top;\n",
       "    }\n",
       "\n",
       "    .dataframe thead th {\n",
       "        text-align: right;\n",
       "    }\n",
       "</style>\n",
       "<table border=\"1\" class=\"dataframe\">\n",
       "  <thead>\n",
       "    <tr style=\"text-align: right;\">\n",
       "      <th>traffic_source</th>\n",
       "      <th>Display</th>\n",
       "      <th>Email</th>\n",
       "      <th>Facebook</th>\n",
       "      <th>Organic</th>\n",
       "      <th>Search</th>\n",
       "    </tr>\n",
       "    <tr>\n",
       "      <th>name</th>\n",
       "      <th></th>\n",
       "      <th></th>\n",
       "      <th></th>\n",
       "      <th></th>\n",
       "      <th></th>\n",
       "    </tr>\n",
       "  </thead>\n",
       "  <tbody>\n",
       "    <tr>\n",
       "      <th>Savannah GA</th>\n",
       "      <td>506</td>\n",
       "      <td>595</td>\n",
       "      <td>716</td>\n",
       "      <td>1710</td>\n",
       "      <td>8429</td>\n",
       "    </tr>\n",
       "    <tr>\n",
       "      <th>New Orleans LA</th>\n",
       "      <td>526</td>\n",
       "      <td>657</td>\n",
       "      <td>772</td>\n",
       "      <td>1994</td>\n",
       "      <td>9186</td>\n",
       "    </tr>\n",
       "    <tr>\n",
       "      <th>Port New York/NJ</th>\n",
       "      <td>664</td>\n",
       "      <td>791</td>\n",
       "      <td>949</td>\n",
       "      <td>2437</td>\n",
       "      <td>11287</td>\n",
       "    </tr>\n",
       "    <tr>\n",
       "      <th>Philadelphia PA</th>\n",
       "      <td>653</td>\n",
       "      <td>858</td>\n",
       "      <td>1026</td>\n",
       "      <td>2465</td>\n",
       "      <td>11738</td>\n",
       "    </tr>\n",
       "    <tr>\n",
       "      <th>Charleston SC</th>\n",
       "      <td>645</td>\n",
       "      <td>854</td>\n",
       "      <td>1017</td>\n",
       "      <td>2519</td>\n",
       "      <td>11737</td>\n",
       "    </tr>\n",
       "  </tbody>\n",
       "</table>\n",
       "</div>"
      ],
      "text/plain": [
       "traffic_source    Display  Email  Facebook  Organic  Search\n",
       "name                                                       \n",
       "Savannah GA           506    595       716     1710    8429\n",
       "New Orleans LA        526    657       772     1994    9186\n",
       "Port New York/NJ      664    791       949     2437   11287\n",
       "Philadelphia PA       653    858      1026     2465   11738\n",
       "Charleston SC         645    854      1017     2519   11737"
      ]
     },
     "execution_count": 353,
     "metadata": {},
     "output_type": "execute_result"
    }
   ],
   "source": [
    "df_dc_matrix = pd.crosstab(df_dc['name'],df_dc['traffic_source'])\n",
    "df_dc_matrix['total']=df_dc_matrix.sum(axis=1) # add the row wise sum\n",
    "df_dc_matrix.sort_values('total', inplace=True) # sort\n",
    "df_dc_matrix = df_dc_matrix.drop(['total'], axis = 1)\n",
    "df_dc_matrix.head()"
   ]
  },
  {
   "cell_type": "code",
   "execution_count": 354,
   "metadata": {},
   "outputs": [],
   "source": [
    "# df_dc_matrix.to_csv(\"df_dc_matrix.csv\")"
   ]
  },
  {
   "cell_type": "code",
   "execution_count": 355,
   "metadata": {},
   "outputs": [
    {
     "data": {
      "image/png": "[encoded data removed]",
      "text/plain": [
       "<Figure size 432x360 with 1 Axes>"
      ]
     },
     "metadata": {},
     "output_type": "display_data"
    }
   ],
   "source": [
    "df_dc_matrix[[\"Display\", \"Email\", \"Facebook\", \"Organic\", \"Search\"]].plot(kind='barh',stacked=True, figsize=(6,5))\n",
    "\n",
    "# Adding Legend\n",
    "plt.legend([\"Display\", \"Email\", \"Facebook\", \"Organic\", \"Search\"], loc =\"lower right\", ncol=1)\n",
    "# Adding Title\n",
    "plt.title('Distribution center by traffic source', fontname='Franklin Gothic Medium', fontsize=18)\n",
    "# Adding label on the y-axis\n",
    "plt.xlabel(' ')\n",
    "plt.ylabel(' ')\n",
    "# Adjuts label rotation on the y-axis\n",
    "plt.xticks(rotation=0)\n",
    "plt.yticks(rotation=0)\n",
    "plt.show()"
   ]
  },
  {
   "cell_type": "markdown",
   "metadata": {},
   "source": [
    "***insight*** | Bisa dilihat bahwa lokasi dsitribusi center tersibuk adalah Chicago IL dengan jumlah proses produk terbanyak (baik pada saat masuk ke sistem atau saat sudah pengiriman). Kemudian dilanjutkan dengan Memphis TN, Houston TX dst. Dari semua lokasi distirbution center, tampak jelas bahwa kebanyakan user/pembeli lebih banyak melakukan transaksi pembelian melalui searching produk langsung via website toko online. Kemudian disusul dari sumber organic (situs search engine seperti Google, yahoo, dan Bing), dst. Tercatat bahwa user lebih sedikit mengakses produk yang dijual via display, atau melalui iklan yang berada diluar website resmi toko."
   ]
  },
  {
   "cell_type": "markdown",
   "metadata": {},
   "source": [
    "# E. Descriptve Stat : Sales Performance"
   ]
  },
  {
   "cell_type": "code",
   "execution_count": 356,
   "metadata": {},
   "outputs": [],
   "source": [
    "df_stat = df.copy()"
   ]
  },
  {
   "cell_type": "code",
   "execution_count": 357,
   "metadata": {},
   "outputs": [
    {
     "data": {
      "text/html": [
       "<div>\n",
       "<style scoped>\n",
       "    .dataframe tbody tr th:only-of-type {\n",
       "        vertical-align: middle;\n",
       "    }\n",
       "\n",
       "    .dataframe tbody tr th {\n",
       "        vertical-align: top;\n",
       "    }\n",
       "\n",
       "    .dataframe thead th {\n",
       "        text-align: right;\n",
       "    }\n",
       "</style>\n",
       "<table border=\"1\" class=\"dataframe\">\n",
       "  <thead>\n",
       "    <tr style=\"text-align: right;\">\n",
       "      <th></th>\n",
       "      <th>status</th>\n",
       "      <th>created_at</th>\n",
       "      <th>profits</th>\n",
       "    </tr>\n",
       "  </thead>\n",
       "  <tbody>\n",
       "    <tr>\n",
       "      <th>10</th>\n",
       "      <td>Returned</td>\n",
       "      <td>2020-03-30 07:01:47</td>\n",
       "      <td>1.731</td>\n",
       "    </tr>\n",
       "    <tr>\n",
       "      <th>36</th>\n",
       "      <td>Returned</td>\n",
       "      <td>2021-11-18 09:44:51</td>\n",
       "      <td>12.628</td>\n",
       "    </tr>\n",
       "    <tr>\n",
       "      <th>37</th>\n",
       "      <td>Returned</td>\n",
       "      <td>2021-08-16 12:01:58</td>\n",
       "      <td>8.862</td>\n",
       "    </tr>\n",
       "    <tr>\n",
       "      <th>61</th>\n",
       "      <td>Returned</td>\n",
       "      <td>2021-09-07 13:03:55</td>\n",
       "      <td>5.780</td>\n",
       "    </tr>\n",
       "    <tr>\n",
       "      <th>112</th>\n",
       "      <td>Returned</td>\n",
       "      <td>2020-12-31 16:46:59</td>\n",
       "      <td>7.765</td>\n",
       "    </tr>\n",
       "  </tbody>\n",
       "</table>\n",
       "</div>"
      ],
      "text/plain": [
       "       status          created_at  profits\n",
       "10   Returned 2020-03-30 07:01:47    1.731\n",
       "36   Returned 2021-11-18 09:44:51   12.628\n",
       "37   Returned 2021-08-16 12:01:58    8.862\n",
       "61   Returned 2021-09-07 13:03:55    5.780\n",
       "112  Returned 2020-12-31 16:46:59    7.765"
      ]
     },
     "execution_count": 357,
     "metadata": {},
     "output_type": "execute_result"
    }
   ],
   "source": [
    "df_stat['income'] = df_stat['num_of_item']*df_stat['sale_price']\n",
    "df_stat['profits'] = df_stat['income']-df_stat['cost']\n",
    "df_stat = df_stat[df_stat['status']=='Returned']\n",
    "df_stat = df_stat.drop(['income','cost','age','gender','traffic_source','country','category','name','age_group','num_of_item','sale_price'], axis = 1)\n",
    "df_stat.head()"
   ]
  },
  {
   "cell_type": "code",
   "execution_count": 358,
   "metadata": {},
   "outputs": [],
   "source": [
    "# df_stat.to_csv(\"df_stat.csv\")"
   ]
  },
  {
   "cell_type": "code",
   "execution_count": 359,
   "metadata": {},
   "outputs": [
    {
     "name": "stdout",
     "output_type": "stream",
     "text": [
      "Count: 18288\n",
      "Min: 0.8652299957279861\n",
      "Max: 3242.672998331487\n",
      "Std: 130.66368498170672\n",
      "--------------------\n",
      "Mean: 83.53253428497916\n",
      "Q1: 18.909\n",
      "Q2: 41.771\n",
      "Q3: 94.350\n"
     ]
    }
   ],
   "source": [
    "## Calculate quartiles\n",
    "quartiles = percentile(df_stat['profits'], [25, 50, 75])\n",
    "\n",
    "print ('Count: ' + str(df_stat['profits'].count()))\n",
    "print ('Min: ' + str(df_stat['profits'].min()))\n",
    "print ('Max: ' + str(df_stat['profits'].max()))\n",
    "print ('Std: ' + str(df_stat['profits'].std()))\n",
    "print ('-'*20)\n",
    "print ('Mean: ' + str(df_stat['profits'].mean()))\n",
    "print('Q1: %.3f' % quartiles[0])\n",
    "print('Q2: %.3f' % quartiles[1])\n",
    "print('Q3: %.3f' % quartiles[2])\n"
   ]
  },
  {
   "cell_type": "markdown",
   "metadata": {},
   "source": [
    "Nilai value max tampak sangat besar atau terdapat perbedaan value (GAP) dengan Q3. In short, secara observasi data sederhana... jarak antara min, Q1, Q2, Q3, dan max terlihat perbedaan value yg konstant dan berpola. ```Dugaan sementara: bisa jadi terdapat outliers pada value di kisaran Q3 sd nilai Max```"
   ]
  },
  {
   "cell_type": "code",
   "execution_count": 360,
   "metadata": {},
   "outputs": [
    {
     "name": "stdout",
     "output_type": "stream",
     "text": [
      "Skewness value :  6.258296045228678\n",
      "Kurtosis value :  78.36140743291406\n"
     ]
    }
   ],
   "source": [
    "# Measure of Skewness and Kurtosis Overall : load_weight\n",
    "print('Skewness value : ', df_stat ['profits'].skew())\n",
    "print('Kurtosis value : ', df_stat ['profits'].kurt())\n",
    "# df_stat['profits'].hist(bins=30, figsize=(10,5), color='blue')\n",
    "# plt.show()"
   ]
  },
  {
   "cell_type": "markdown",
   "metadata": {},
   "source": [
    "Karena skewness lebih besar dari 1, maka distribusi dari data sales sangat skewed kanan (sama sekali tidak terdistribusi normal). ```So, untuk menghilangkan outliers, maka teknik yg digunakan adalah menggunakan IQR```"
   ]
  },
  {
   "cell_type": "code",
   "execution_count": 361,
   "metadata": {},
   "outputs": [
    {
     "data": {
      "image/png": "[encoded data removed]",
      "text/plain": [
       "<Figure size 432x288 with 1 Axes>"
      ]
     },
     "metadata": {},
     "output_type": "display_data"
    }
   ],
   "source": [
    "# Plot a box-whisker chart\n",
    "df_stat['profits'].plot(kind='box', title='Grade Distribution')\n",
    "plt.show()"
   ]
  },
  {
   "cell_type": "code",
   "execution_count": 362,
   "metadata": {},
   "outputs": [],
   "source": [
    "# Create variable baru untuk define dataframe sales baru after outliers dikeluarkan\n",
    "df_stat_xo = df_stat.copy()"
   ]
  },
  {
   "cell_type": "code",
   "execution_count": 363,
   "metadata": {},
   "outputs": [],
   "source": [
    "# Define quartile untuk perhitungan IQR\n",
    "quartiles = percentile(df_stat_xo['profits'], [25, 50, 75])\n",
    "\n",
    "# Rumus IQR\n",
    "IQR = quartiles[2] - quartiles[0]\n",
    "\n",
    "# Define Upper_boundary & Lower_boundary\n",
    "Upper_boundary = quartiles[2] + (IQR * 1.5)\n",
    "Lower_boundary = quartiles[0] - (IQR * 1.5)\n",
    "\n",
    "# Removing outliers from the data based on IQR ==> karena data tidak terdistribusi normal\n",
    "df_stat_xo = df_stat_xo[(df_stat_xo[\"profits\"] < Upper_boundary) & (df_stat_xo[\"profits\"] > Lower_boundary)]"
   ]
  },
  {
   "cell_type": "markdown",
   "metadata": {},
   "source": [
    "Tampak pada box chart bahwa terdapat data (outliers) yang terletak di luar rentang yang sudah ditentukan, ```yaitu Upper_boundary (Q3 + IQR x 1.5) dan Lower_boundary (Q1 - IQR x 1.5)```. Data outliers tersebut lah yg perlu kita hilangkan."
   ]
  },
  {
   "cell_type": "code",
   "execution_count": 364,
   "metadata": {},
   "outputs": [
    {
     "data": {
      "image/png": "[encoded data removed]",
      "text/plain": [
       "<Figure size 720x360 with 1 Axes>"
      ]
     },
     "metadata": {},
     "output_type": "display_data"
    }
   ],
   "source": [
    "df_stat_xo['profits'].hist(bins=30, figsize=(10,5))\n",
    "plt.show()"
   ]
  },
  {
   "cell_type": "code",
   "execution_count": 365,
   "metadata": {},
   "outputs": [
    {
     "name": "stdout",
     "output_type": "stream",
     "text": [
      "jumlah outliers adalah sebesar 9.1 persen dari total data\n"
     ]
    }
   ],
   "source": [
    "outliers_count = (df_stat['profits'].count() - df_stat_xo['profits'].count())/df_stat['profits'].count()\n",
    "print(f'jumlah outliers adalah sebesar {outliers_count.round(3)*100} persen dari total data')"
   ]
  },
  {
   "cell_type": "code",
   "execution_count": 366,
   "metadata": {},
   "outputs": [
    {
     "name": "stdout",
     "output_type": "stream",
     "text": [
      "Count: 16630\n",
      "Min: 0.8652299957279861\n",
      "Max: 207.50300005450845\n",
      "Std: 46.747628085400045\n",
      "--------------------\n",
      "Mean: 52.99264600966476\n",
      "Q1: 17.447\n",
      "Q2: 36.480\n",
      "Q3: 75.068\n"
     ]
    }
   ],
   "source": [
    "## Calculate quartiles\n",
    "quartiles = percentile(df_stat_xo['profits'], [25, 50, 75])\n",
    "\n",
    "print ('Count: ' + str(df_stat_xo['profits'].count()))\n",
    "print ('Min: ' + str(df_stat_xo['profits'].min()))\n",
    "print ('Max: ' + str(df_stat_xo['profits'].max()))\n",
    "print ('Std: ' + str(df_stat_xo['profits'].std()))\n",
    "print ('-'*20)\n",
    "print ('Mean: ' + str(df_stat_xo['profits'].mean()))\n",
    "print('Q1: %.3f' % quartiles[0])\n",
    "print('Q2: %.3f' % quartiles[1])\n",
    "print('Q3: %.3f' % quartiles[2])\n"
   ]
  },
  {
   "cell_type": "markdown",
   "metadata": {},
   "source": [
    "After outliers telah dilakukan handling, distribusi data menjadi lebih baik"
   ]
  },
  {
   "cell_type": "markdown",
   "metadata": {},
   "source": [
    "# F. Inferential stat : Hypothesis test"
   ]
  },
  {
   "cell_type": "code",
   "execution_count": 367,
   "metadata": {},
   "outputs": [],
   "source": [
    "# Define Two samples\n",
    "df_populasi = df_stat_xo.copy()\n",
    "df_sample = df_stat_xo[df_stat_xo['created_at']>='2019-08-01'].copy()"
   ]
  },
  {
   "cell_type": "markdown",
   "metadata": {},
   "source": [
    "OK, what we are going to do is, testing two data sample (population itself, and sample). Data yang kita define hanya meng-include-kan data STATUS ***RETURNED***, karena asumsi dugaan komplain merupakan root cause dari ketidakpuasan customer, (online buyers sekaligus kekhawatiran yang ditakutkan oleh CEO) atau dapat kita katakan ***PROFIT LOSS***. Sudah ada dua dataframe yg kita miliki,\n",
    "\n",
    "```These are what we have now : df_populasi & df_sample, keduanya sudah bebas dari outliers.```"
   ]
  },
  {
   "cell_type": "code",
   "execution_count": 368,
   "metadata": {},
   "outputs": [
    {
     "name": "stdout",
     "output_type": "stream",
     "text": [
      "Average profits loss because of product rejection a Day (population): $728.0\n",
      "Average profits loss because of product rejection a Day (sample): $796.0\n"
     ]
    }
   ],
   "source": [
    "df_populasi['date'] = df_populasi['created_at'].dt.date\n",
    "daily_profits_xo_p = df_populasi[['date','profits']].groupby('date').sum()\n",
    "print('Average profits loss because of product rejection a Day (population): ${}'.format(np.round(daily_profits_xo_p['profits'].mean())))\n",
    "\n",
    "df_sample['date'] = df_sample['created_at'].dt.date\n",
    "daily_profits_xo_s = df_sample[['date','profits']].groupby('date').sum()\n",
    "print('Average profits loss because of product rejection a Day (sample): ${}'.format(np.round(daily_profits_xo_s['profits'].mean())))"
   ]
  },
  {
   "cell_type": "code",
   "execution_count": 369,
   "metadata": {},
   "outputs": [],
   "source": [
    "# daily_profits_xo_p.to_csv(\"daily_profits_xo_p.csv\")\n",
    "# daily_profits_xo_s.to_csv(\"daily_profits_xo_s.csv\")"
   ]
  },
  {
   "cell_type": "markdown",
   "metadata": {},
   "source": [
    "***Two sample independent (one tailed test)***\n",
    "\n",
    "Now, we want to check, ***whether Average profits a Day from population ($728) are significantly different or not from the sample data ($796)*** using Two Samples independent... set the significance level of 0.05\n",
    "\n",
    "Hypothesis on this case :\n",
    "\n",
    "**H0: μ_average profits loss = $728**<br>\n",
    "**H1: μ_average profits loss != $728**"
   ]
  },
  {
   "cell_type": "code",
   "execution_count": 370,
   "metadata": {},
   "outputs": [
    {
     "name": "stdout",
     "output_type": "stream",
     "text": [
      "P-value: 0.03540318347980804\n",
      "t-statistics: -2.104956252163932\n"
     ]
    }
   ],
   "source": [
    "t_stat, p_val = stats.ttest_ind(daily_profits_xo_p,daily_profits_xo_s)\n",
    "t_stat_p_val = stats.ttest_ind(daily_profits_xo_p,daily_profits_xo_s)\n",
    "print('P-value:',p_val[0]) #two tail | the p-value is divided by 2 since the output is two-sided p-value\n",
    "print('t-statistics:',t_stat[0])"
   ]
  },
  {
   "cell_type": "code",
   "execution_count": 371,
   "metadata": {},
   "outputs": [
    {
     "name": "stderr",
     "output_type": "stream",
     "text": [
      "c:\\ProgramData\\Anaconda3\\lib\\site-packages\\seaborn\\distributions.py:2619: FutureWarning: `distplot` is a deprecated function and will be removed in a future version. Please adapt your code to use either `displot` (a figure-level function with similar flexibility) or `histplot` (an axes-level function for histograms).\n",
      "  warnings.warn(msg, FutureWarning)\n",
      "c:\\ProgramData\\Anaconda3\\lib\\site-packages\\seaborn\\distributions.py:2619: FutureWarning: `distplot` is a deprecated function and will be removed in a future version. Please adapt your code to use either `displot` (a figure-level function with similar flexibility) or `histplot` (an axes-level function for histograms).\n",
      "  warnings.warn(msg, FutureWarning)\n"
     ]
    },
    {
     "data": {
      "text/plain": [
       "<matplotlib.legend.Legend at 0x1ed82689a00>"
      ]
     },
     "execution_count": 371,
     "metadata": {},
     "output_type": "execute_result"
    },
    {
     "data": {
      "image/png": "[encoded data removed]",
      "text/plain": [
       "<Figure size 1152x360 with 1 Axes>"
      ]
     },
     "metadata": {},
     "output_type": "display_data"
    }
   ],
   "source": [
    "Population_pop = np.random.normal(daily_profits_xo_p.profits.mean(),daily_profits_xo_p.profits.std(),10000)\n",
    "Sample_pop = np.random.normal(daily_profits_xo_s.profits.mean(),daily_profits_xo_s.profits.std(),10000)\n",
    "\n",
    "ci = stats.norm.interval(0.95, daily_profits_xo_p.profits.mean(), daily_profits_xo_p.profits.std())\n",
    "plt.figure(figsize=(16,5))\n",
    "sns.distplot(Population_pop, label='Population Average Sales a Day *Pop',color='blue')\n",
    "sns.distplot(Sample_pop, label='Sample Average Sales a Day *Pop',color='red')\n",
    "\n",
    "plt.axvline(daily_profits_xo_p.profits.mean(), color='blue', linewidth=2, label='Population mean')\n",
    "plt.axvline(daily_profits_xo_s.profits.mean(), color='red',  linewidth=2, label='Sample mean')\n",
    "\n",
    "plt.axvline(ci[1], color='black', linestyle='dashed', linewidth=2, label='confidence threshold of 95%')\n",
    "plt.axvline(ci[0], color='black', linestyle='dashed', linewidth=2)\n",
    "\n",
    "plt.axvline(Population_pop.mean()+t_stat[0]*Population_pop.std(), color='gold', linestyle='dashed', linewidth=2, label = 'Alternative Hypothesis')\n",
    "plt.axvline(Population_pop.mean()-t_stat[0]*Population_pop.std(), color='gold', linestyle='dashed', linewidth=2)\n",
    "\n",
    "plt.title('Normal Distribution T-Test Independent', fontname='Franklin Gothic Medium', fontsize=18) # Adding Title\n",
    "plt.legend(loc =\"upper left\", ncol=1) # Adding Legend setting"
   ]
  },
  {
   "cell_type": "markdown",
   "metadata": {},
   "source": [
    "**Since our p-value is sligtly less than `0.05` (significant level), so we decide to reject the null hypothesis** and we can conclude that, in this case from the data after outliers is removed, profits loss is significantly increase. Everyting is totally OKe (based on rejection status) from the company is starting, 20th Jan 2019, but after the operational is running until Mid July 2019, the rejection status just keep increasing significantly which is not good."
   ]
  },
  {
   "cell_type": "markdown",
   "metadata": {},
   "source": [
    "# G. Conclusion"
   ]
  },
  {
   "cell_type": "markdown",
   "metadata": {},
   "source": [
    "Uji Hipotesis sudah menunjukkan bahwa toko online The Look, khususnya CEO harus mulai membuat plan dan strategy baru yang bisa diterapkan secepat mungkin dalam memperbaiki performance pengiriman produk (returned product issue) yang mengakibatkan hilangnya opportunity profits dalam jumlah yang tidak kecil alias signifikan, dan hal ini sudah terjadi di tahun yg sama saat toko sudah berdiri, yaitu pada bulan juli 2019 (meskipun toko ini sudah berjalan semenjak awal tahun 2019 sd saat ini)... dengan kata lain, toko ini sudah kehilangan profits di tahun pertama beroperasi, that's too bad and unfortunate.\n",
    "\n",
    "Oleh karena itu, ada beberapa indikasi yang bisa dilakukan dalam memperbaiki kondisi ini (sales profit loss due to product returned) di antaranya adalah selain memperbaiki kualitas pengiriman dan product (avoid product return), juga bisa diperbaiki dengan cara meningkatkan sales dan menurunkan biaya operasional (based on Data Visualization, etc).\n",
    "\n",
    "Meningkatkan sales :\n",
    "1. Approach more generation BB, karena user ini mendominasi profits generation\n",
    "2. Improve shipping process to delivered, sehingga jumlah profits yang mengalir kepada Toko menjadi lbh sehat\n",
    "3. Tingkatkan kualitas advertisement pada produk kategori dengan jumlah pembelian terbanyak\n",
    "4. Berikan alternate/new business scheme pada produk yang hanya disukai salah satu gender saja\n",
    "5. Kuatkan semua bisnis proses untuk optimasi penjualan kepada top 3 country\n",
    "6. Opsi buka cabang di negara TOP 3 untuk mengurangi jumlah status pengiriman yang lbh cepat\n",
    "7. Optimaze adds yang ada di website dan jaringan trafic source lainnya\n",
    "\n",
    "Menurunkan biaya operasional :\n",
    "1. Improve shipping business process until delivered (shipping partner, QA/QC review for product)\n",
    "2. Develop SOP yang mengatur kualitas produk yang akan dikirimkan (decrease returned product)\n",
    "3. Drop beberapa produk kategori yang sudah tidak diminati untuk optimisasi space & decrease maintenance cost\n",
    "4. Merge beberapa distribution center yang berdekatan sehingga dapat dilakukan optimisasi manpower dan aset\n",
    "\n",
    "Well, demikian alternatif strategy yang relefan dengan kondisi toko The Looks. CEO benar, untuk melihat ada sesuatu yang tidak beres di sistem penjualan dan operasional tokonya. Namun dengan kondisi seperti yang sudah dijabarkan sebelumnya, identifikasi kerugian dapat diatas dengan beberapa usulan strategy melalui peningkatan sales sekaligus penurunan biaya operasional."
   ]
  }
 ],
 "metadata": {
  "kernelspec": {
   "display_name": "Python 3.9.12 ('base')",
   "language": "python",
   "name": "python3"
  },
  "language_info": {
   "codemirror_mode": {
    "name": "ipython",
    "version": 3
   },
   "file_extension": ".py",
   "mimetype": "text/x-python",
   "name": "python",
   "nbconvert_exporter": "python",
   "pygments_lexer": "ipython3",
   "version": "3.9.12"
  },
  "orig_nbformat": 4,
  "vscode": {
   "interpreter": {
    "hash": "ad2bdc8ecc057115af97d19610ffacc2b4e99fae6737bb82f5d7fb13d2f2c186"
   }
  }
 },
 "nbformat": 4,
 "nbformat_minor": 2
}
